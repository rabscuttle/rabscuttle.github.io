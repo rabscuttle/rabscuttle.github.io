{
 "cells": [
  {
   "cell_type": "code",
   "execution_count": 1,
   "metadata": {},
   "outputs": [],
   "source": [
    "import matplotlib.pyplot as plt\n",
    "import numpy as np\n",
    "import pandas as pd\n",
    "import scipy.stats as stats\n",
    "import os"
   ]
  },
  {
   "cell_type": "code",
   "execution_count": 2,
   "metadata": {},
   "outputs": [
    {
     "data": {
      "text/html": [
       "<div>\n",
       "<style scoped>\n",
       "    .dataframe tbody tr th:only-of-type {\n",
       "        vertical-align: middle;\n",
       "    }\n",
       "\n",
       "    .dataframe tbody tr th {\n",
       "        vertical-align: top;\n",
       "    }\n",
       "\n",
       "    .dataframe thead th {\n",
       "        text-align: right;\n",
       "    }\n",
       "</style>\n",
       "<table border=\"1\" class=\"dataframe\">\n",
       "  <thead>\n",
       "    <tr style=\"text-align: right;\">\n",
       "      <th></th>\n",
       "      <th>animal_name</th>\n",
       "      <th>hair</th>\n",
       "      <th>feathers</th>\n",
       "      <th>eggs</th>\n",
       "      <th>milk</th>\n",
       "      <th>airborne</th>\n",
       "      <th>aquatic</th>\n",
       "      <th>predator</th>\n",
       "      <th>toothed</th>\n",
       "      <th>backbone</th>\n",
       "      <th>breathes</th>\n",
       "      <th>venomous</th>\n",
       "      <th>fins</th>\n",
       "      <th>legs</th>\n",
       "      <th>tail</th>\n",
       "      <th>domestic</th>\n",
       "      <th>catsize</th>\n",
       "      <th>class_type</th>\n",
       "      <th>class</th>\n",
       "    </tr>\n",
       "  </thead>\n",
       "  <tbody>\n",
       "    <tr>\n",
       "      <th>0</th>\n",
       "      <td>Aardvark</td>\n",
       "      <td>1</td>\n",
       "      <td>0</td>\n",
       "      <td>0</td>\n",
       "      <td>1</td>\n",
       "      <td>0</td>\n",
       "      <td>0</td>\n",
       "      <td>1</td>\n",
       "      <td>1</td>\n",
       "      <td>1</td>\n",
       "      <td>1</td>\n",
       "      <td>0</td>\n",
       "      <td>0</td>\n",
       "      <td>4</td>\n",
       "      <td>0</td>\n",
       "      <td>0</td>\n",
       "      <td>1</td>\n",
       "      <td>1</td>\n",
       "      <td>Mammal</td>\n",
       "    </tr>\n",
       "    <tr>\n",
       "      <th>1</th>\n",
       "      <td>Adder</td>\n",
       "      <td>0</td>\n",
       "      <td>0</td>\n",
       "      <td>1</td>\n",
       "      <td>0</td>\n",
       "      <td>0</td>\n",
       "      <td>0</td>\n",
       "      <td>1</td>\n",
       "      <td>1</td>\n",
       "      <td>1</td>\n",
       "      <td>1</td>\n",
       "      <td>1</td>\n",
       "      <td>0</td>\n",
       "      <td>0</td>\n",
       "      <td>1</td>\n",
       "      <td>0</td>\n",
       "      <td>1</td>\n",
       "      <td>3</td>\n",
       "      <td>Reptile</td>\n",
       "    </tr>\n",
       "    <tr>\n",
       "      <th>2</th>\n",
       "      <td>Alcatrazes Tree Frog</td>\n",
       "      <td>0</td>\n",
       "      <td>0</td>\n",
       "      <td>1</td>\n",
       "      <td>0</td>\n",
       "      <td>0</td>\n",
       "      <td>1</td>\n",
       "      <td>0</td>\n",
       "      <td>0</td>\n",
       "      <td>1</td>\n",
       "      <td>1</td>\n",
       "      <td>0</td>\n",
       "      <td>0</td>\n",
       "      <td>4</td>\n",
       "      <td>0</td>\n",
       "      <td>0</td>\n",
       "      <td>0</td>\n",
       "      <td>5</td>\n",
       "      <td>Amphibian</td>\n",
       "    </tr>\n",
       "    <tr>\n",
       "      <th>3</th>\n",
       "      <td>Alligator</td>\n",
       "      <td>0</td>\n",
       "      <td>0</td>\n",
       "      <td>1</td>\n",
       "      <td>0</td>\n",
       "      <td>0</td>\n",
       "      <td>1</td>\n",
       "      <td>1</td>\n",
       "      <td>1</td>\n",
       "      <td>1</td>\n",
       "      <td>1</td>\n",
       "      <td>0</td>\n",
       "      <td>0</td>\n",
       "      <td>4</td>\n",
       "      <td>1</td>\n",
       "      <td>0</td>\n",
       "      <td>1</td>\n",
       "      <td>3</td>\n",
       "      <td>Reptile</td>\n",
       "    </tr>\n",
       "    <tr>\n",
       "      <th>4</th>\n",
       "      <td>Amazon River Dolphin</td>\n",
       "      <td>0</td>\n",
       "      <td>0</td>\n",
       "      <td>0</td>\n",
       "      <td>1</td>\n",
       "      <td>0</td>\n",
       "      <td>1</td>\n",
       "      <td>1</td>\n",
       "      <td>1</td>\n",
       "      <td>1</td>\n",
       "      <td>1</td>\n",
       "      <td>0</td>\n",
       "      <td>1</td>\n",
       "      <td>0</td>\n",
       "      <td>1</td>\n",
       "      <td>0</td>\n",
       "      <td>0</td>\n",
       "      <td>1</td>\n",
       "      <td>Mammal</td>\n",
       "    </tr>\n",
       "    <tr>\n",
       "      <th>...</th>\n",
       "      <td>...</td>\n",
       "      <td>...</td>\n",
       "      <td>...</td>\n",
       "      <td>...</td>\n",
       "      <td>...</td>\n",
       "      <td>...</td>\n",
       "      <td>...</td>\n",
       "      <td>...</td>\n",
       "      <td>...</td>\n",
       "      <td>...</td>\n",
       "      <td>...</td>\n",
       "      <td>...</td>\n",
       "      <td>...</td>\n",
       "      <td>...</td>\n",
       "      <td>...</td>\n",
       "      <td>...</td>\n",
       "      <td>...</td>\n",
       "      <td>...</td>\n",
       "      <td>...</td>\n",
       "    </tr>\n",
       "    <tr>\n",
       "      <th>207</th>\n",
       "      <td>Wolf</td>\n",
       "      <td>1</td>\n",
       "      <td>0</td>\n",
       "      <td>0</td>\n",
       "      <td>1</td>\n",
       "      <td>0</td>\n",
       "      <td>0</td>\n",
       "      <td>1</td>\n",
       "      <td>1</td>\n",
       "      <td>1</td>\n",
       "      <td>1</td>\n",
       "      <td>0</td>\n",
       "      <td>0</td>\n",
       "      <td>4</td>\n",
       "      <td>1</td>\n",
       "      <td>0</td>\n",
       "      <td>1</td>\n",
       "      <td>1</td>\n",
       "      <td>Mammal</td>\n",
       "    </tr>\n",
       "    <tr>\n",
       "      <th>208</th>\n",
       "      <td>Woolly Monkey</td>\n",
       "      <td>1</td>\n",
       "      <td>0</td>\n",
       "      <td>0</td>\n",
       "      <td>1</td>\n",
       "      <td>0</td>\n",
       "      <td>0</td>\n",
       "      <td>0</td>\n",
       "      <td>1</td>\n",
       "      <td>1</td>\n",
       "      <td>1</td>\n",
       "      <td>0</td>\n",
       "      <td>0</td>\n",
       "      <td>4</td>\n",
       "      <td>1</td>\n",
       "      <td>0</td>\n",
       "      <td>0</td>\n",
       "      <td>1</td>\n",
       "      <td>Mammal</td>\n",
       "    </tr>\n",
       "    <tr>\n",
       "      <th>209</th>\n",
       "      <td>Worm</td>\n",
       "      <td>0</td>\n",
       "      <td>0</td>\n",
       "      <td>1</td>\n",
       "      <td>0</td>\n",
       "      <td>0</td>\n",
       "      <td>0</td>\n",
       "      <td>0</td>\n",
       "      <td>0</td>\n",
       "      <td>0</td>\n",
       "      <td>1</td>\n",
       "      <td>0</td>\n",
       "      <td>0</td>\n",
       "      <td>0</td>\n",
       "      <td>0</td>\n",
       "      <td>0</td>\n",
       "      <td>0</td>\n",
       "      <td>7</td>\n",
       "      <td>Invertebrate</td>\n",
       "    </tr>\n",
       "    <tr>\n",
       "      <th>210</th>\n",
       "      <td>Wren</td>\n",
       "      <td>0</td>\n",
       "      <td>1</td>\n",
       "      <td>1</td>\n",
       "      <td>0</td>\n",
       "      <td>1</td>\n",
       "      <td>0</td>\n",
       "      <td>0</td>\n",
       "      <td>0</td>\n",
       "      <td>1</td>\n",
       "      <td>1</td>\n",
       "      <td>0</td>\n",
       "      <td>0</td>\n",
       "      <td>2</td>\n",
       "      <td>1</td>\n",
       "      <td>0</td>\n",
       "      <td>0</td>\n",
       "      <td>2</td>\n",
       "      <td>Bird</td>\n",
       "    </tr>\n",
       "    <tr>\n",
       "      <th>211</th>\n",
       "      <td>Yellowspotted River Turtle</td>\n",
       "      <td>0</td>\n",
       "      <td>0</td>\n",
       "      <td>1</td>\n",
       "      <td>0</td>\n",
       "      <td>0</td>\n",
       "      <td>1</td>\n",
       "      <td>0</td>\n",
       "      <td>0</td>\n",
       "      <td>1</td>\n",
       "      <td>1</td>\n",
       "      <td>0</td>\n",
       "      <td>0</td>\n",
       "      <td>4</td>\n",
       "      <td>0</td>\n",
       "      <td>1</td>\n",
       "      <td>0</td>\n",
       "      <td>3</td>\n",
       "      <td>Reptile</td>\n",
       "    </tr>\n",
       "  </tbody>\n",
       "</table>\n",
       "<p>212 rows × 19 columns</p>\n",
       "</div>"
      ],
      "text/plain": [
       "                    animal_name  hair  feathers  eggs  milk  airborne  \\\n",
       "0                      Aardvark     1         0     0     1         0   \n",
       "1                         Adder     0         0     1     0         0   \n",
       "2          Alcatrazes Tree Frog     0         0     1     0         0   \n",
       "3                     Alligator     0         0     1     0         0   \n",
       "4          Amazon River Dolphin     0         0     0     1         0   \n",
       "..                          ...   ...       ...   ...   ...       ...   \n",
       "207                        Wolf     1         0     0     1         0   \n",
       "208               Woolly Monkey     1         0     0     1         0   \n",
       "209                        Worm     0         0     1     0         0   \n",
       "210                        Wren     0         1     1     0         1   \n",
       "211  Yellowspotted River Turtle     0         0     1     0         0   \n",
       "\n",
       "     aquatic  predator  toothed  backbone  breathes  venomous  fins  legs  \\\n",
       "0          0         1        1         1         1         0     0     4   \n",
       "1          0         1        1         1         1         1     0     0   \n",
       "2          1         0        0         1         1         0     0     4   \n",
       "3          1         1        1         1         1         0     0     4   \n",
       "4          1         1        1         1         1         0     1     0   \n",
       "..       ...       ...      ...       ...       ...       ...   ...   ...   \n",
       "207        0         1        1         1         1         0     0     4   \n",
       "208        0         0        1         1         1         0     0     4   \n",
       "209        0         0        0         0         1         0     0     0   \n",
       "210        0         0        0         1         1         0     0     2   \n",
       "211        1         0        0         1         1         0     0     4   \n",
       "\n",
       "     tail  domestic  catsize  class_type         class  \n",
       "0       0         0        1           1        Mammal  \n",
       "1       1         0        1           3       Reptile  \n",
       "2       0         0        0           5     Amphibian  \n",
       "3       1         0        1           3       Reptile  \n",
       "4       1         0        0           1        Mammal  \n",
       "..    ...       ...      ...         ...           ...  \n",
       "207     1         0        1           1        Mammal  \n",
       "208     1         0        0           1        Mammal  \n",
       "209     0         0        0           7  Invertebrate  \n",
       "210     1         0        0           2          Bird  \n",
       "211     0         1        0           3       Reptile  \n",
       "\n",
       "[212 rows x 19 columns]"
      ]
     },
     "execution_count": 2,
     "metadata": {},
     "output_type": "execute_result"
    }
   ],
   "source": [
    "# Get CSV file\n",
    "zoo = pd.read_csv(os.path.join('..','Resources', 'zoo.csv'))\n",
    "zoo"
   ]
  },
  {
   "cell_type": "code",
   "execution_count": 3,
   "metadata": {},
   "outputs": [
    {
     "data": {
      "text/html": [
       "<div>\n",
       "<style scoped>\n",
       "    .dataframe tbody tr th:only-of-type {\n",
       "        vertical-align: middle;\n",
       "    }\n",
       "\n",
       "    .dataframe tbody tr th {\n",
       "        vertical-align: top;\n",
       "    }\n",
       "\n",
       "    .dataframe thead th {\n",
       "        text-align: right;\n",
       "    }\n",
       "</style>\n",
       "<table border=\"1\" class=\"dataframe\">\n",
       "  <thead>\n",
       "    <tr style=\"text-align: right;\">\n",
       "      <th></th>\n",
       "      <th>hair</th>\n",
       "      <th>feathers</th>\n",
       "      <th>eggs</th>\n",
       "      <th>milk</th>\n",
       "      <th>airborne</th>\n",
       "      <th>aquatic</th>\n",
       "      <th>predator</th>\n",
       "      <th>toothed</th>\n",
       "      <th>backbone</th>\n",
       "      <th>breathes</th>\n",
       "      <th>venomous</th>\n",
       "      <th>fins</th>\n",
       "      <th>legs</th>\n",
       "      <th>tail</th>\n",
       "      <th>domestic</th>\n",
       "      <th>catsize</th>\n",
       "      <th>class_type</th>\n",
       "      <th>class</th>\n",
       "    </tr>\n",
       "    <tr>\n",
       "      <th>animal_name</th>\n",
       "      <th></th>\n",
       "      <th></th>\n",
       "      <th></th>\n",
       "      <th></th>\n",
       "      <th></th>\n",
       "      <th></th>\n",
       "      <th></th>\n",
       "      <th></th>\n",
       "      <th></th>\n",
       "      <th></th>\n",
       "      <th></th>\n",
       "      <th></th>\n",
       "      <th></th>\n",
       "      <th></th>\n",
       "      <th></th>\n",
       "      <th></th>\n",
       "      <th></th>\n",
       "      <th></th>\n",
       "    </tr>\n",
       "  </thead>\n",
       "  <tbody>\n",
       "    <tr>\n",
       "      <th>Aardvark</th>\n",
       "      <td>1</td>\n",
       "      <td>0</td>\n",
       "      <td>0</td>\n",
       "      <td>1</td>\n",
       "      <td>0</td>\n",
       "      <td>0</td>\n",
       "      <td>1</td>\n",
       "      <td>1</td>\n",
       "      <td>1</td>\n",
       "      <td>1</td>\n",
       "      <td>0</td>\n",
       "      <td>0</td>\n",
       "      <td>4</td>\n",
       "      <td>0</td>\n",
       "      <td>0</td>\n",
       "      <td>1</td>\n",
       "      <td>1</td>\n",
       "      <td>Mammal</td>\n",
       "    </tr>\n",
       "    <tr>\n",
       "      <th>Adder</th>\n",
       "      <td>0</td>\n",
       "      <td>0</td>\n",
       "      <td>1</td>\n",
       "      <td>0</td>\n",
       "      <td>0</td>\n",
       "      <td>0</td>\n",
       "      <td>1</td>\n",
       "      <td>1</td>\n",
       "      <td>1</td>\n",
       "      <td>1</td>\n",
       "      <td>1</td>\n",
       "      <td>0</td>\n",
       "      <td>0</td>\n",
       "      <td>1</td>\n",
       "      <td>0</td>\n",
       "      <td>1</td>\n",
       "      <td>3</td>\n",
       "      <td>Reptile</td>\n",
       "    </tr>\n",
       "    <tr>\n",
       "      <th>Alcatrazes Tree Frog</th>\n",
       "      <td>0</td>\n",
       "      <td>0</td>\n",
       "      <td>1</td>\n",
       "      <td>0</td>\n",
       "      <td>0</td>\n",
       "      <td>1</td>\n",
       "      <td>0</td>\n",
       "      <td>0</td>\n",
       "      <td>1</td>\n",
       "      <td>1</td>\n",
       "      <td>0</td>\n",
       "      <td>0</td>\n",
       "      <td>4</td>\n",
       "      <td>0</td>\n",
       "      <td>0</td>\n",
       "      <td>0</td>\n",
       "      <td>5</td>\n",
       "      <td>Amphibian</td>\n",
       "    </tr>\n",
       "    <tr>\n",
       "      <th>Alligator</th>\n",
       "      <td>0</td>\n",
       "      <td>0</td>\n",
       "      <td>1</td>\n",
       "      <td>0</td>\n",
       "      <td>0</td>\n",
       "      <td>1</td>\n",
       "      <td>1</td>\n",
       "      <td>1</td>\n",
       "      <td>1</td>\n",
       "      <td>1</td>\n",
       "      <td>0</td>\n",
       "      <td>0</td>\n",
       "      <td>4</td>\n",
       "      <td>1</td>\n",
       "      <td>0</td>\n",
       "      <td>1</td>\n",
       "      <td>3</td>\n",
       "      <td>Reptile</td>\n",
       "    </tr>\n",
       "    <tr>\n",
       "      <th>Amazon River Dolphin</th>\n",
       "      <td>0</td>\n",
       "      <td>0</td>\n",
       "      <td>0</td>\n",
       "      <td>1</td>\n",
       "      <td>0</td>\n",
       "      <td>1</td>\n",
       "      <td>1</td>\n",
       "      <td>1</td>\n",
       "      <td>1</td>\n",
       "      <td>1</td>\n",
       "      <td>0</td>\n",
       "      <td>1</td>\n",
       "      <td>0</td>\n",
       "      <td>1</td>\n",
       "      <td>0</td>\n",
       "      <td>0</td>\n",
       "      <td>1</td>\n",
       "      <td>Mammal</td>\n",
       "    </tr>\n",
       "    <tr>\n",
       "      <th>...</th>\n",
       "      <td>...</td>\n",
       "      <td>...</td>\n",
       "      <td>...</td>\n",
       "      <td>...</td>\n",
       "      <td>...</td>\n",
       "      <td>...</td>\n",
       "      <td>...</td>\n",
       "      <td>...</td>\n",
       "      <td>...</td>\n",
       "      <td>...</td>\n",
       "      <td>...</td>\n",
       "      <td>...</td>\n",
       "      <td>...</td>\n",
       "      <td>...</td>\n",
       "      <td>...</td>\n",
       "      <td>...</td>\n",
       "      <td>...</td>\n",
       "      <td>...</td>\n",
       "    </tr>\n",
       "    <tr>\n",
       "      <th>Wolf</th>\n",
       "      <td>1</td>\n",
       "      <td>0</td>\n",
       "      <td>0</td>\n",
       "      <td>1</td>\n",
       "      <td>0</td>\n",
       "      <td>0</td>\n",
       "      <td>1</td>\n",
       "      <td>1</td>\n",
       "      <td>1</td>\n",
       "      <td>1</td>\n",
       "      <td>0</td>\n",
       "      <td>0</td>\n",
       "      <td>4</td>\n",
       "      <td>1</td>\n",
       "      <td>0</td>\n",
       "      <td>1</td>\n",
       "      <td>1</td>\n",
       "      <td>Mammal</td>\n",
       "    </tr>\n",
       "    <tr>\n",
       "      <th>Woolly Monkey</th>\n",
       "      <td>1</td>\n",
       "      <td>0</td>\n",
       "      <td>0</td>\n",
       "      <td>1</td>\n",
       "      <td>0</td>\n",
       "      <td>0</td>\n",
       "      <td>0</td>\n",
       "      <td>1</td>\n",
       "      <td>1</td>\n",
       "      <td>1</td>\n",
       "      <td>0</td>\n",
       "      <td>0</td>\n",
       "      <td>4</td>\n",
       "      <td>1</td>\n",
       "      <td>0</td>\n",
       "      <td>0</td>\n",
       "      <td>1</td>\n",
       "      <td>Mammal</td>\n",
       "    </tr>\n",
       "    <tr>\n",
       "      <th>Worm</th>\n",
       "      <td>0</td>\n",
       "      <td>0</td>\n",
       "      <td>1</td>\n",
       "      <td>0</td>\n",
       "      <td>0</td>\n",
       "      <td>0</td>\n",
       "      <td>0</td>\n",
       "      <td>0</td>\n",
       "      <td>0</td>\n",
       "      <td>1</td>\n",
       "      <td>0</td>\n",
       "      <td>0</td>\n",
       "      <td>0</td>\n",
       "      <td>0</td>\n",
       "      <td>0</td>\n",
       "      <td>0</td>\n",
       "      <td>7</td>\n",
       "      <td>Invertebrate</td>\n",
       "    </tr>\n",
       "    <tr>\n",
       "      <th>Wren</th>\n",
       "      <td>0</td>\n",
       "      <td>1</td>\n",
       "      <td>1</td>\n",
       "      <td>0</td>\n",
       "      <td>1</td>\n",
       "      <td>0</td>\n",
       "      <td>0</td>\n",
       "      <td>0</td>\n",
       "      <td>1</td>\n",
       "      <td>1</td>\n",
       "      <td>0</td>\n",
       "      <td>0</td>\n",
       "      <td>2</td>\n",
       "      <td>1</td>\n",
       "      <td>0</td>\n",
       "      <td>0</td>\n",
       "      <td>2</td>\n",
       "      <td>Bird</td>\n",
       "    </tr>\n",
       "    <tr>\n",
       "      <th>Yellowspotted River Turtle</th>\n",
       "      <td>0</td>\n",
       "      <td>0</td>\n",
       "      <td>1</td>\n",
       "      <td>0</td>\n",
       "      <td>0</td>\n",
       "      <td>1</td>\n",
       "      <td>0</td>\n",
       "      <td>0</td>\n",
       "      <td>1</td>\n",
       "      <td>1</td>\n",
       "      <td>0</td>\n",
       "      <td>0</td>\n",
       "      <td>4</td>\n",
       "      <td>0</td>\n",
       "      <td>1</td>\n",
       "      <td>0</td>\n",
       "      <td>3</td>\n",
       "      <td>Reptile</td>\n",
       "    </tr>\n",
       "  </tbody>\n",
       "</table>\n",
       "<p>212 rows × 18 columns</p>\n",
       "</div>"
      ],
      "text/plain": [
       "                            hair  feathers  eggs  milk  airborne  aquatic  \\\n",
       "animal_name                                                                 \n",
       "Aardvark                       1         0     0     1         0        0   \n",
       "Adder                          0         0     1     0         0        0   \n",
       "Alcatrazes Tree Frog           0         0     1     0         0        1   \n",
       "Alligator                      0         0     1     0         0        1   \n",
       "Amazon River Dolphin           0         0     0     1         0        1   \n",
       "...                          ...       ...   ...   ...       ...      ...   \n",
       "Wolf                           1         0     0     1         0        0   \n",
       "Woolly Monkey                  1         0     0     1         0        0   \n",
       "Worm                           0         0     1     0         0        0   \n",
       "Wren                           0         1     1     0         1        0   \n",
       "Yellowspotted River Turtle     0         0     1     0         0        1   \n",
       "\n",
       "                            predator  toothed  backbone  breathes  venomous  \\\n",
       "animal_name                                                                   \n",
       "Aardvark                           1        1         1         1         0   \n",
       "Adder                              1        1         1         1         1   \n",
       "Alcatrazes Tree Frog               0        0         1         1         0   \n",
       "Alligator                          1        1         1         1         0   \n",
       "Amazon River Dolphin               1        1         1         1         0   \n",
       "...                              ...      ...       ...       ...       ...   \n",
       "Wolf                               1        1         1         1         0   \n",
       "Woolly Monkey                      0        1         1         1         0   \n",
       "Worm                               0        0         0         1         0   \n",
       "Wren                               0        0         1         1         0   \n",
       "Yellowspotted River Turtle         0        0         1         1         0   \n",
       "\n",
       "                            fins  legs  tail  domestic  catsize  class_type  \\\n",
       "animal_name                                                                   \n",
       "Aardvark                       0     4     0         0        1           1   \n",
       "Adder                          0     0     1         0        1           3   \n",
       "Alcatrazes Tree Frog           0     4     0         0        0           5   \n",
       "Alligator                      0     4     1         0        1           3   \n",
       "Amazon River Dolphin           1     0     1         0        0           1   \n",
       "...                          ...   ...   ...       ...      ...         ...   \n",
       "Wolf                           0     4     1         0        1           1   \n",
       "Woolly Monkey                  0     4     1         0        0           1   \n",
       "Worm                           0     0     0         0        0           7   \n",
       "Wren                           0     2     1         0        0           2   \n",
       "Yellowspotted River Turtle     0     4     0         1        0           3   \n",
       "\n",
       "                                   class  \n",
       "animal_name                               \n",
       "Aardvark                          Mammal  \n",
       "Adder                            Reptile  \n",
       "Alcatrazes Tree Frog           Amphibian  \n",
       "Alligator                        Reptile  \n",
       "Amazon River Dolphin              Mammal  \n",
       "...                                  ...  \n",
       "Wolf                              Mammal  \n",
       "Woolly Monkey                     Mammal  \n",
       "Worm                        Invertebrate  \n",
       "Wren                                Bird  \n",
       "Yellowspotted River Turtle       Reptile  \n",
       "\n",
       "[212 rows x 18 columns]"
      ]
     },
     "execution_count": 3,
     "metadata": {},
     "output_type": "execute_result"
    }
   ],
   "source": [
    "zoo_df=zoo.set_index('animal_name')\n",
    "zoo_df"
   ]
  },
  {
   "cell_type": "code",
   "execution_count": 4,
   "metadata": {},
   "outputs": [
    {
     "data": {
      "text/plain": [
       "Mammal          59\n",
       "Bird            40\n",
       "Fish            28\n",
       "Bug             25\n",
       "Reptile         24\n",
       "Invertebrate    20\n",
       "Amphibian       16\n",
       "Name: class, dtype: int64"
      ]
     },
     "execution_count": 4,
     "metadata": {},
     "output_type": "execute_result"
    }
   ],
   "source": [
    "# Data Summary\n",
    "zoo_df[\"class\"].value_counts()\n"
   ]
  },
  {
   "cell_type": "code",
   "execution_count": 5,
   "metadata": {},
   "outputs": [],
   "source": [
    "# Data for predictions\n",
    "kangaroo = np.array([[1,0,0,1,0,0,0,1,1,1,0,0,2,1,0,1]])\n",
    "bald_eagle = np.array([[0,1,1,0,1,0,1,0,1,1,0,0,2,1,0,0]])\n",
    "rattle_snake = np.array([[0,0,1,0,0,0,1,1,1,1,1,0,0,1,0,0,]])\n",
    "goldfish = np.array([[0,0,1,0,0,1,0,0,1,0,0,1,0,1,1,0]])\n",
    "mountain_chicken_frog = np.array([[0,0,1,0,0,1,1,0,1,1,0,0,4,0,0,0]])\n",
    "vampire_moth = np.array([[0,0,1,0,1,0,1,0,0,1,0,0,6,0,0,0]])\n",
    "coral = np.array([[0,0,0,0,0,1,0,0,0,0,0,0,0,0,0,0]])\n",
    "sea_turtle = np.array([[0,0,1,0,0,1,1,0,1,0,0,1,4,1,0,1]])"
   ]
  },
  {
   "cell_type": "code",
   "execution_count": 6,
   "metadata": {},
   "outputs": [
    {
     "name": "stdout",
     "output_type": "stream",
     "text": [
      "(212, 16) (212,)\n"
     ]
    }
   ],
   "source": [
    "# Assign X and y\n",
    "X = zoo_df.drop([\"class_type\",\"class\"], axis=1)\n",
    "y = zoo_df[\"class_type\"]\n",
    "print (X.shape, y.shape)"
   ]
  },
  {
   "cell_type": "code",
   "execution_count": 7,
   "metadata": {},
   "outputs": [],
   "source": [
    "# Split data into training and testing sets\n",
    "from sklearn.model_selection import train_test_split\n",
    "\n",
    "X_train, X_test, y_train, y_test = train_test_split(X, y, random_state=1)\n"
   ]
  },
  {
   "cell_type": "markdown",
   "metadata": {},
   "source": [
    "#### Run chi square test on training/testing data sets"
   ]
  },
  {
   "cell_type": "code",
   "execution_count": 8,
   "metadata": {},
   "outputs": [],
   "source": [
    "# Run chi-squared test to look for statistical significance between overall data set, and training and testing data sets\n",
    "#Get counts of values in training and testing sets\n",
    "y_train_df = pd.DataFrame(y_train)\n",
    "y_train_counts_df = pd.DataFrame(y_train_df.value_counts())\n",
    "\n",
    "y_test_df = pd.DataFrame(y_test)\n",
    "y_test_counts_df = pd.DataFrame(y_test_df.value_counts())\n",
    "y_test_counts_df\n",
    "\n",
    "#Get counts of values for overall zoo dataset\n",
    "zoo_counts_train_df = pd.DataFrame((zoo_df[\"class_type\"].value_counts()*0.75)).astype(int)\n",
    "zoo_counts_train_df = zoo_counts_train_df.rename(columns= {\"class_type\": \"count\"})\n",
    "zoo_counts_train_df.index.names = [\"class_type\"]\n",
    "zoo_counts_test_df = pd.DataFrame((zoo_df[\"class_type\"].value_counts()*0.25)).astype(int)\n",
    "zoo_counts_test_df = zoo_counts_test_df.rename(columns= {\"class_type\": \"count\"})\n",
    "zoo_counts_test_df.index.names = [\"class_type\"]\n",
    "\n",
    "# Merge counts into training dataframe and testing dataframe\n",
    "merged_training_df = pd.merge(y_train_counts_df, zoo_counts_train_df, on=\"class_type\")\n",
    "merged_training_df = merged_training_df.rename(columns= {0:\"Actual\", \"count\":\"Expected\"})\n",
    "\n",
    "merged_testing_df = pd.merge(y_test_counts_df, zoo_counts_test_df, on=\"class_type\")\n",
    "merged_testing_df = merged_testing_df.rename(columns= {0:\"Actual\", \"count\":\"Expected\"})"
   ]
  },
  {
   "cell_type": "code",
   "execution_count": 9,
   "metadata": {},
   "outputs": [
    {
     "data": {
      "text/plain": [
       "12.591587243743977"
      ]
     },
     "execution_count": 9,
     "metadata": {},
     "output_type": "execute_result"
    }
   ],
   "source": [
    "# Find critical value\n",
    "# With 7 rows, the degree of freedom is 6\n",
    "# With a p-value of 0.05, the confidence level is 1.00 - 0.05 = 0.95\n",
    "critical_value = stats.chi2.ppf(q = 0.95, df = 6)\n",
    "critical_value\n"
   ]
  },
  {
   "cell_type": "code",
   "execution_count": 10,
   "metadata": {},
   "outputs": [
    {
     "data": {
      "text/html": [
       "<div>\n",
       "<style scoped>\n",
       "    .dataframe tbody tr th:only-of-type {\n",
       "        vertical-align: middle;\n",
       "    }\n",
       "\n",
       "    .dataframe tbody tr th {\n",
       "        vertical-align: top;\n",
       "    }\n",
       "\n",
       "    .dataframe thead th {\n",
       "        text-align: right;\n",
       "    }\n",
       "</style>\n",
       "<table border=\"1\" class=\"dataframe\">\n",
       "  <thead>\n",
       "    <tr style=\"text-align: right;\">\n",
       "      <th></th>\n",
       "      <th>Actual</th>\n",
       "      <th>Expected</th>\n",
       "    </tr>\n",
       "    <tr>\n",
       "      <th>class_type</th>\n",
       "      <th></th>\n",
       "      <th></th>\n",
       "    </tr>\n",
       "  </thead>\n",
       "  <tbody>\n",
       "    <tr>\n",
       "      <th>1</th>\n",
       "      <td>41</td>\n",
       "      <td>44</td>\n",
       "    </tr>\n",
       "    <tr>\n",
       "      <th>2</th>\n",
       "      <td>30</td>\n",
       "      <td>30</td>\n",
       "    </tr>\n",
       "    <tr>\n",
       "      <th>4</th>\n",
       "      <td>22</td>\n",
       "      <td>21</td>\n",
       "    </tr>\n",
       "    <tr>\n",
       "      <th>3</th>\n",
       "      <td>20</td>\n",
       "      <td>18</td>\n",
       "    </tr>\n",
       "    <tr>\n",
       "      <th>6</th>\n",
       "      <td>19</td>\n",
       "      <td>18</td>\n",
       "    </tr>\n",
       "    <tr>\n",
       "      <th>7</th>\n",
       "      <td>14</td>\n",
       "      <td>15</td>\n",
       "    </tr>\n",
       "    <tr>\n",
       "      <th>5</th>\n",
       "      <td>13</td>\n",
       "      <td>12</td>\n",
       "    </tr>\n",
       "  </tbody>\n",
       "</table>\n",
       "</div>"
      ],
      "text/plain": [
       "            Actual  Expected\n",
       "class_type                  \n",
       "1               41        44\n",
       "2               30        30\n",
       "4               22        21\n",
       "3               20        18\n",
       "6               19        18\n",
       "7               14        15\n",
       "5               13        12"
      ]
     },
     "execution_count": 10,
     "metadata": {},
     "output_type": "execute_result"
    }
   ],
   "source": [
    "merged_training_df"
   ]
  },
  {
   "cell_type": "code",
   "execution_count": 11,
   "metadata": {},
   "outputs": [
    {
     "data": {
      "text/html": [
       "<div>\n",
       "<style scoped>\n",
       "    .dataframe tbody tr th:only-of-type {\n",
       "        vertical-align: middle;\n",
       "    }\n",
       "\n",
       "    .dataframe tbody tr th {\n",
       "        vertical-align: top;\n",
       "    }\n",
       "\n",
       "    .dataframe thead th {\n",
       "        text-align: right;\n",
       "    }\n",
       "</style>\n",
       "<table border=\"1\" class=\"dataframe\">\n",
       "  <thead>\n",
       "    <tr style=\"text-align: right;\">\n",
       "      <th></th>\n",
       "      <th>Actual</th>\n",
       "      <th>Expected</th>\n",
       "    </tr>\n",
       "    <tr>\n",
       "      <th>class_type</th>\n",
       "      <th></th>\n",
       "      <th></th>\n",
       "    </tr>\n",
       "  </thead>\n",
       "  <tbody>\n",
       "    <tr>\n",
       "      <th>1</th>\n",
       "      <td>18</td>\n",
       "      <td>14</td>\n",
       "    </tr>\n",
       "    <tr>\n",
       "      <th>2</th>\n",
       "      <td>10</td>\n",
       "      <td>10</td>\n",
       "    </tr>\n",
       "    <tr>\n",
       "      <th>7</th>\n",
       "      <td>6</td>\n",
       "      <td>5</td>\n",
       "    </tr>\n",
       "    <tr>\n",
       "      <th>6</th>\n",
       "      <td>6</td>\n",
       "      <td>6</td>\n",
       "    </tr>\n",
       "    <tr>\n",
       "      <th>4</th>\n",
       "      <td>6</td>\n",
       "      <td>7</td>\n",
       "    </tr>\n",
       "    <tr>\n",
       "      <th>3</th>\n",
       "      <td>4</td>\n",
       "      <td>6</td>\n",
       "    </tr>\n",
       "    <tr>\n",
       "      <th>5</th>\n",
       "      <td>3</td>\n",
       "      <td>4</td>\n",
       "    </tr>\n",
       "  </tbody>\n",
       "</table>\n",
       "</div>"
      ],
      "text/plain": [
       "            Actual  Expected\n",
       "class_type                  \n",
       "1               18        14\n",
       "2               10        10\n",
       "7                6         5\n",
       "6                6         6\n",
       "4                6         7\n",
       "3                4         6\n",
       "5                3         4"
      ]
     },
     "execution_count": 11,
     "metadata": {},
     "output_type": "execute_result"
    }
   ],
   "source": [
    "merged_testing_df"
   ]
  },
  {
   "cell_type": "code",
   "execution_count": 12,
   "metadata": {},
   "outputs": [
    {
     "data": {
      "text/plain": [
       "Power_divergenceResult(statistic=0.67994227994228, pvalue=0.9949137443848849)"
      ]
     },
     "execution_count": 12,
     "metadata": {},
     "output_type": "execute_result"
    }
   ],
   "source": [
    "# Run the chi square test on training data\n",
    "stats.chisquare(merged_training_df['Actual'], merged_training_df['Expected'])"
   ]
  },
  {
   "cell_type": "code",
   "execution_count": 13,
   "metadata": {},
   "outputs": [
    {
     "data": {
      "text/plain": [
       "Power_divergenceResult(statistic=2.4023809523809523, pvalue=0.8792288299268616)"
      ]
     },
     "execution_count": 13,
     "metadata": {},
     "output_type": "execute_result"
    }
   ],
   "source": [
    "# Run the chi square test on testing data\n",
    "stats.chisquare(merged_testing_df['Actual'], merged_testing_df['Expected'])"
   ]
  },
  {
   "cell_type": "markdown",
   "metadata": {},
   "source": [
    "### Feature Selection"
   ]
  },
  {
   "cell_type": "markdown",
   "metadata": {},
   "source": [
    "Explanation and Code from https://machinelearningmastery.com/feature-selection-with-categorical-data/"
   ]
  },
  {
   "cell_type": "markdown",
   "metadata": {},
   "source": [
    "#### Chi-Squared"
   ]
  },
  {
   "cell_type": "code",
   "execution_count": 14,
   "metadata": {},
   "outputs": [
    {
     "data": {
      "text/html": [
       "<div>\n",
       "<style scoped>\n",
       "    .dataframe tbody tr th:only-of-type {\n",
       "        vertical-align: middle;\n",
       "    }\n",
       "\n",
       "    .dataframe tbody tr th {\n",
       "        vertical-align: top;\n",
       "    }\n",
       "\n",
       "    .dataframe thead th {\n",
       "        text-align: right;\n",
       "    }\n",
       "</style>\n",
       "<table border=\"1\" class=\"dataframe\">\n",
       "  <thead>\n",
       "    <tr style=\"text-align: right;\">\n",
       "      <th></th>\n",
       "      <th>Feature</th>\n",
       "      <th>Score</th>\n",
       "    </tr>\n",
       "  </thead>\n",
       "  <tbody>\n",
       "    <tr>\n",
       "      <th>12</th>\n",
       "      <td>legs</td>\n",
       "      <td>149.602969</td>\n",
       "    </tr>\n",
       "    <tr>\n",
       "      <th>1</th>\n",
       "      <td>feathers</td>\n",
       "      <td>129.000000</td>\n",
       "    </tr>\n",
       "    <tr>\n",
       "      <th>3</th>\n",
       "      <td>milk</td>\n",
       "      <td>118.000000</td>\n",
       "    </tr>\n",
       "    <tr>\n",
       "      <th>11</th>\n",
       "      <td>fins</td>\n",
       "      <td>110.924953</td>\n",
       "    </tr>\n",
       "    <tr>\n",
       "      <th>0</th>\n",
       "      <td>hair</td>\n",
       "      <td>87.764159</td>\n",
       "    </tr>\n",
       "    <tr>\n",
       "      <th>4</th>\n",
       "      <td>airborne</td>\n",
       "      <td>80.176164</td>\n",
       "    </tr>\n",
       "    <tr>\n",
       "      <th>7</th>\n",
       "      <td>toothed</td>\n",
       "      <td>56.201040</td>\n",
       "    </tr>\n",
       "    <tr>\n",
       "      <th>5</th>\n",
       "      <td>aquatic</td>\n",
       "      <td>50.629805</td>\n",
       "    </tr>\n",
       "    <tr>\n",
       "      <th>2</th>\n",
       "      <td>eggs</td>\n",
       "      <td>38.121241</td>\n",
       "    </tr>\n",
       "    <tr>\n",
       "      <th>13</th>\n",
       "      <td>tail</td>\n",
       "      <td>36.173774</td>\n",
       "    </tr>\n",
       "    <tr>\n",
       "      <th>8</th>\n",
       "      <td>backbone</td>\n",
       "      <td>33.000000</td>\n",
       "    </tr>\n",
       "    <tr>\n",
       "      <th>15</th>\n",
       "      <td>catsize</td>\n",
       "      <td>23.362712</td>\n",
       "    </tr>\n",
       "    <tr>\n",
       "      <th>9</th>\n",
       "      <td>breathes</td>\n",
       "      <td>21.526980</td>\n",
       "    </tr>\n",
       "    <tr>\n",
       "      <th>10</th>\n",
       "      <td>venomous</td>\n",
       "      <td>20.969100</td>\n",
       "    </tr>\n",
       "    <tr>\n",
       "      <th>6</th>\n",
       "      <td>predator</td>\n",
       "      <td>7.574849</td>\n",
       "    </tr>\n",
       "    <tr>\n",
       "      <th>14</th>\n",
       "      <td>domestic</td>\n",
       "      <td>6.839046</td>\n",
       "    </tr>\n",
       "  </tbody>\n",
       "</table>\n",
       "</div>"
      ],
      "text/plain": [
       "     Feature       Score\n",
       "12      legs  149.602969\n",
       "1   feathers  129.000000\n",
       "3       milk  118.000000\n",
       "11      fins  110.924953\n",
       "0       hair   87.764159\n",
       "4   airborne   80.176164\n",
       "7    toothed   56.201040\n",
       "5    aquatic   50.629805\n",
       "2       eggs   38.121241\n",
       "13      tail   36.173774\n",
       "8   backbone   33.000000\n",
       "15   catsize   23.362712\n",
       "9   breathes   21.526980\n",
       "10  venomous   20.969100\n",
       "6   predator    7.574849\n",
       "14  domestic    6.839046"
      ]
     },
     "execution_count": 14,
     "metadata": {},
     "output_type": "execute_result"
    }
   ],
   "source": [
    "from sklearn.feature_selection import SelectKBest, chi2, mutual_info_classif\n",
    "\n",
    "fs_chi = SelectKBest(score_func=chi2, k='all')\n",
    "fit_chi = fs_chi.fit(X_train, y_train)\n",
    "\n",
    "# Create dataframe with results\n",
    "chi_scores_df = pd.DataFrame(fit_chi.scores_)\n",
    "chi_columns_df = pd.DataFrame(X.columns)\n",
    "\n",
    "features_df = pd.concat([chi_columns_df, chi_scores_df], axis=1)\n",
    "features_df.columns = [\"Feature\", \"Score\"]\n",
    "features_df = features_df.sort_values(by=['Score'], ascending=False)\n",
    "features_df"
   ]
  },
  {
   "cell_type": "markdown",
   "metadata": {},
   "source": [
    "#### Mutual Information"
   ]
  },
  {
   "cell_type": "code",
   "execution_count": 15,
   "metadata": {},
   "outputs": [
    {
     "data": {
      "text/html": [
       "<div>\n",
       "<style scoped>\n",
       "    .dataframe tbody tr th:only-of-type {\n",
       "        vertical-align: middle;\n",
       "    }\n",
       "\n",
       "    .dataframe tbody tr th {\n",
       "        vertical-align: top;\n",
       "    }\n",
       "\n",
       "    .dataframe thead th {\n",
       "        text-align: right;\n",
       "    }\n",
       "</style>\n",
       "<table border=\"1\" class=\"dataframe\">\n",
       "  <thead>\n",
       "    <tr style=\"text-align: right;\">\n",
       "      <th></th>\n",
       "      <th>Feature</th>\n",
       "      <th>Score</th>\n",
       "    </tr>\n",
       "  </thead>\n",
       "  <tbody>\n",
       "    <tr>\n",
       "      <th>12</th>\n",
       "      <td>legs</td>\n",
       "      <td>1.032987</td>\n",
       "    </tr>\n",
       "    <tr>\n",
       "      <th>3</th>\n",
       "      <td>milk</td>\n",
       "      <td>0.632456</td>\n",
       "    </tr>\n",
       "    <tr>\n",
       "      <th>1</th>\n",
       "      <td>feathers</td>\n",
       "      <td>0.498735</td>\n",
       "    </tr>\n",
       "    <tr>\n",
       "      <th>2</th>\n",
       "      <td>eggs</td>\n",
       "      <td>0.472852</td>\n",
       "    </tr>\n",
       "    <tr>\n",
       "      <th>8</th>\n",
       "      <td>backbone</td>\n",
       "      <td>0.460027</td>\n",
       "    </tr>\n",
       "    <tr>\n",
       "      <th>7</th>\n",
       "      <td>toothed</td>\n",
       "      <td>0.442618</td>\n",
       "    </tr>\n",
       "    <tr>\n",
       "      <th>9</th>\n",
       "      <td>breathes</td>\n",
       "      <td>0.437841</td>\n",
       "    </tr>\n",
       "    <tr>\n",
       "      <th>11</th>\n",
       "      <td>fins</td>\n",
       "      <td>0.434658</td>\n",
       "    </tr>\n",
       "    <tr>\n",
       "      <th>13</th>\n",
       "      <td>tail</td>\n",
       "      <td>0.421383</td>\n",
       "    </tr>\n",
       "    <tr>\n",
       "      <th>0</th>\n",
       "      <td>hair</td>\n",
       "      <td>0.390136</td>\n",
       "    </tr>\n",
       "    <tr>\n",
       "      <th>4</th>\n",
       "      <td>airborne</td>\n",
       "      <td>0.358064</td>\n",
       "    </tr>\n",
       "    <tr>\n",
       "      <th>5</th>\n",
       "      <td>aquatic</td>\n",
       "      <td>0.343735</td>\n",
       "    </tr>\n",
       "    <tr>\n",
       "      <th>15</th>\n",
       "      <td>catsize</td>\n",
       "      <td>0.169327</td>\n",
       "    </tr>\n",
       "    <tr>\n",
       "      <th>6</th>\n",
       "      <td>predator</td>\n",
       "      <td>0.092680</td>\n",
       "    </tr>\n",
       "    <tr>\n",
       "      <th>10</th>\n",
       "      <td>venomous</td>\n",
       "      <td>0.046457</td>\n",
       "    </tr>\n",
       "    <tr>\n",
       "      <th>14</th>\n",
       "      <td>domestic</td>\n",
       "      <td>0.000000</td>\n",
       "    </tr>\n",
       "  </tbody>\n",
       "</table>\n",
       "</div>"
      ],
      "text/plain": [
       "     Feature     Score\n",
       "12      legs  1.032987\n",
       "3       milk  0.632456\n",
       "1   feathers  0.498735\n",
       "2       eggs  0.472852\n",
       "8   backbone  0.460027\n",
       "7    toothed  0.442618\n",
       "9   breathes  0.437841\n",
       "11      fins  0.434658\n",
       "13      tail  0.421383\n",
       "0       hair  0.390136\n",
       "4   airborne  0.358064\n",
       "5    aquatic  0.343735\n",
       "15   catsize  0.169327\n",
       "6   predator  0.092680\n",
       "10  venomous  0.046457\n",
       "14  domestic  0.000000"
      ]
     },
     "execution_count": 15,
     "metadata": {},
     "output_type": "execute_result"
    }
   ],
   "source": [
    "MI_fs = SelectKBest(score_func=mutual_info_classif, k='all')\n",
    "MI_fs_fit = MI_fs.fit(X_train, y_train)\n",
    "X_train_MI_fs = MI_fs.transform(X_train)\n",
    "X_test_MI_fs = MI_fs.transform(X_test)\n",
    "\n",
    "#Create dataframe with results\n",
    "MI_scores_df = pd.DataFrame(MI_fs_fit.scores_)\n",
    "MI_columns_df = pd.DataFrame(X.columns)\n",
    "\n",
    "MI_features_df = pd.concat([MI_columns_df, MI_scores_df], axis=1)\n",
    "MI_features_df.columns = [\"Feature\", \"Score\"]\n",
    "MI_features_df = MI_features_df.sort_values(by=['Score'], ascending=False)\n",
    "MI_features_df"
   ]
  },
  {
   "cell_type": "markdown",
   "metadata": {},
   "source": [
    "### Logistic Regression"
   ]
  },
  {
   "cell_type": "code",
   "execution_count": 16,
   "metadata": {},
   "outputs": [
    {
     "data": {
      "text/plain": [
       "LogisticRegression(max_iter=500)"
      ]
     },
     "execution_count": 16,
     "metadata": {},
     "output_type": "execute_result"
    }
   ],
   "source": [
    "from sklearn.linear_model import LogisticRegression\n",
    "\n",
    "classifier = LogisticRegression(max_iter=500)\n",
    "classifier.fit(X_train, y_train)"
   ]
  },
  {
   "cell_type": "code",
   "execution_count": 17,
   "metadata": {},
   "outputs": [
    {
     "name": "stdout",
     "output_type": "stream",
     "text": [
      "Training score: 0.9748427672955975\n",
      "Testing score: 0.9245283018867925\n"
     ]
    }
   ],
   "source": [
    "print(f\"Training score: {classifier.score(X_train, y_train)}\")\n",
    "print(f\"Testing score: {classifier.score(X_test, y_test)}\")"
   ]
  },
  {
   "cell_type": "code",
   "execution_count": 18,
   "metadata": {},
   "outputs": [
    {
     "name": "stdout",
     "output_type": "stream",
     "text": [
      "Predictions\n",
      "Kangaroo: [1]\n",
      "Bald Eagle: [2]\n",
      "Rattle Snake: [3]\n",
      "Goldfish: [4]\n",
      "Mountain Chicken Frog: [5]\n",
      "Vampire Moth: [6]\n",
      "Coral: [7]\n",
      "Sea Turtle: [4]\n"
     ]
    }
   ],
   "source": [
    "print(f\"Predictions\")\n",
    "print(f\"Kangaroo: {classifier.predict(kangaroo)}\")\n",
    "print(f\"Bald Eagle: {classifier.predict(bald_eagle)}\")\n",
    "print(f\"Rattle Snake: {classifier.predict(rattle_snake)}\")\n",
    "print(f\"Goldfish: {classifier.predict(goldfish)}\")\n",
    "print(f\"Mountain Chicken Frog: {classifier.predict(mountain_chicken_frog)}\")\n",
    "print(f\"Vampire Moth: {classifier.predict(vampire_moth)}\")\n",
    "print(f\"Coral: {classifier.predict(coral)}\")\n",
    "print(f\"Sea Turtle: {classifier.predict(sea_turtle)}\")"
   ]
  },
  {
   "cell_type": "code",
   "execution_count": 19,
   "metadata": {},
   "outputs": [
    {
     "data": {
      "text/html": [
       "<div>\n",
       "<style scoped>\n",
       "    .dataframe tbody tr th:only-of-type {\n",
       "        vertical-align: middle;\n",
       "    }\n",
       "\n",
       "    .dataframe tbody tr th {\n",
       "        vertical-align: top;\n",
       "    }\n",
       "\n",
       "    .dataframe thead th {\n",
       "        text-align: right;\n",
       "    }\n",
       "</style>\n",
       "<table border=\"1\" class=\"dataframe\">\n",
       "  <thead>\n",
       "    <tr style=\"text-align: right;\">\n",
       "      <th></th>\n",
       "      <th>Prediction</th>\n",
       "      <th>Actual</th>\n",
       "    </tr>\n",
       "    <tr>\n",
       "      <th>animal_name</th>\n",
       "      <th></th>\n",
       "      <th></th>\n",
       "    </tr>\n",
       "  </thead>\n",
       "  <tbody>\n",
       "    <tr>\n",
       "      <th>Crow</th>\n",
       "      <td>2</td>\n",
       "      <td>2</td>\n",
       "    </tr>\n",
       "    <tr>\n",
       "      <th>Toad</th>\n",
       "      <td>5</td>\n",
       "      <td>5</td>\n",
       "    </tr>\n",
       "    <tr>\n",
       "      <th>Dragonfly</th>\n",
       "      <td>6</td>\n",
       "      <td>6</td>\n",
       "    </tr>\n",
       "    <tr>\n",
       "      <th>Kiwi</th>\n",
       "      <td>2</td>\n",
       "      <td>2</td>\n",
       "    </tr>\n",
       "    <tr>\n",
       "      <th>Chub</th>\n",
       "      <td>4</td>\n",
       "      <td>4</td>\n",
       "    </tr>\n",
       "  </tbody>\n",
       "</table>\n",
       "</div>"
      ],
      "text/plain": [
       "             Prediction  Actual\n",
       "animal_name                    \n",
       "Crow                  2       2\n",
       "Toad                  5       5\n",
       "Dragonfly             6       6\n",
       "Kiwi                  2       2\n",
       "Chub                  4       4"
      ]
     },
     "execution_count": 19,
     "metadata": {},
     "output_type": "execute_result"
    }
   ],
   "source": [
    "predictions_logreg = classifier.predict(X_test)\n",
    "class_predictions_table = pd.DataFrame({\"Prediction\": predictions_logreg, \"Actual\": y_test})\n",
    "class_predictions_table.head()"
   ]
  },
  {
   "cell_type": "code",
   "execution_count": 20,
   "metadata": {},
   "outputs": [
    {
     "data": {
      "image/png": "[encoded data removed]",
      "text/plain": [
       "<Figure size 1440x576 with 1 Axes>"
      ]
     },
     "metadata": {
      "needs_background": "light"
     },
     "output_type": "display_data"
    }
   ],
   "source": [
    "#Create the scatter plot of actual and predictions\n",
    "fig = plt.figure(figsize=(20,8))\n",
    "plt.subplot(2,1,1)\n",
    "plt.tight_layout()\n",
    "plt.subplots_adjust(top=0.90)\n",
    "plt.ylim(0, 8)\n",
    "plt.xticks(rotation=90, ha='right')\n",
    "\n",
    "plt.scatter(class_predictions_table.index, class_predictions_table.Actual, marker='o', color='b', label='Actual')\n",
    "plt.scatter(class_predictions_table.index, class_predictions_table.Prediction, marker='x', color='r', label='Prediction')\n",
    "\n",
    "plt.title('Predicting Animal Class',color='k', size=14, weight='bold')\n",
    "plt.xlabel(\"Animal\")\n",
    "plt.ylabel('Class')\n",
    "plt.legend(loc=\"best\")\n",
    "plt.grid(alpha=0.5)\n",
    "\n",
    "# plt.savefig('../resources/logreg.png', dpi=fig.dpi)\n",
    "plt.show()\n"
   ]
  },
  {
   "cell_type": "code",
   "execution_count": 21,
   "metadata": {},
   "outputs": [
    {
     "data": {
      "image/png": "[encoded data removed]",
      "text/plain": [
       "<Figure size 1440x576 with 1 Axes>"
      ]
     },
     "metadata": {
      "needs_background": "light"
     },
     "output_type": "display_data"
    }
   ],
   "source": [
    "#Plot Residuals\n",
    "xtest_shaped = predictions_logreg.reshape(-1, 1)\n",
    "ytest_shaped = y_test.values.reshape(-1,1)\n",
    "\n",
    "xtrain = classifier.predict(X_train)\n",
    "xtrain_shaped = xtrain.reshape(-1, 1)\n",
    "ytrain_shaped = y_train.values.reshape(-1,1)\n",
    "\n",
    "fig = plt.figure(figsize=(20,8))\n",
    "plt.subplot(2,1,1)\n",
    "plt.tight_layout()\n",
    "plt.subplots_adjust(top=0.90)\n",
    "\n",
    "plt.scatter(xtest_shaped, ytest_shaped - xtest_shaped, c=\"orange\", label=\"Testing Data\")\n",
    "plt.scatter(xtrain_shaped, ytrain_shaped - xtrain_shaped, c=\"blue\", label=\"Training Data\")\n",
    "plt.legend()\n",
    "plt.hlines(y=0, xmin=xtest_shaped.min(), xmax=xtest_shaped.max())\n",
    "plt.title('Residual Plot',color='k', size=14, weight='bold')\n",
    "\n",
    "# plt.savefig('../resources/residual.png', dpi=fig.dpi)\n",
    "plt.show()"
   ]
  },
  {
   "cell_type": "code",
   "execution_count": 22,
   "metadata": {},
   "outputs": [
    {
     "name": "stdout",
     "output_type": "stream",
     "text": [
      "              precision    recall  f1-score   support\n",
      "\n",
      "           1       1.00      1.00      1.00        18\n",
      "           2       1.00      1.00      1.00        10\n",
      "           3       1.00      0.50      0.67         4\n",
      "           4       1.00      1.00      1.00         6\n",
      "           5       0.60      1.00      0.75         3\n",
      "           6       0.75      1.00      0.86         6\n",
      "           7       1.00      0.67      0.80         6\n",
      "\n",
      "    accuracy                           0.92        53\n",
      "   macro avg       0.91      0.88      0.87        53\n",
      "weighted avg       0.95      0.92      0.92        53\n",
      "\n"
     ]
    }
   ],
   "source": [
    "# Classification Report\n",
    "from sklearn.metrics import classification_report\n",
    "print(classification_report(y_test, predictions_logreg))"
   ]
  },
  {
   "cell_type": "markdown",
   "metadata": {},
   "source": [
    "#### Logistic Regression Scaled"
   ]
  },
  {
   "cell_type": "code",
   "execution_count": 23,
   "metadata": {},
   "outputs": [],
   "source": [
    "# Min Max Scaler\n",
    "from sklearn.preprocessing import MinMaxScaler\n",
    "\n",
    "X_scaler = MinMaxScaler().fit(X_train)\n",
    "\n",
    "X_train_scaled = X_scaler.transform(X_train)\n",
    "X_test_scaled = X_scaler.transform(X_test)"
   ]
  },
  {
   "cell_type": "code",
   "execution_count": 24,
   "metadata": {},
   "outputs": [
    {
     "data": {
      "text/plain": [
       "LogisticRegression(max_iter=500)"
      ]
     },
     "execution_count": 24,
     "metadata": {},
     "output_type": "execute_result"
    }
   ],
   "source": [
    "classifier_scaled = LogisticRegression(max_iter=500)\n",
    "classifier_scaled.fit(X_train_scaled, y_train)"
   ]
  },
  {
   "cell_type": "code",
   "execution_count": 25,
   "metadata": {},
   "outputs": [
    {
     "name": "stdout",
     "output_type": "stream",
     "text": [
      "Training score: 0.9811320754716981\n",
      "Testing score: 0.9433962264150944\n"
     ]
    }
   ],
   "source": [
    "print(f\"Training score: {classifier_scaled.score(X_train_scaled, y_train)}\")\n",
    "print(f\"Testing score: {classifier_scaled.score(X_test_scaled, y_test)}\")"
   ]
  },
  {
   "cell_type": "code",
   "execution_count": 26,
   "metadata": {},
   "outputs": [
    {
     "name": "stdout",
     "output_type": "stream",
     "text": [
      "Predictions\n",
      "Kangaroo: [1]\n",
      "Bald Eagle: [2]\n",
      "Rattle Snake: [3]\n",
      "Goldfish: [4]\n",
      "Mountain Chicken Frog: [6]\n",
      "Vampire Moth: [6]\n",
      "Coral: [7]\n",
      "Sea Turtle: [6]\n"
     ]
    }
   ],
   "source": [
    "print(f\"Predictions\")\n",
    "print(f\"Kangaroo: {classifier_scaled.predict(kangaroo)}\")\n",
    "print(f\"Bald Eagle: {classifier_scaled.predict(bald_eagle)}\")\n",
    "print(f\"Rattle Snake: {classifier_scaled.predict(rattle_snake)}\")\n",
    "print(f\"Goldfish: {classifier_scaled.predict(goldfish)}\")\n",
    "print(f\"Mountain Chicken Frog: {classifier_scaled.predict(mountain_chicken_frog)}\")\n",
    "print(f\"Vampire Moth: {classifier_scaled.predict(vampire_moth)}\")\n",
    "print(f\"Coral: {classifier_scaled.predict(coral)}\")\n",
    "print(f\"Sea Turtle: {classifier_scaled.predict(sea_turtle)}\")"
   ]
  },
  {
   "cell_type": "code",
   "execution_count": 27,
   "metadata": {},
   "outputs": [
    {
     "data": {
      "text/html": [
       "<div>\n",
       "<style scoped>\n",
       "    .dataframe tbody tr th:only-of-type {\n",
       "        vertical-align: middle;\n",
       "    }\n",
       "\n",
       "    .dataframe tbody tr th {\n",
       "        vertical-align: top;\n",
       "    }\n",
       "\n",
       "    .dataframe thead th {\n",
       "        text-align: right;\n",
       "    }\n",
       "</style>\n",
       "<table border=\"1\" class=\"dataframe\">\n",
       "  <thead>\n",
       "    <tr style=\"text-align: right;\">\n",
       "      <th></th>\n",
       "      <th>Prediction</th>\n",
       "      <th>Actual</th>\n",
       "    </tr>\n",
       "    <tr>\n",
       "      <th>animal_name</th>\n",
       "      <th></th>\n",
       "      <th></th>\n",
       "    </tr>\n",
       "  </thead>\n",
       "  <tbody>\n",
       "    <tr>\n",
       "      <th>Crow</th>\n",
       "      <td>2</td>\n",
       "      <td>2</td>\n",
       "    </tr>\n",
       "    <tr>\n",
       "      <th>Toad</th>\n",
       "      <td>5</td>\n",
       "      <td>5</td>\n",
       "    </tr>\n",
       "    <tr>\n",
       "      <th>Dragonfly</th>\n",
       "      <td>6</td>\n",
       "      <td>6</td>\n",
       "    </tr>\n",
       "    <tr>\n",
       "      <th>Kiwi</th>\n",
       "      <td>2</td>\n",
       "      <td>2</td>\n",
       "    </tr>\n",
       "    <tr>\n",
       "      <th>Chub</th>\n",
       "      <td>4</td>\n",
       "      <td>4</td>\n",
       "    </tr>\n",
       "  </tbody>\n",
       "</table>\n",
       "</div>"
      ],
      "text/plain": [
       "             Prediction  Actual\n",
       "animal_name                    \n",
       "Crow                  2       2\n",
       "Toad                  5       5\n",
       "Dragonfly             6       6\n",
       "Kiwi                  2       2\n",
       "Chub                  4       4"
      ]
     },
     "execution_count": 27,
     "metadata": {},
     "output_type": "execute_result"
    }
   ],
   "source": [
    "predictions_logreg_scaled = classifier_scaled.predict(X_test)\n",
    "class_predictions_table_scaled = pd.DataFrame({\"Prediction\": predictions_logreg_scaled, \"Actual\": y_test})\n",
    "class_predictions_table_scaled.head()"
   ]
  },
  {
   "cell_type": "code",
   "execution_count": 28,
   "metadata": {},
   "outputs": [
    {
     "data": {
      "image/png": "[encoded data removed]",
      "text/plain": [
       "<Figure size 1440x576 with 1 Axes>"
      ]
     },
     "metadata": {
      "needs_background": "light"
     },
     "output_type": "display_data"
    }
   ],
   "source": [
    "#Create the scatter plot of actual and predictions\n",
    "fig = plt.figure(figsize=(20,8))\n",
    "plt.subplot(2,1,1)\n",
    "plt.tight_layout()\n",
    "plt.subplots_adjust(top=0.90)\n",
    "\n",
    "plt.ylim(0, 8)\n",
    "plt.xticks(rotation=90, ha='right')\n",
    "plt.scatter(class_predictions_table_scaled.index, class_predictions_table_scaled.Actual, marker='o', color='b', label='Actual')\n",
    "plt.scatter(class_predictions_table_scaled.index, class_predictions_table_scaled.Prediction, marker='x', color='r', label='Prediction')\n",
    "plt.title('Min Max Scaler Predicting Animal Class',color='k', size=14, weight='bold')\n",
    "plt.xlabel(\"Animal\")\n",
    "plt.ylabel('Class')\n",
    "plt.legend(loc=\"best\")\n",
    "plt.grid(alpha=0.5)\n",
    "\n",
    "# plt.savefig('../resources/minmaxlogreg.png', dpi=fig.dpi)\n",
    "plt.show()"
   ]
  },
  {
   "cell_type": "code",
   "execution_count": 29,
   "metadata": {},
   "outputs": [
    {
     "data": {
      "image/png": "[encoded data removed]",
      "text/plain": [
       "<Figure size 1440x576 with 1 Axes>"
      ]
     },
     "metadata": {
      "needs_background": "light"
     },
     "output_type": "display_data"
    }
   ],
   "source": [
    "#Plot Residuals\n",
    "xtest_shaped = predictions_logreg_scaled.reshape(-1, 1)\n",
    "ytest_shaped = y_test.values.reshape(-1,1)\n",
    "\n",
    "xtrain = classifier_scaled.predict(X_train)\n",
    "xtrain_shaped = xtrain.reshape(-1, 1)\n",
    "ytrain_shaped = y_train.values.reshape(-1,1)\n",
    "\n",
    "fig = plt.figure(figsize=(20,8))\n",
    "plt.subplot(2,1,1)\n",
    "plt.tight_layout()\n",
    "plt.subplots_adjust(top=0.90)\n",
    "\n",
    "plt.scatter(xtest_shaped, ytest_shaped - xtest_shaped, c=\"orange\", label=\"Testing Data\")\n",
    "plt.scatter(xtrain_shaped, ytrain_shaped - xtrain_shaped, c=\"blue\", label=\"Training Data\")\n",
    "plt.legend()\n",
    "plt.hlines(y=0, xmin=xtest_shaped.min(), xmax=xtest_shaped.max())\n",
    "plt.title('Min Max Scaler Residual Plot',color='k', size=14, weight='bold')\n",
    "\n",
    "# plt.savefig('../resources/minmaxresidual.png', dpi=fig.dpi)\n",
    "plt.show()"
   ]
  },
  {
   "cell_type": "code",
   "execution_count": 30,
   "metadata": {},
   "outputs": [
    {
     "name": "stdout",
     "output_type": "stream",
     "text": [
      "              precision    recall  f1-score   support\n",
      "\n",
      "           1       1.00      0.89      0.94        18\n",
      "           2       1.00      1.00      1.00        10\n",
      "           3       1.00      0.25      0.40         4\n",
      "           4       1.00      1.00      1.00         6\n",
      "           5       1.00      1.00      1.00         3\n",
      "           6       0.43      1.00      0.60         6\n",
      "           7       1.00      0.50      0.67         6\n",
      "\n",
      "    accuracy                           0.85        53\n",
      "   macro avg       0.92      0.81      0.80        53\n",
      "weighted avg       0.94      0.85      0.85        53\n",
      "\n"
     ]
    }
   ],
   "source": [
    "# Classification Report\n",
    "print(classification_report(y_test, predictions_logreg_scaled))"
   ]
  },
  {
   "cell_type": "markdown",
   "metadata": {},
   "source": [
    "### Random Forest "
   ]
  },
  {
   "cell_type": "code",
   "execution_count": 31,
   "metadata": {},
   "outputs": [
    {
     "data": {
      "text/plain": [
       "0.9874213836477987"
      ]
     },
     "execution_count": 31,
     "metadata": {},
     "output_type": "execute_result"
    }
   ],
   "source": [
    "from sklearn.ensemble import RandomForestClassifier\n",
    "rf = RandomForestClassifier(n_estimators=50)\n",
    "rf = rf.fit(X_train, y_train)\n",
    "rf.score(X_train, y_train)"
   ]
  },
  {
   "cell_type": "code",
   "execution_count": 32,
   "metadata": {},
   "outputs": [
    {
     "name": "stdout",
     "output_type": "stream",
     "text": [
      "Training score: 0.9874213836477987\n",
      "Testing score: 0.9433962264150944\n"
     ]
    }
   ],
   "source": [
    "print(f\"Training score: {rf.score(X_train, y_train)}\")\n",
    "print(f\"Testing score: {rf.score(X_test, y_test)}\")"
   ]
  },
  {
   "cell_type": "code",
   "execution_count": 33,
   "metadata": {},
   "outputs": [
    {
     "name": "stdout",
     "output_type": "stream",
     "text": [
      "Predictions\n",
      "Kangaroo: [1]\n",
      "Bald Eagle: [2]\n",
      "Rattle Snake: [3]\n",
      "Goldfish: [4]\n",
      "Mountain Chicken Frog: [5]\n",
      "Vampire Moth: [6]\n",
      "Coral: [7]\n",
      "Sea Turtle: [4]\n"
     ]
    }
   ],
   "source": [
    "print(f\"Predictions\")\n",
    "print(f\"Kangaroo: {rf.predict(kangaroo)}\")\n",
    "print(f\"Bald Eagle: {rf.predict(bald_eagle)}\")\n",
    "print(f\"Rattle Snake: {rf.predict(rattle_snake)}\")\n",
    "print(f\"Goldfish: {rf.predict(goldfish)}\")\n",
    "print(f\"Mountain Chicken Frog: {rf.predict(mountain_chicken_frog)}\")\n",
    "print(f\"Vampire Moth: {rf.predict(vampire_moth)}\")\n",
    "print(f\"Coral: {rf.predict(coral)}\")\n",
    "print(f\"Sea Turtle: {rf.predict(sea_turtle)}\")"
   ]
  },
  {
   "cell_type": "code",
   "execution_count": 34,
   "metadata": {},
   "outputs": [
    {
     "data": {
      "text/html": [
       "<div>\n",
       "<style scoped>\n",
       "    .dataframe tbody tr th:only-of-type {\n",
       "        vertical-align: middle;\n",
       "    }\n",
       "\n",
       "    .dataframe tbody tr th {\n",
       "        vertical-align: top;\n",
       "    }\n",
       "\n",
       "    .dataframe thead th {\n",
       "        text-align: right;\n",
       "    }\n",
       "</style>\n",
       "<table border=\"1\" class=\"dataframe\">\n",
       "  <thead>\n",
       "    <tr style=\"text-align: right;\">\n",
       "      <th></th>\n",
       "      <th>Prediction</th>\n",
       "      <th>Actual</th>\n",
       "    </tr>\n",
       "    <tr>\n",
       "      <th>animal_name</th>\n",
       "      <th></th>\n",
       "      <th></th>\n",
       "    </tr>\n",
       "  </thead>\n",
       "  <tbody>\n",
       "    <tr>\n",
       "      <th>Crow</th>\n",
       "      <td>2</td>\n",
       "      <td>2</td>\n",
       "    </tr>\n",
       "    <tr>\n",
       "      <th>Toad</th>\n",
       "      <td>5</td>\n",
       "      <td>5</td>\n",
       "    </tr>\n",
       "    <tr>\n",
       "      <th>Dragonfly</th>\n",
       "      <td>6</td>\n",
       "      <td>6</td>\n",
       "    </tr>\n",
       "    <tr>\n",
       "      <th>Kiwi</th>\n",
       "      <td>2</td>\n",
       "      <td>2</td>\n",
       "    </tr>\n",
       "    <tr>\n",
       "      <th>Chub</th>\n",
       "      <td>4</td>\n",
       "      <td>4</td>\n",
       "    </tr>\n",
       "  </tbody>\n",
       "</table>\n",
       "</div>"
      ],
      "text/plain": [
       "             Prediction  Actual\n",
       "animal_name                    \n",
       "Crow                  2       2\n",
       "Toad                  5       5\n",
       "Dragonfly             6       6\n",
       "Kiwi                  2       2\n",
       "Chub                  4       4"
      ]
     },
     "execution_count": 34,
     "metadata": {},
     "output_type": "execute_result"
    }
   ],
   "source": [
    "predictions_rf = rf.predict(X_test)\n",
    "rf_predictions_table = pd.DataFrame({\"Prediction\": predictions_rf, \"Actual\": y_test})\n",
    "rf_predictions_table.head()"
   ]
  },
  {
   "cell_type": "code",
   "execution_count": 35,
   "metadata": {
    "scrolled": true
   },
   "outputs": [
    {
     "data": {
      "text/plain": [
       "array([0.05043101, 0.13214343, 0.09574155, 0.12851652, 0.0574231 ,\n",
       "       0.05094072, 0.01786701, 0.03114549, 0.08249056, 0.06332152,\n",
       "       0.01237101, 0.08420153, 0.10598958, 0.0689107 , 0.00315151,\n",
       "       0.01535474])"
      ]
     },
     "execution_count": 35,
     "metadata": {},
     "output_type": "execute_result"
    }
   ],
   "source": [
    "importances_rf = rf.feature_importances_\n",
    "importances_rf"
   ]
  },
  {
   "cell_type": "code",
   "execution_count": 36,
   "metadata": {},
   "outputs": [
    {
     "name": "stdout",
     "output_type": "stream",
     "text": [
      "              precision    recall  f1-score   support\n",
      "\n",
      "           1       1.00      1.00      1.00        18\n",
      "           2       1.00      1.00      1.00        10\n",
      "           3       1.00      0.50      0.67         4\n",
      "           4       1.00      1.00      1.00         6\n",
      "           5       0.60      1.00      0.75         3\n",
      "           6       0.86      1.00      0.92         6\n",
      "           7       1.00      0.83      0.91         6\n",
      "\n",
      "    accuracy                           0.94        53\n",
      "   macro avg       0.92      0.90      0.89        53\n",
      "weighted avg       0.96      0.94      0.94        53\n",
      "\n"
     ]
    }
   ],
   "source": [
    "# Classification Report\n",
    "print(classification_report(y_test, predictions_rf))"
   ]
  },
  {
   "cell_type": "code",
   "execution_count": 37,
   "metadata": {},
   "outputs": [
    {
     "data": {
      "image/png": "[encoded data removed]",
      "text/plain": [
       "<Figure size 1440x576 with 1 Axes>"
      ]
     },
     "metadata": {
      "needs_background": "light"
     },
     "output_type": "display_data"
    }
   ],
   "source": [
    "#Create the scatter plot of actual and predictions\n",
    "fig_rf = plt.figure(figsize=(20,8))\n",
    "plt.subplot(2,1,1)\n",
    "plt.tight_layout()\n",
    "plt.subplots_adjust(top=0.90)\n",
    "plt.ylim(0, 8)\n",
    "plt.xticks(rotation=90, ha='right')\n",
    "\n",
    "plt.scatter(rf_predictions_table.index, rf_predictions_table.Actual, marker='o', color='b', label='Actual')\n",
    "plt.scatter(rf_predictions_table.index, rf_predictions_table.Prediction, marker='x', color='r', label='Prediction')\n",
    "\n",
    "plt.title('Predicting Animal Class',color='k', size=14, weight='bold')\n",
    "plt.xlabel(\"Animal\")\n",
    "plt.ylabel('Class')\n",
    "plt.legend(loc=\"best\")\n",
    "plt.grid(alpha=0.5)\n",
    "\n",
    "# plt.savefig('../resources/rf.png', dpi=fig_rf.dpi)\n",
    "plt.show()\n"
   ]
  },
  {
   "cell_type": "code",
   "execution_count": 38,
   "metadata": {},
   "outputs": [
    {
     "data": {
      "image/png": "[encoded data removed]",
      "text/plain": [
       "<Figure size 1440x576 with 1 Axes>"
      ]
     },
     "metadata": {
      "needs_background": "light"
     },
     "output_type": "display_data"
    }
   ],
   "source": [
    "#Plot Residuals\n",
    "rf_xtest_shaped = predictions_rf.reshape(-1, 1)\n",
    "rf_ytest_shaped = y_test.values.reshape(-1,1)\n",
    "\n",
    "rf_xtrain = rf.predict(X_train)\n",
    "rf_xtrain_shaped = rf_xtrain.reshape(-1, 1)\n",
    "rf_ytrain_shaped = y_train.values.reshape(-1,1)\n",
    "\n",
    "rf_res_fig = plt.figure(figsize=(20,8))\n",
    "plt.subplot(2,1,1)\n",
    "plt.tight_layout()\n",
    "plt.subplots_adjust(top=0.90)\n",
    "\n",
    "plt.scatter(rf_xtest_shaped, rf_ytest_shaped - rf_xtest_shaped, c=\"orange\", label=\"Testing Data\")\n",
    "plt.scatter(rf_xtrain_shaped, rf_ytrain_shaped - rf_xtrain_shaped, c=\"blue\", label=\"Training Data\")\n",
    "plt.legend()\n",
    "plt.hlines(y=0, xmin=rf_xtest_shaped.min(), xmax=rf_xtest_shaped.max())\n",
    "plt.title('Residual Plot',color='k', size=14, weight='bold')\n",
    "\n",
    "# plt.savefig('../resources/rf_residual.png', dpi=rf_res_fig.dpi)\n",
    "plt.show()"
   ]
  },
  {
   "cell_type": "markdown",
   "metadata": {},
   "source": [
    "#### Random Forest Scaled"
   ]
  },
  {
   "cell_type": "code",
   "execution_count": 39,
   "metadata": {},
   "outputs": [
    {
     "data": {
      "text/plain": [
       "0.9874213836477987"
      ]
     },
     "execution_count": 39,
     "metadata": {},
     "output_type": "execute_result"
    }
   ],
   "source": [
    "rf_scaled = RandomForestClassifier(n_estimators=50)\n",
    "rf_scaled = rf_scaled.fit(X_train_scaled, y_train)\n",
    "rf_scaled.score(X_train_scaled, y_train)"
   ]
  },
  {
   "cell_type": "code",
   "execution_count": 40,
   "metadata": {},
   "outputs": [
    {
     "name": "stdout",
     "output_type": "stream",
     "text": [
      "Training score: 0.9874213836477987\n",
      "Testing score: 0.9433962264150944\n"
     ]
    }
   ],
   "source": [
    "print(f\"Training score: {rf_scaled.score(X_train_scaled, y_train)}\")\n",
    "print(f\"Testing score: {rf_scaled.score(X_test_scaled, y_test)}\")"
   ]
  },
  {
   "cell_type": "code",
   "execution_count": 41,
   "metadata": {},
   "outputs": [
    {
     "name": "stdout",
     "output_type": "stream",
     "text": [
      "Predictions\n",
      "Kangaroo: [1]\n",
      "Bald Eagle: [2]\n",
      "Rattle Snake: [3]\n",
      "Goldfish: [4]\n",
      "Mountain Chicken Frog: [5]\n",
      "Vampire Moth: [6]\n",
      "Coral: [7]\n",
      "Sea Turtle: [4]\n"
     ]
    }
   ],
   "source": [
    "print(f\"Predictions\")\n",
    "print(f\"Kangaroo: {rf_scaled.predict(kangaroo)}\")\n",
    "print(f\"Bald Eagle: {rf_scaled.predict(bald_eagle)}\")\n",
    "print(f\"Rattle Snake: {rf_scaled.predict(rattle_snake)}\")\n",
    "print(f\"Goldfish: {rf_scaled.predict(goldfish)}\")\n",
    "print(f\"Mountain Chicken Frog: {rf_scaled.predict(mountain_chicken_frog)}\")\n",
    "print(f\"Vampire Moth: {rf_scaled.predict(vampire_moth)}\")\n",
    "print(f\"Coral: {rf_scaled.predict(coral)}\")\n",
    "print(f\"Sea Turtle: {rf_scaled.predict(sea_turtle)}\")"
   ]
  },
  {
   "cell_type": "code",
   "execution_count": 42,
   "metadata": {
    "scrolled": true
   },
   "outputs": [
    {
     "data": {
      "text/html": [
       "<div>\n",
       "<style scoped>\n",
       "    .dataframe tbody tr th:only-of-type {\n",
       "        vertical-align: middle;\n",
       "    }\n",
       "\n",
       "    .dataframe tbody tr th {\n",
       "        vertical-align: top;\n",
       "    }\n",
       "\n",
       "    .dataframe thead th {\n",
       "        text-align: right;\n",
       "    }\n",
       "</style>\n",
       "<table border=\"1\" class=\"dataframe\">\n",
       "  <thead>\n",
       "    <tr style=\"text-align: right;\">\n",
       "      <th></th>\n",
       "      <th>Prediction</th>\n",
       "      <th>Actual</th>\n",
       "    </tr>\n",
       "    <tr>\n",
       "      <th>animal_name</th>\n",
       "      <th></th>\n",
       "      <th></th>\n",
       "    </tr>\n",
       "  </thead>\n",
       "  <tbody>\n",
       "    <tr>\n",
       "      <th>Crow</th>\n",
       "      <td>2</td>\n",
       "      <td>2</td>\n",
       "    </tr>\n",
       "    <tr>\n",
       "      <th>Toad</th>\n",
       "      <td>5</td>\n",
       "      <td>5</td>\n",
       "    </tr>\n",
       "    <tr>\n",
       "      <th>Dragonfly</th>\n",
       "      <td>6</td>\n",
       "      <td>6</td>\n",
       "    </tr>\n",
       "    <tr>\n",
       "      <th>Kiwi</th>\n",
       "      <td>2</td>\n",
       "      <td>2</td>\n",
       "    </tr>\n",
       "    <tr>\n",
       "      <th>Chub</th>\n",
       "      <td>4</td>\n",
       "      <td>4</td>\n",
       "    </tr>\n",
       "  </tbody>\n",
       "</table>\n",
       "</div>"
      ],
      "text/plain": [
       "             Prediction  Actual\n",
       "animal_name                    \n",
       "Crow                  2       2\n",
       "Toad                  5       5\n",
       "Dragonfly             6       6\n",
       "Kiwi                  2       2\n",
       "Chub                  4       4"
      ]
     },
     "execution_count": 42,
     "metadata": {},
     "output_type": "execute_result"
    }
   ],
   "source": [
    "predictions_rf_scaled = rf_scaled.predict(X_test)\n",
    "rf_scaled_predictions_table = pd.DataFrame({\"Prediction\": predictions_rf_scaled, \"Actual\": y_test})\n",
    "rf_scaled_predictions_table.head()"
   ]
  },
  {
   "cell_type": "code",
   "execution_count": 43,
   "metadata": {},
   "outputs": [
    {
     "name": "stdout",
     "output_type": "stream",
     "text": [
      "              precision    recall  f1-score   support\n",
      "\n",
      "           1       1.00      1.00      1.00        18\n",
      "           2       1.00      1.00      1.00        10\n",
      "           3       1.00      0.50      0.67         4\n",
      "           4       1.00      1.00      1.00         6\n",
      "           5       0.60      1.00      0.75         3\n",
      "           6       0.86      1.00      0.92         6\n",
      "           7       1.00      0.83      0.91         6\n",
      "\n",
      "    accuracy                           0.94        53\n",
      "   macro avg       0.92      0.90      0.89        53\n",
      "weighted avg       0.96      0.94      0.94        53\n",
      "\n"
     ]
    }
   ],
   "source": [
    "# Classification Report\n",
    "print(classification_report(y_test, predictions_rf_scaled))"
   ]
  },
  {
   "cell_type": "code",
   "execution_count": 44,
   "metadata": {},
   "outputs": [
    {
     "data": {
      "image/png": "[encoded data removed]",
      "text/plain": [
       "<Figure size 1440x576 with 1 Axes>"
      ]
     },
     "metadata": {
      "needs_background": "light"
     },
     "output_type": "display_data"
    }
   ],
   "source": [
    "#Create the scatter plot of actual and predictions\n",
    "rf_scaled_fig = plt.figure(figsize=(20,8))\n",
    "plt.subplot(2,1,1)\n",
    "plt.tight_layout()\n",
    "plt.subplots_adjust(top=0.90)\n",
    "plt.ylim(0, 8)\n",
    "plt.xticks(rotation=90, ha='right')\n",
    "\n",
    "plt.scatter(rf_scaled_predictions_table.index, rf_scaled_predictions_table.Actual, marker='o', color='b', label='Actual')\n",
    "plt.scatter(rf_scaled_predictions_table.index, rf_scaled_predictions_table.Prediction, marker='x', color='r', label='Prediction')\n",
    "plt.title('Min Max Scaler Predicting Animal Class',color='k', size=14, weight='bold')\n",
    "plt.xlabel(\"Animal\")\n",
    "plt.ylabel('Class')\n",
    "plt.legend(loc=\"best\")\n",
    "plt.grid(alpha=0.5)\n",
    "\n",
    "# plt.savefig('../resources/rf_minmax.png', dpi=rf_scaled_fig.dpi)\n",
    "plt.show()"
   ]
  },
  {
   "cell_type": "code",
   "execution_count": 45,
   "metadata": {},
   "outputs": [
    {
     "data": {
      "image/png": "[encoded data removed]",
      "text/plain": [
       "<Figure size 1440x576 with 1 Axes>"
      ]
     },
     "metadata": {
      "needs_background": "light"
     },
     "output_type": "display_data"
    }
   ],
   "source": [
    "#Plot Residuals\n",
    "rf_scaled_xtest_shaped = predictions_rf_scaled.reshape(-1, 1)\n",
    "rf_scaled_ytest_shaped = y_test.values.reshape(-1,1)\n",
    "\n",
    "rf_scaled_xtrain = rf_scaled.predict(X_train)\n",
    "rf_scaled_xtrain_shaped = rf_scaled_xtrain.reshape(-1, 1)\n",
    "rf_scaled_ytrain_shaped = y_train.values.reshape(-1,1)\n",
    "\n",
    "rf_scaled_res_fig = plt.figure(figsize=(20,8))\n",
    "plt.subplot(2,1,1)\n",
    "plt.tight_layout()\n",
    "plt.subplots_adjust(top=0.90)\n",
    "\n",
    "plt.scatter(rf_scaled_xtest_shaped, rf_scaled_ytest_shaped - rf_scaled_xtest_shaped, c=\"orange\", label=\"Testing Data\")\n",
    "plt.scatter(rf_scaled_xtrain_shaped, rf_scaled_ytrain_shaped - rf_scaled_xtrain_shaped, c=\"blue\", label=\"Training Data\")\n",
    "plt.legend()\n",
    "plt.hlines(y=0, xmin=rf_scaled_xtest_shaped.min(), xmax=rf_scaled_xtest_shaped.max())\n",
    "plt.title('Min Max Scaler Residual Plot',color='k', size=14, weight='bold')\n",
    "\n",
    "# plt.savefig('../resources/rf_minmax_residual.png', dpi=rf_scaled_res_fig.dpi)\n",
    "plt.show()"
   ]
  },
  {
   "cell_type": "markdown",
   "metadata": {},
   "source": [
    "### K Nearest Neighbor"
   ]
  },
  {
   "cell_type": "code",
   "execution_count": 46,
   "metadata": {},
   "outputs": [
    {
     "name": "stdout",
     "output_type": "stream",
     "text": [
      "k: 1, Train/Test Score: 0.987/0.962\n",
      "k: 3, Train/Test Score: 0.956/0.943\n",
      "k: 5, Train/Test Score: 0.962/0.943\n",
      "k: 7, Train/Test Score: 0.918/0.925\n",
      "k: 9, Train/Test Score: 0.912/0.887\n",
      "k: 11, Train/Test Score: 0.918/0.887\n",
      "k: 13, Train/Test Score: 0.906/0.887\n",
      "k: 15, Train/Test Score: 0.899/0.849\n",
      "k: 17, Train/Test Score: 0.899/0.849\n",
      "k: 19, Train/Test Score: 0.836/0.830\n"
     ]
    }
   ],
   "source": [
    "from sklearn.neighbors import KNeighborsClassifier\n",
    "\n",
    "train_scores = []\n",
    "test_scores = []\n",
    "for k in range(1, 20, 2):\n",
    "    knn = KNeighborsClassifier(n_neighbors=k)\n",
    "    knn.fit(X_train, y_train)\n",
    "    train_score = knn.score(X_train, y_train)\n",
    "    test_score = knn.score(X_test, y_test)\n",
    "    train_scores.append(train_score)\n",
    "    test_scores.append(test_score)\n",
    "    print(f\"k: {k}, Train/Test Score: {train_score:.3f}/{test_score:.3f}\")"
   ]
  },
  {
   "cell_type": "code",
   "execution_count": 47,
   "metadata": {},
   "outputs": [
    {
     "data": {
      "image/png": "[encoded data removed]",
      "text/plain": [
       "<Figure size 432x288 with 1 Axes>"
      ]
     },
     "metadata": {
      "needs_background": "light"
     },
     "output_type": "display_data"
    }
   ],
   "source": [
    "plt.plot(range(1, 20, 2), train_scores, marker='o', color='#0b7090')\n",
    "plt.plot(range(1, 20, 2), test_scores, marker=\"x\", color='#c89124')\n",
    "plt.xlabel(\"k neighbors\")\n",
    "plt.ylabel(\"Testing accuracy Score\")\n",
    "plt.title(\"Accuracy Score for Various K Values\")\n",
    "plt.legend(['Training Data', 'Testing Data'])\n",
    "#plt.savefig('../resources/knn_kscores.png', dpi=fig.dpi)\n",
    "plt.show()"
   ]
  },
  {
   "cell_type": "code",
   "execution_count": 48,
   "metadata": {},
   "outputs": [
    {
     "name": "stdout",
     "output_type": "stream",
     "text": [
      "k=11 Train Acc: 0.918\n",
      "k=11 Test Acc: 0.887\n"
     ]
    }
   ],
   "source": [
    "knn = KNeighborsClassifier(n_neighbors=11)\n",
    "knn.fit(X_train, y_train)\n",
    "print('k=11 Train Acc: %.3f' % knn.score(X_train, y_train))\n",
    "print('k=11 Test Acc: %.3f' % knn.score(X_test, y_test))"
   ]
  },
  {
   "cell_type": "code",
   "execution_count": 49,
   "metadata": {},
   "outputs": [
    {
     "name": "stdout",
     "output_type": "stream",
     "text": [
      "Predictions\n",
      "Kangaroo: [1]\n",
      "Bald Eagle: [2]\n",
      "Rattle Snake: [3]\n",
      "Goldfish: [4]\n",
      "Mountain Chicken Frog: [5]\n",
      "Vampire Moth: [6]\n",
      "Coral: [7]\n",
      "Sea Turtle: [3]\n"
     ]
    }
   ],
   "source": [
    "print(f\"Predictions\")\n",
    "print(f\"Kangaroo: {knn.predict(kangaroo)}\")\n",
    "print(f\"Bald Eagle: {knn.predict(bald_eagle)}\")\n",
    "print(f\"Rattle Snake: {knn.predict(rattle_snake)}\")\n",
    "print(f\"Goldfish: {knn.predict(goldfish)}\")\n",
    "print(f\"Mountain Chicken Frog: {knn.predict(mountain_chicken_frog)}\")\n",
    "print(f\"Vampire Moth: {knn.predict(vampire_moth)}\")\n",
    "print(f\"Coral: {knn.predict(coral)}\")\n",
    "print(f\"Sea Turtle: {knn.predict(sea_turtle)}\")"
   ]
  },
  {
   "cell_type": "code",
   "execution_count": 50,
   "metadata": {},
   "outputs": [
    {
     "data": {
      "text/html": [
       "<div>\n",
       "<style scoped>\n",
       "    .dataframe tbody tr th:only-of-type {\n",
       "        vertical-align: middle;\n",
       "    }\n",
       "\n",
       "    .dataframe tbody tr th {\n",
       "        vertical-align: top;\n",
       "    }\n",
       "\n",
       "    .dataframe thead th {\n",
       "        text-align: right;\n",
       "    }\n",
       "</style>\n",
       "<table border=\"1\" class=\"dataframe\">\n",
       "  <thead>\n",
       "    <tr style=\"text-align: right;\">\n",
       "      <th></th>\n",
       "      <th>Prediction</th>\n",
       "      <th>Actual</th>\n",
       "    </tr>\n",
       "    <tr>\n",
       "      <th>animal_name</th>\n",
       "      <th></th>\n",
       "      <th></th>\n",
       "    </tr>\n",
       "  </thead>\n",
       "  <tbody>\n",
       "    <tr>\n",
       "      <th>Crow</th>\n",
       "      <td>2</td>\n",
       "      <td>2</td>\n",
       "    </tr>\n",
       "    <tr>\n",
       "      <th>Toad</th>\n",
       "      <td>5</td>\n",
       "      <td>5</td>\n",
       "    </tr>\n",
       "    <tr>\n",
       "      <th>Dragonfly</th>\n",
       "      <td>6</td>\n",
       "      <td>6</td>\n",
       "    </tr>\n",
       "    <tr>\n",
       "      <th>Kiwi</th>\n",
       "      <td>2</td>\n",
       "      <td>2</td>\n",
       "    </tr>\n",
       "    <tr>\n",
       "      <th>Chub</th>\n",
       "      <td>4</td>\n",
       "      <td>4</td>\n",
       "    </tr>\n",
       "  </tbody>\n",
       "</table>\n",
       "</div>"
      ],
      "text/plain": [
       "             Prediction  Actual\n",
       "animal_name                    \n",
       "Crow                  2       2\n",
       "Toad                  5       5\n",
       "Dragonfly             6       6\n",
       "Kiwi                  2       2\n",
       "Chub                  4       4"
      ]
     },
     "execution_count": 50,
     "metadata": {},
     "output_type": "execute_result"
    }
   ],
   "source": [
    "predictions_knn = knn.predict(X_test)\n",
    "knn_predictions_table = pd.DataFrame({\"Prediction\": predictions_knn, \"Actual\": y_test})\n",
    "knn_predictions_table.head()"
   ]
  },
  {
   "cell_type": "code",
   "execution_count": 51,
   "metadata": {},
   "outputs": [
    {
     "name": "stdout",
     "output_type": "stream",
     "text": [
      "              precision    recall  f1-score   support\n",
      "\n",
      "           1       1.00      0.94      0.97        18\n",
      "           2       1.00      1.00      1.00        10\n",
      "           3       1.00      0.50      0.67         4\n",
      "           4       0.86      1.00      0.92         6\n",
      "           5       0.50      1.00      0.67         3\n",
      "           6       0.75      1.00      0.86         6\n",
      "           7       1.00      0.50      0.67         6\n",
      "\n",
      "    accuracy                           0.89        53\n",
      "   macro avg       0.87      0.85      0.82        53\n",
      "weighted avg       0.93      0.89      0.88        53\n",
      "\n"
     ]
    }
   ],
   "source": [
    "# Classification Report\n",
    "print(classification_report(y_test, predictions_knn))"
   ]
  },
  {
   "cell_type": "code",
   "execution_count": 52,
   "metadata": {},
   "outputs": [
    {
     "data": {
      "image/png": "[encoded data removed]",
      "text/plain": [
       "<Figure size 1440x576 with 1 Axes>"
      ]
     },
     "metadata": {
      "needs_background": "light"
     },
     "output_type": "display_data"
    }
   ],
   "source": [
    "#Create the scatter plot of actual and predictions\n",
    "knn_fig = plt.figure(figsize=(20,8))\n",
    "plt.subplot(2,1,1)\n",
    "plt.tight_layout()\n",
    "plt.subplots_adjust(top=0.90)\n",
    "plt.ylim(0, 8)\n",
    "plt.xticks(rotation=90, ha='right')\n",
    "\n",
    "plt.scatter(knn_predictions_table.index, knn_predictions_table.Actual, marker='o', color='b', label='Actual')\n",
    "plt.scatter(knn_predictions_table.index, knn_predictions_table.Prediction, marker='x', color='r', label='Prediction')\n",
    "\n",
    "plt.title('Predicting Animal Class',color='k', size=14, weight='bold')\n",
    "plt.xlabel(\"Animal\")\n",
    "plt.ylabel('Class')\n",
    "plt.legend(loc=\"best\")\n",
    "plt.grid(alpha=0.5)\n",
    "\n",
    "# plt.savefig('../resources/knn.png', dpi=knn_fig.dpi)\n",
    "plt.show()\n"
   ]
  },
  {
   "cell_type": "code",
   "execution_count": 53,
   "metadata": {},
   "outputs": [
    {
     "data": {
      "image/png": "[encoded data removed]",
      "text/plain": [
       "<Figure size 1440x576 with 1 Axes>"
      ]
     },
     "metadata": {
      "needs_background": "light"
     },
     "output_type": "display_data"
    }
   ],
   "source": [
    "#Plot Residuals\n",
    "knn_xtest_shaped = predictions_knn.reshape(-1, 1)\n",
    "knn_ytest_shaped = y_test.values.reshape(-1,1)\n",
    "\n",
    "knn_xtrain = knn.predict(X_train)\n",
    "knn_xtrain_shaped = knn_xtrain.reshape(-1, 1)\n",
    "knn_ytrain_shaped = y_train.values.reshape(-1,1)\n",
    "\n",
    "knn_res_fig = plt.figure(figsize=(20,8))\n",
    "plt.subplot(2,1,1)\n",
    "plt.tight_layout()\n",
    "plt.subplots_adjust(top=0.90)\n",
    "\n",
    "plt.scatter(knn_xtest_shaped, knn_ytest_shaped - knn_xtest_shaped, c=\"orange\", label=\"Testing Data\")\n",
    "plt.scatter(knn_xtrain_shaped, knn_ytrain_shaped - knn_xtrain_shaped, c=\"blue\", label=\"Training Data\")\n",
    "plt.legend()\n",
    "plt.hlines(y=0, xmin=knn_xtest_shaped.min(), xmax=knn_xtest_shaped.max())\n",
    "plt.title('Residual Plot',color='k', size=14, weight='bold')\n",
    "\n",
    "# plt.savefig('../resources/knn_residual.png', dpi=knn_res_fig.dpi)\n",
    "plt.show()"
   ]
  },
  {
   "cell_type": "markdown",
   "metadata": {},
   "source": [
    "#### K Nearest Neighbor Scaled"
   ]
  },
  {
   "cell_type": "code",
   "execution_count": 54,
   "metadata": {},
   "outputs": [
    {
     "name": "stdout",
     "output_type": "stream",
     "text": [
      "k: 1, Train/Test Score: 0.987/0.962\n",
      "k: 3, Train/Test Score: 0.969/0.943\n",
      "k: 5, Train/Test Score: 0.962/0.943\n",
      "k: 7, Train/Test Score: 0.950/0.943\n",
      "k: 9, Train/Test Score: 0.937/0.887\n",
      "k: 11, Train/Test Score: 0.931/0.906\n",
      "k: 13, Train/Test Score: 0.918/0.906\n",
      "k: 15, Train/Test Score: 0.906/0.906\n",
      "k: 17, Train/Test Score: 0.931/0.925\n",
      "k: 19, Train/Test Score: 0.925/0.906\n"
     ]
    }
   ],
   "source": [
    "train_scores_scaled = []\n",
    "test_scores_scaled = []\n",
    "for k in range(1, 20, 2):\n",
    "    knn_scaled = KNeighborsClassifier(n_neighbors=k)\n",
    "    knn_scaled.fit(X_train_scaled, y_train)\n",
    "    train_score_scaled = knn_scaled.score(X_train_scaled, y_train)\n",
    "    test_score_scaled = knn_scaled.score(X_test_scaled, y_test)\n",
    "    train_scores_scaled.append(train_score_scaled)\n",
    "    test_scores_scaled.append(test_score_scaled)\n",
    "    print(f\"k: {k}, Train/Test Score: {train_score_scaled:.3f}/{test_score_scaled:.3f}\")"
   ]
  },
  {
   "cell_type": "code",
   "execution_count": 55,
   "metadata": {},
   "outputs": [
    {
     "name": "stdout",
     "output_type": "stream",
     "text": [
      "k=11 Train Acc: 0.931\n",
      "k=11 Test Acc: 0.906\n"
     ]
    }
   ],
   "source": [
    "knn_scaled = KNeighborsClassifier(n_neighbors=11)\n",
    "knn_scaled.fit(X_train_scaled, y_train)\n",
    "print('k=11 Train Acc: %.3f' % knn_scaled.score(X_train_scaled, y_train))\n",
    "print('k=11 Test Acc: %.3f' % knn_scaled.score(X_test_scaled, y_test))"
   ]
  },
  {
   "cell_type": "code",
   "execution_count": 56,
   "metadata": {},
   "outputs": [
    {
     "name": "stdout",
     "output_type": "stream",
     "text": [
      "Predictions\n",
      "Kangaroo: [1]\n",
      "Bald Eagle: [2]\n",
      "Rattle Snake: [3]\n",
      "Goldfish: [4]\n",
      "Mountain Chicken Frog: [7]\n",
      "Vampire Moth: [6]\n",
      "Coral: [7]\n",
      "Sea Turtle: [3]\n"
     ]
    }
   ],
   "source": [
    "print(f\"Predictions\")\n",
    "print(f\"Kangaroo: {knn_scaled.predict(kangaroo)}\")\n",
    "print(f\"Bald Eagle: {knn_scaled.predict(bald_eagle)}\")\n",
    "print(f\"Rattle Snake: {knn_scaled.predict(rattle_snake)}\")\n",
    "print(f\"Goldfish: {knn_scaled.predict(goldfish)}\")\n",
    "print(f\"Mountain Chicken Frog: {knn_scaled.predict(mountain_chicken_frog)}\")\n",
    "print(f\"Vampire Moth: {knn_scaled.predict(vampire_moth)}\")\n",
    "print(f\"Coral: {knn_scaled.predict(coral)}\")\n",
    "print(f\"Sea Turtle: {knn_scaled.predict(sea_turtle)}\")"
   ]
  },
  {
   "cell_type": "code",
   "execution_count": 57,
   "metadata": {},
   "outputs": [
    {
     "name": "stdout",
     "output_type": "stream",
     "text": [
      "              precision    recall  f1-score   support\n",
      "\n",
      "           1       1.00      0.94      0.97        18\n",
      "           2       1.00      1.00      1.00        10\n",
      "           3       1.00      0.50      0.67         4\n",
      "           4       0.86      1.00      0.92         6\n",
      "           5       0.60      1.00      0.75         3\n",
      "           6       0.75      1.00      0.86         6\n",
      "           7       1.00      0.67      0.80         6\n",
      "\n",
      "    accuracy                           0.91        53\n",
      "   macro avg       0.89      0.87      0.85        53\n",
      "weighted avg       0.93      0.91      0.90        53\n",
      "\n"
     ]
    }
   ],
   "source": [
    "# Classification Report\n",
    "predictions_knn_scaled = knn_scaled.predict(X_test_scaled)\n",
    "print(classification_report(y_test, predictions_knn_scaled))"
   ]
  },
  {
   "cell_type": "code",
   "execution_count": 58,
   "metadata": {},
   "outputs": [
    {
     "data": {
      "text/html": [
       "<div>\n",
       "<style scoped>\n",
       "    .dataframe tbody tr th:only-of-type {\n",
       "        vertical-align: middle;\n",
       "    }\n",
       "\n",
       "    .dataframe tbody tr th {\n",
       "        vertical-align: top;\n",
       "    }\n",
       "\n",
       "    .dataframe thead th {\n",
       "        text-align: right;\n",
       "    }\n",
       "</style>\n",
       "<table border=\"1\" class=\"dataframe\">\n",
       "  <thead>\n",
       "    <tr style=\"text-align: right;\">\n",
       "      <th></th>\n",
       "      <th>Prediction</th>\n",
       "      <th>Actual</th>\n",
       "    </tr>\n",
       "    <tr>\n",
       "      <th>animal_name</th>\n",
       "      <th></th>\n",
       "      <th></th>\n",
       "    </tr>\n",
       "  </thead>\n",
       "  <tbody>\n",
       "    <tr>\n",
       "      <th>Crow</th>\n",
       "      <td>2</td>\n",
       "      <td>2</td>\n",
       "    </tr>\n",
       "    <tr>\n",
       "      <th>Toad</th>\n",
       "      <td>5</td>\n",
       "      <td>5</td>\n",
       "    </tr>\n",
       "    <tr>\n",
       "      <th>Dragonfly</th>\n",
       "      <td>6</td>\n",
       "      <td>6</td>\n",
       "    </tr>\n",
       "    <tr>\n",
       "      <th>Kiwi</th>\n",
       "      <td>2</td>\n",
       "      <td>2</td>\n",
       "    </tr>\n",
       "    <tr>\n",
       "      <th>Chub</th>\n",
       "      <td>4</td>\n",
       "      <td>4</td>\n",
       "    </tr>\n",
       "  </tbody>\n",
       "</table>\n",
       "</div>"
      ],
      "text/plain": [
       "             Prediction  Actual\n",
       "animal_name                    \n",
       "Crow                  2       2\n",
       "Toad                  5       5\n",
       "Dragonfly             6       6\n",
       "Kiwi                  2       2\n",
       "Chub                  4       4"
      ]
     },
     "execution_count": 58,
     "metadata": {},
     "output_type": "execute_result"
    }
   ],
   "source": [
    "predictions_knn_scaled = knn_scaled.predict(X_test)\n",
    "knn_scaled_predictions_table = pd.DataFrame({\"Prediction\": predictions_knn_scaled, \"Actual\": y_test})\n",
    "knn_scaled_predictions_table.head()"
   ]
  },
  {
   "cell_type": "code",
   "execution_count": 59,
   "metadata": {},
   "outputs": [
    {
     "data": {
      "image/png": "[encoded data removed]",
      "text/plain": [
       "<Figure size 1440x576 with 1 Axes>"
      ]
     },
     "metadata": {
      "needs_background": "light"
     },
     "output_type": "display_data"
    }
   ],
   "source": [
    "#Create the scatter plot of actual and predictions\n",
    "knn_scaled_fig = plt.figure(figsize=(20,8))\n",
    "plt.subplot(2,1,1)\n",
    "plt.tight_layout()\n",
    "plt.subplots_adjust(top=0.90)\n",
    "\n",
    "plt.ylim(0, 8)\n",
    "plt.xticks(rotation=90, ha='right')\n",
    "plt.scatter(knn_scaled_predictions_table.index, knn_scaled_predictions_table.Actual, marker='o', color='b', label='Actual')\n",
    "plt.scatter(knn_scaled_predictions_table.index, knn_scaled_predictions_table.Prediction, marker='x', color='r', label='Prediction')\n",
    "plt.title('Min Max Scaler Predicting Animal Class',color='k', size=14, weight='bold')\n",
    "plt.xlabel(\"Animal\")\n",
    "plt.ylabel('Class')\n",
    "plt.legend(loc=\"best\")\n",
    "plt.grid(alpha=0.5)\n",
    "\n",
    "# plt.savefig('../resources/knn_scaled.png', dpi=knn_scaled_fig.dpi)\n",
    "plt.show()"
   ]
  },
  {
   "cell_type": "code",
   "execution_count": 60,
   "metadata": {},
   "outputs": [
    {
     "data": {
      "image/png": "[encoded data removed]",
      "text/plain": [
       "<Figure size 1440x576 with 1 Axes>"
      ]
     },
     "metadata": {
      "needs_background": "light"
     },
     "output_type": "display_data"
    }
   ],
   "source": [
    "#Plot Residuals\n",
    "knn_scaled_xtest_shaped = predictions_knn_scaled.reshape(-1, 1)\n",
    "knn_scaled_ytest_shaped = y_test.values.reshape(-1,1)\n",
    "\n",
    "knn_scaled_xtrain = knn_scaled.predict(X_train)\n",
    "knn_scaled_xtrain_shaped = knn_scaled_xtrain.reshape(-1, 1)\n",
    "knn_scaled_ytrain_shaped = y_train.values.reshape(-1,1)\n",
    "\n",
    "knn_scaled_res_fig = plt.figure(figsize=(20,8))\n",
    "plt.subplot(2,1,1)\n",
    "plt.tight_layout()\n",
    "plt.subplots_adjust(top=0.90)\n",
    "\n",
    "plt.scatter(knn_scaled_xtest_shaped, knn_scaled_ytest_shaped - knn_scaled_xtest_shaped, c=\"orange\", label=\"Testing Data\")\n",
    "plt.scatter(knn_scaled_xtrain_shaped, knn_scaled_ytrain_shaped - knn_scaled_xtrain_shaped, c=\"blue\", label=\"Training Data\")\n",
    "plt.legend()\n",
    "plt.hlines(y=0, xmin=knn_scaled_xtest_shaped.min(), xmax=knn_scaled_xtest_shaped.max())\n",
    "plt.title('Min Max Scaler Residual Plot',color='k', size=14, weight='bold')\n",
    "\n",
    "# plt.savefig('../resources/knn_scaled_residual.png', dpi=knn_scaled_res_fig.dpi)\n",
    "plt.show()"
   ]
  },
  {
   "cell_type": "markdown",
   "metadata": {},
   "source": [
    "### Support Vector Machine"
   ]
  },
  {
   "cell_type": "code",
   "execution_count": 61,
   "metadata": {},
   "outputs": [
    {
     "name": "stdout",
     "output_type": "stream",
     "text": [
      "Train Acc: 0.981\n",
      "Test Acc: 0.943\n"
     ]
    }
   ],
   "source": [
    "from sklearn.svm import SVC\n",
    "svm_model = SVC(kernel='linear')\n",
    "svm_model.fit(X_train, y_train)\n",
    "\n",
    "print('Train Acc: %.3f' % svm_model.score(X_train, y_train))\n",
    "print('Test Acc: %.3f' % svm_model.score(X_test, y_test))"
   ]
  },
  {
   "cell_type": "code",
   "execution_count": 62,
   "metadata": {},
   "outputs": [
    {
     "name": "stdout",
     "output_type": "stream",
     "text": [
      "              precision    recall  f1-score   support\n",
      "\n",
      "           1       1.00      1.00      1.00        18\n",
      "           2       1.00      1.00      1.00        10\n",
      "           3       1.00      0.50      0.67         4\n",
      "           4       1.00      1.00      1.00         6\n",
      "           5       0.60      1.00      0.75         3\n",
      "           6       0.86      1.00      0.92         6\n",
      "           7       1.00      0.83      0.91         6\n",
      "\n",
      "    accuracy                           0.94        53\n",
      "   macro avg       0.92      0.90      0.89        53\n",
      "weighted avg       0.96      0.94      0.94        53\n",
      "\n"
     ]
    }
   ],
   "source": [
    "predictions_svm = svm_model.predict(X_test)\n",
    "print(classification_report(y_test, predictions_svm,\n",
    "                            target_names=[\"1\",\"2\",\"3\",\"4\",\"5\",\"6\",\"7\"]))"
   ]
  },
  {
   "cell_type": "code",
   "execution_count": 63,
   "metadata": {},
   "outputs": [
    {
     "name": "stdout",
     "output_type": "stream",
     "text": [
      "Fitting 5 folds for each of 16 candidates, totalling 80 fits\n",
      "[CV] C=1, gamma=0.0001 ...............................................\n",
      "[CV] ................... C=1, gamma=0.0001, score=0.938, total=   0.0s\n",
      "[CV] C=1, gamma=0.0001 ...............................................\n",
      "[CV] ................... C=1, gamma=0.0001, score=1.000, total=   0.0s\n",
      "[CV] C=1, gamma=0.0001 ...............................................\n",
      "[CV] ................... C=1, gamma=0.0001, score=0.906, total=   0.0s\n",
      "[CV] C=1, gamma=0.0001 ...............................................\n",
      "[CV] ................... C=1, gamma=0.0001, score=0.969, total=   0.0s\n",
      "[CV] C=1, gamma=0.0001 ...............................................\n",
      "[CV] ................... C=1, gamma=0.0001, score=0.935, total=   0.0s\n",
      "[CV] C=1, gamma=0.0005 ...............................................\n",
      "[CV] ................... C=1, gamma=0.0005, score=0.938, total=   0.0s\n",
      "[CV] C=1, gamma=0.0005 ...............................................\n",
      "[CV] ................... C=1, gamma=0.0005, score=1.000, total=   0.0s\n",
      "[CV] C=1, gamma=0.0005 ...............................................\n",
      "[CV] ................... C=1, gamma=0.0005, score=0.906, total=   0.0s\n",
      "[CV] C=1, gamma=0.0005 ...............................................\n",
      "[CV] ................... C=1, gamma=0.0005, score=0.969, total=   0.0s\n",
      "[CV] C=1, gamma=0.0005 ...............................................\n",
      "[CV] ................... C=1, gamma=0.0005, score=0.935, total=   0.0s\n",
      "[CV] C=1, gamma=0.001 ................................................\n",
      "[CV] .................... C=1, gamma=0.001, score=0.938, total=   0.0s\n",
      "[CV] C=1, gamma=0.001 ................................................\n",
      "[CV] .................... C=1, gamma=0.001, score=1.000, total=   0.0s\n",
      "[CV] C=1, gamma=0.001 ................................................\n",
      "[CV] .................... C=1, gamma=0.001, score=0.906, total=   0.0s\n",
      "[CV] C=1, gamma=0.001 ................................................\n",
      "[CV] .................... C=1, gamma=0.001, score=0.969, total=   0.0s\n",
      "[CV] C=1, gamma=0.001 ................................................\n",
      "[CV] .................... C=1, gamma=0.001, score=0.935, total=   0.0s\n",
      "[CV] C=1, gamma=0.005 ................................................\n",
      "[CV] .................... C=1, gamma=0.005, score=0.938, total=   0.0s\n",
      "[CV] C=1, gamma=0.005 ................................................\n"
     ]
    },
    {
     "name": "stderr",
     "output_type": "stream",
     "text": [
      "[Parallel(n_jobs=1)]: Using backend SequentialBackend with 1 concurrent workers.\n",
      "[Parallel(n_jobs=1)]: Done   1 out of   1 | elapsed:    0.0s remaining:    0.0s\n",
      "[Parallel(n_jobs=1)]: Done   2 out of   2 | elapsed:    0.0s remaining:    0.0s\n"
     ]
    },
    {
     "name": "stdout",
     "output_type": "stream",
     "text": [
      "[CV] .................... C=1, gamma=0.005, score=1.000, total=   0.0s\n",
      "[CV] C=1, gamma=0.005 ................................................\n",
      "[CV] .................... C=1, gamma=0.005, score=0.906, total=   0.0s\n",
      "[CV] C=1, gamma=0.005 ................................................\n",
      "[CV] .................... C=1, gamma=0.005, score=0.969, total=   0.0s\n",
      "[CV] C=1, gamma=0.005 ................................................\n",
      "[CV] .................... C=1, gamma=0.005, score=0.935, total=   0.0s\n",
      "[CV] C=5, gamma=0.0001 ...............................................\n",
      "[CV] ................... C=5, gamma=0.0001, score=0.938, total=   0.0s\n",
      "[CV] C=5, gamma=0.0001 ...............................................\n",
      "[CV] ................... C=5, gamma=0.0001, score=0.969, total=   0.0s\n",
      "[CV] C=5, gamma=0.0001 ...............................................\n",
      "[CV] ................... C=5, gamma=0.0001, score=0.875, total=   0.0s\n",
      "[CV] C=5, gamma=0.0001 ...............................................\n",
      "[CV] ................... C=5, gamma=0.0001, score=0.969, total=   0.0s\n",
      "[CV] C=5, gamma=0.0001 ...............................................\n",
      "[CV] ................... C=5, gamma=0.0001, score=0.968, total=   0.0s\n",
      "[CV] C=5, gamma=0.0005 ...............................................\n",
      "[CV] ................... C=5, gamma=0.0005, score=0.938, total=   0.0s\n",
      "[CV] C=5, gamma=0.0005 ...............................................\n",
      "[CV] ................... C=5, gamma=0.0005, score=0.969, total=   0.0s\n",
      "[CV] C=5, gamma=0.0005 ...............................................\n",
      "[CV] ................... C=5, gamma=0.0005, score=0.875, total=   0.0s\n",
      "[CV] C=5, gamma=0.0005 ...............................................\n",
      "[CV] ................... C=5, gamma=0.0005, score=0.969, total=   0.0s\n",
      "[CV] C=5, gamma=0.0005 ...............................................\n",
      "[CV] ................... C=5, gamma=0.0005, score=0.968, total=   0.0s\n",
      "[CV] C=5, gamma=0.001 ................................................\n",
      "[CV] .................... C=5, gamma=0.001, score=0.938, total=   0.0s\n",
      "[CV] C=5, gamma=0.001 ................................................\n",
      "[CV] .................... C=5, gamma=0.001, score=0.969, total=   0.0s\n",
      "[CV] C=5, gamma=0.001 ................................................\n",
      "[CV] .................... C=5, gamma=0.001, score=0.875, total=   0.0s\n",
      "[CV] C=5, gamma=0.001 ................................................\n",
      "[CV] .................... C=5, gamma=0.001, score=0.969, total=   0.0s\n",
      "[CV] C=5, gamma=0.001 ................................................\n",
      "[CV] .................... C=5, gamma=0.001, score=0.968, total=   0.0s\n",
      "[CV] C=5, gamma=0.005 ................................................\n",
      "[CV] .................... C=5, gamma=0.005, score=0.938, total=   0.0s\n",
      "[CV] C=5, gamma=0.005 ................................................\n",
      "[CV] .................... C=5, gamma=0.005, score=0.969, total=   0.0s\n",
      "[CV] C=5, gamma=0.005 ................................................\n",
      "[CV] .................... C=5, gamma=0.005, score=0.875, total=   0.0s\n",
      "[CV] C=5, gamma=0.005 ................................................\n",
      "[CV] .................... C=5, gamma=0.005, score=0.969, total=   0.0s\n",
      "[CV] C=5, gamma=0.005 ................................................\n",
      "[CV] .................... C=5, gamma=0.005, score=0.968, total=   0.0s\n",
      "[CV] C=10, gamma=0.0001 ..............................................\n",
      "[CV] .................. C=10, gamma=0.0001, score=0.938, total=   0.0s\n",
      "[CV] C=10, gamma=0.0001 ..............................................\n",
      "[CV] .................. C=10, gamma=0.0001, score=0.969, total=   0.0s\n",
      "[CV] C=10, gamma=0.0001 ..............................................\n",
      "[CV] .................. C=10, gamma=0.0001, score=0.875, total=   0.0s\n",
      "[CV] C=10, gamma=0.0001 ..............................................\n",
      "[CV] .................. C=10, gamma=0.0001, score=0.969, total=   0.0s\n",
      "[CV] C=10, gamma=0.0001 ..............................................\n",
      "[CV] .................. C=10, gamma=0.0001, score=0.968, total=   0.0s\n",
      "[CV] C=10, gamma=0.0005 ..............................................\n",
      "[CV] .................. C=10, gamma=0.0005, score=0.938, total=   0.0s\n",
      "[CV] C=10, gamma=0.0005 ..............................................\n",
      "[CV] .................. C=10, gamma=0.0005, score=0.969, total=   0.0s\n",
      "[CV] C=10, gamma=0.0005 ..............................................\n",
      "[CV] .................. C=10, gamma=0.0005, score=0.875, total=   0.0s\n",
      "[CV] C=10, gamma=0.0005 ..............................................\n",
      "[CV] .................. C=10, gamma=0.0005, score=0.969, total=   0.0s\n",
      "[CV] C=10, gamma=0.0005 ..............................................\n",
      "[CV] .................. C=10, gamma=0.0005, score=0.968, total=   0.0s\n",
      "[CV] C=10, gamma=0.001 ...............................................\n",
      "[CV] ................... C=10, gamma=0.001, score=0.938, total=   0.0s\n",
      "[CV] C=10, gamma=0.001 ...............................................\n",
      "[CV] ................... C=10, gamma=0.001, score=0.969, total=   0.0s\n",
      "[CV] C=10, gamma=0.001 ...............................................\n",
      "[CV] ................... C=10, gamma=0.001, score=0.875, total=   0.0s\n",
      "[CV] C=10, gamma=0.001 ...............................................\n",
      "[CV] ................... C=10, gamma=0.001, score=0.969, total=   0.0s\n",
      "[CV] C=10, gamma=0.001 ...............................................\n",
      "[CV] ................... C=10, gamma=0.001, score=0.968, total=   0.0s\n",
      "[CV] C=10, gamma=0.005 ...............................................\n",
      "[CV] ................... C=10, gamma=0.005, score=0.938, total=   0.0s\n",
      "[CV] C=10, gamma=0.005 ...............................................\n",
      "[CV] ................... C=10, gamma=0.005, score=0.969, total=   0.0s\n",
      "[CV] C=10, gamma=0.005 ...............................................\n",
      "[CV] ................... C=10, gamma=0.005, score=0.875, total=   0.0s\n",
      "[CV] C=10, gamma=0.005 ...............................................\n",
      "[CV] ................... C=10, gamma=0.005, score=0.969, total=   0.0s\n",
      "[CV] C=10, gamma=0.005 ...............................................\n",
      "[CV] ................... C=10, gamma=0.005, score=0.968, total=   0.0s\n",
      "[CV] C=50, gamma=0.0001 ..............................................\n",
      "[CV] .................. C=50, gamma=0.0001, score=0.938, total=   0.0s\n",
      "[CV] C=50, gamma=0.0001 ..............................................\n",
      "[CV] .................. C=50, gamma=0.0001, score=0.969, total=   0.0s\n",
      "[CV] C=50, gamma=0.0001 ..............................................\n",
      "[CV] .................. C=50, gamma=0.0001, score=0.875, total=   0.0s\n",
      "[CV] C=50, gamma=0.0001 ..............................................\n",
      "[CV] .................. C=50, gamma=0.0001, score=0.969, total=   0.0s\n",
      "[CV] C=50, gamma=0.0001 ..............................................\n",
      "[CV] .................. C=50, gamma=0.0001, score=0.968, total=   0.0s\n",
      "[CV] C=50, gamma=0.0005 ..............................................\n",
      "[CV] .................. C=50, gamma=0.0005, score=0.938, total=   0.0s\n",
      "[CV] C=50, gamma=0.0005 ..............................................\n",
      "[CV] .................. C=50, gamma=0.0005, score=0.969, total=   0.0s\n",
      "[CV] C=50, gamma=0.0005 ..............................................\n",
      "[CV] .................. C=50, gamma=0.0005, score=0.875, total=   0.0s\n",
      "[CV] C=50, gamma=0.0005 ..............................................\n",
      "[CV] .................. C=50, gamma=0.0005, score=0.969, total=   0.0s\n",
      "[CV] C=50, gamma=0.0005 ..............................................\n",
      "[CV] .................. C=50, gamma=0.0005, score=0.968, total=   0.0s\n",
      "[CV] C=50, gamma=0.001 ...............................................\n",
      "[CV] ................... C=50, gamma=0.001, score=0.938, total=   0.0s\n",
      "[CV] C=50, gamma=0.001 ...............................................\n",
      "[CV] ................... C=50, gamma=0.001, score=0.969, total=   0.0s\n",
      "[CV] C=50, gamma=0.001 ...............................................\n",
      "[CV] ................... C=50, gamma=0.001, score=0.875, total=   0.0s\n",
      "[CV] C=50, gamma=0.001 ...............................................\n",
      "[CV] ................... C=50, gamma=0.001, score=0.969, total=   0.0s\n",
      "[CV] C=50, gamma=0.001 ...............................................\n",
      "[CV] ................... C=50, gamma=0.001, score=0.968, total=   0.0s\n",
      "[CV] C=50, gamma=0.005 ...............................................\n",
      "[CV] ................... C=50, gamma=0.005, score=0.938, total=   0.0s\n",
      "[CV] C=50, gamma=0.005 ...............................................\n"
     ]
    },
    {
     "name": "stdout",
     "output_type": "stream",
     "text": [
      "[CV] ................... C=50, gamma=0.005, score=0.969, total=   0.0s\n",
      "[CV] C=50, gamma=0.005 ...............................................\n",
      "[CV] ................... C=50, gamma=0.005, score=0.875, total=   0.0s\n",
      "[CV] C=50, gamma=0.005 ...............................................\n",
      "[CV] ................... C=50, gamma=0.005, score=0.969, total=   0.0s\n",
      "[CV] C=50, gamma=0.005 ...............................................\n",
      "[CV] ................... C=50, gamma=0.005, score=0.968, total=   0.0s\n"
     ]
    },
    {
     "name": "stderr",
     "output_type": "stream",
     "text": [
      "[Parallel(n_jobs=1)]: Done  80 out of  80 | elapsed:    0.9s finished\n"
     ]
    },
    {
     "data": {
      "text/plain": [
       "GridSearchCV(estimator=SVC(kernel='linear'),\n",
       "             param_grid={'C': [1, 5, 10, 50],\n",
       "                         'gamma': [0.0001, 0.0005, 0.001, 0.005]},\n",
       "             verbose=3)"
      ]
     },
     "execution_count": 63,
     "metadata": {},
     "output_type": "execute_result"
    }
   ],
   "source": [
    "#Train the parameters\n",
    "from sklearn.model_selection import GridSearchCV\n",
    "param_grid = {'C': [1, 5, 10, 50],\n",
    "              'gamma': [0.0001, 0.0005, 0.001, 0.005]}\n",
    "grid_svm = GridSearchCV(svm_model, param_grid, verbose=3)\n",
    "\n",
    "grid_svm.fit(X_train, y_train)"
   ]
  },
  {
   "cell_type": "code",
   "execution_count": 64,
   "metadata": {},
   "outputs": [
    {
     "name": "stdout",
     "output_type": "stream",
     "text": [
      "{'C': 1, 'gamma': 0.0001}\n",
      "0.9495967741935484\n"
     ]
    }
   ],
   "source": [
    "print(grid_svm.best_params_)\n",
    "print(grid_svm.best_score_)\n"
   ]
  },
  {
   "cell_type": "code",
   "execution_count": 65,
   "metadata": {},
   "outputs": [
    {
     "name": "stdout",
     "output_type": "stream",
     "text": [
      "Predictions\n",
      "Kangaroo: [1]\n",
      "Bald Eagle: [2]\n",
      "Rattle Snake: [3]\n",
      "Goldfish: [4]\n",
      "Mountain Chicken Frog: [5]\n",
      "Vampire Moth: [6]\n",
      "Coral: [7]\n",
      "Sea Turtle: [3]\n"
     ]
    }
   ],
   "source": [
    "print(f\"Predictions\")\n",
    "print(f\"Kangaroo: {svm_model.predict(kangaroo)}\")\n",
    "print(f\"Bald Eagle: {svm_model.predict(bald_eagle)}\")\n",
    "print(f\"Rattle Snake: {svm_model.predict(rattle_snake)}\")\n",
    "print(f\"Goldfish: {svm_model.predict(goldfish)}\")\n",
    "print(f\"Mountain Chicken Frog: {svm_model.predict(mountain_chicken_frog)}\")\n",
    "print(f\"Vampire Moth: {svm_model.predict(vampire_moth)}\")\n",
    "print(f\"Coral: {svm_model.predict(coral)}\")\n",
    "print(f\"Sea Turtle: {svm_model.predict(sea_turtle)}\")"
   ]
  },
  {
   "cell_type": "code",
   "execution_count": 66,
   "metadata": {},
   "outputs": [
    {
     "data": {
      "text/html": [
       "<div>\n",
       "<style scoped>\n",
       "    .dataframe tbody tr th:only-of-type {\n",
       "        vertical-align: middle;\n",
       "    }\n",
       "\n",
       "    .dataframe tbody tr th {\n",
       "        vertical-align: top;\n",
       "    }\n",
       "\n",
       "    .dataframe thead th {\n",
       "        text-align: right;\n",
       "    }\n",
       "</style>\n",
       "<table border=\"1\" class=\"dataframe\">\n",
       "  <thead>\n",
       "    <tr style=\"text-align: right;\">\n",
       "      <th></th>\n",
       "      <th>Prediction</th>\n",
       "      <th>Actual</th>\n",
       "    </tr>\n",
       "    <tr>\n",
       "      <th>animal_name</th>\n",
       "      <th></th>\n",
       "      <th></th>\n",
       "    </tr>\n",
       "  </thead>\n",
       "  <tbody>\n",
       "    <tr>\n",
       "      <th>Crow</th>\n",
       "      <td>2</td>\n",
       "      <td>2</td>\n",
       "    </tr>\n",
       "    <tr>\n",
       "      <th>Toad</th>\n",
       "      <td>5</td>\n",
       "      <td>5</td>\n",
       "    </tr>\n",
       "    <tr>\n",
       "      <th>Dragonfly</th>\n",
       "      <td>6</td>\n",
       "      <td>6</td>\n",
       "    </tr>\n",
       "    <tr>\n",
       "      <th>Kiwi</th>\n",
       "      <td>2</td>\n",
       "      <td>2</td>\n",
       "    </tr>\n",
       "    <tr>\n",
       "      <th>Chub</th>\n",
       "      <td>4</td>\n",
       "      <td>4</td>\n",
       "    </tr>\n",
       "  </tbody>\n",
       "</table>\n",
       "</div>"
      ],
      "text/plain": [
       "             Prediction  Actual\n",
       "animal_name                    \n",
       "Crow                  2       2\n",
       "Toad                  5       5\n",
       "Dragonfly             6       6\n",
       "Kiwi                  2       2\n",
       "Chub                  4       4"
      ]
     },
     "execution_count": 66,
     "metadata": {},
     "output_type": "execute_result"
    }
   ],
   "source": [
    "svm_predictions_table = pd.DataFrame({\"Prediction\": predictions_svm, \"Actual\": y_test})\n",
    "svm_predictions_table.head()"
   ]
  },
  {
   "cell_type": "code",
   "execution_count": 67,
   "metadata": {},
   "outputs": [
    {
     "data": {
      "image/png": "[encoded data removed]",
      "text/plain": [
       "<Figure size 1440x576 with 1 Axes>"
      ]
     },
     "metadata": {
      "needs_background": "light"
     },
     "output_type": "display_data"
    }
   ],
   "source": [
    "#Create the scatter plot of actual and predictions\n",
    "svm_fig = plt.figure(figsize=(20,8))\n",
    "plt.subplot(2,1,1)\n",
    "plt.tight_layout()\n",
    "plt.subplots_adjust(top=0.90)\n",
    "plt.ylim(0, 8)\n",
    "plt.xticks(rotation=90, ha='right')\n",
    "\n",
    "plt.scatter(svm_predictions_table.index, svm_predictions_table.Actual, marker='o', color='b', label='Actual')\n",
    "plt.scatter(svm_predictions_table.index, svm_predictions_table.Prediction, marker='x', color='r', label='Prediction')\n",
    "\n",
    "plt.title('Predicting Animal Class',color='k', size=14, weight='bold')\n",
    "plt.xlabel(\"Animal\")\n",
    "plt.ylabel('Class')\n",
    "plt.legend(loc=\"best\")\n",
    "plt.grid(alpha=0.5)\n",
    "\n",
    "# plt.savefig('../resources/svm.png', dpi=svm_fig.dpi)\n",
    "plt.show()"
   ]
  },
  {
   "cell_type": "code",
   "execution_count": 68,
   "metadata": {},
   "outputs": [
    {
     "data": {
      "image/png": "[encoded data removed]",
      "text/plain": [
       "<Figure size 1440x576 with 1 Axes>"
      ]
     },
     "metadata": {
      "needs_background": "light"
     },
     "output_type": "display_data"
    }
   ],
   "source": [
    "#Plot Residuals\n",
    "svm_xtest_shaped = predictions_svm.reshape(-1, 1)\n",
    "svm_ytest_shaped = y_test.values.reshape(-1,1)\n",
    "\n",
    "svm_xtrain = svm_model.predict(X_train)\n",
    "svm_xtrain_shaped = svm_xtrain.reshape(-1, 1)\n",
    "svm_ytrain_shaped = y_train.values.reshape(-1,1)\n",
    "\n",
    "svm_res_fig = plt.figure(figsize=(20,8))\n",
    "plt.subplot(2,1,1)\n",
    "plt.tight_layout()\n",
    "plt.subplots_adjust(top=0.90)\n",
    "\n",
    "plt.scatter(svm_xtest_shaped, svm_ytest_shaped - svm_xtest_shaped, c=\"orange\", label=\"Testing Data\")\n",
    "plt.scatter(svm_xtrain_shaped, svm_ytrain_shaped - svm_xtrain_shaped, c=\"blue\", label=\"Training Data\")\n",
    "plt.legend()\n",
    "plt.hlines(y=0, xmin=svm_xtest_shaped.min(), xmax=svm_xtest_shaped.max())\n",
    "plt.title('Residual Plot',color='k', size=14, weight='bold')\n",
    "\n",
    "# plt.savefig('../resources/svm_res.png', dpi=svm_res_fig.dpi)\n",
    "plt.show()"
   ]
  },
  {
   "cell_type": "markdown",
   "metadata": {},
   "source": [
    "#### Support Vector Machine Scaled"
   ]
  },
  {
   "cell_type": "code",
   "execution_count": 69,
   "metadata": {},
   "outputs": [
    {
     "name": "stdout",
     "output_type": "stream",
     "text": [
      "Train Acc: 0.969\n",
      "Test Acc: 0.943\n"
     ]
    }
   ],
   "source": [
    "svm_model_scaled = SVC(kernel='linear')\n",
    "svm_model_scaled.fit(X_train_scaled, y_train)\n",
    "\n",
    "print('Train Acc: %.3f' % svm_model_scaled.score(X_train_scaled, y_train))\n",
    "print('Test Acc: %.3f' % svm_model_scaled.score(X_test_scaled, y_test))"
   ]
  },
  {
   "cell_type": "code",
   "execution_count": 70,
   "metadata": {
    "scrolled": true
   },
   "outputs": [
    {
     "name": "stdout",
     "output_type": "stream",
     "text": [
      "              precision    recall  f1-score   support\n",
      "\n",
      "           1       1.00      1.00      1.00        18\n",
      "           2       1.00      1.00      1.00        10\n",
      "           3       1.00      0.50      0.67         4\n",
      "           4       1.00      1.00      1.00         6\n",
      "           5       0.60      1.00      0.75         3\n",
      "           6       0.86      1.00      0.92         6\n",
      "           7       1.00      0.83      0.91         6\n",
      "\n",
      "    accuracy                           0.94        53\n",
      "   macro avg       0.92      0.90      0.89        53\n",
      "weighted avg       0.96      0.94      0.94        53\n",
      "\n"
     ]
    }
   ],
   "source": [
    "predictions_svm_scaled = svm_model_scaled.predict(X_test_scaled)\n",
    "print(classification_report(y_test, predictions_svm_scaled,\n",
    "                            target_names=[\"1\",\"2\",\"3\",\"4\",\"5\",\"6\",\"7\"]))"
   ]
  },
  {
   "cell_type": "code",
   "execution_count": 71,
   "metadata": {},
   "outputs": [
    {
     "name": "stdout",
     "output_type": "stream",
     "text": [
      "Fitting 5 folds for each of 16 candidates, totalling 80 fits\n",
      "[CV] C=1, gamma=0.0001 ...............................................\n",
      "[CV] ................... C=1, gamma=0.0001, score=0.969, total=   0.0s\n",
      "[CV] C=1, gamma=0.0001 ...............................................\n",
      "[CV] ................... C=1, gamma=0.0001, score=0.938, total=   0.0s\n",
      "[CV] C=1, gamma=0.0001 ...............................................\n",
      "[CV] ................... C=1, gamma=0.0001, score=0.875, total=   0.0s\n",
      "[CV] C=1, gamma=0.0001 ...............................................\n",
      "[CV] ................... C=1, gamma=0.0001, score=0.969, total=   0.0s\n",
      "[CV] C=1, gamma=0.0001 ...............................................\n",
      "[CV] ................... C=1, gamma=0.0001, score=0.935, total=   0.0s\n",
      "[CV] C=1, gamma=0.0005 ...............................................\n",
      "[CV] ................... C=1, gamma=0.0005, score=0.969, total=   0.0s\n",
      "[CV] C=1, gamma=0.0005 ...............................................\n",
      "[CV] ................... C=1, gamma=0.0005, score=0.938, total=   0.0s\n",
      "[CV] C=1, gamma=0.0005 ...............................................\n",
      "[CV] ................... C=1, gamma=0.0005, score=0.875, total=   0.0s\n",
      "[CV] C=1, gamma=0.0005 ...............................................\n",
      "[CV] ................... C=1, gamma=0.0005, score=0.969, total=   0.0s\n",
      "[CV] C=1, gamma=0.0005 ...............................................\n",
      "[CV] ................... C=1, gamma=0.0005, score=0.935, total=   0.0s\n",
      "[CV] C=1, gamma=0.001 ................................................\n",
      "[CV] .................... C=1, gamma=0.001, score=0.969, total=   0.0s\n",
      "[CV] C=1, gamma=0.001 ................................................\n",
      "[CV] .................... C=1, gamma=0.001, score=0.938, total=   0.0s\n",
      "[CV] C=1, gamma=0.001 ................................................\n",
      "[CV] .................... C=1, gamma=0.001, score=0.875, total=   0.0s\n",
      "[CV] C=1, gamma=0.001 ................................................\n",
      "[CV] .................... C=1, gamma=0.001, score=0.969, total=   0.0s\n",
      "[CV] C=1, gamma=0.001 ................................................\n",
      "[CV] .................... C=1, gamma=0.001, score=0.935, total=   0.0s\n",
      "[CV] C=1, gamma=0.005 ................................................\n",
      "[CV] .................... C=1, gamma=0.005, score=0.969, total=   0.0s\n",
      "[CV] C=1, gamma=0.005 ................................................\n",
      "[CV] .................... C=1, gamma=0.005, score=0.938, total=   0.0s\n",
      "[CV] C=1, gamma=0.005 ................................................\n",
      "[CV] .................... C=1, gamma=0.005, score=0.875, total=   0.0s\n",
      "[CV] C=1, gamma=0.005 ................................................\n",
      "[CV] .................... C=1, gamma=0.005, score=0.969, total=   0.0s"
     ]
    },
    {
     "name": "stderr",
     "output_type": "stream",
     "text": [
      "[Parallel(n_jobs=1)]: Using backend SequentialBackend with 1 concurrent workers.\n",
      "[Parallel(n_jobs=1)]: Done   1 out of   1 | elapsed:    0.0s remaining:    0.0s\n",
      "[Parallel(n_jobs=1)]: Done   2 out of   2 | elapsed:    0.0s remaining:    0.0s\n"
     ]
    },
    {
     "name": "stdout",
     "output_type": "stream",
     "text": [
      "\n",
      "[CV] C=1, gamma=0.005 ................................................\n",
      "[CV] .................... C=1, gamma=0.005, score=0.935, total=   0.0s\n",
      "[CV] C=5, gamma=0.0001 ...............................................\n",
      "[CV] ................... C=5, gamma=0.0001, score=0.938, total=   0.0s\n",
      "[CV] C=5, gamma=0.0001 ...............................................\n",
      "[CV] ................... C=5, gamma=0.0001, score=0.969, total=   0.0s\n",
      "[CV] C=5, gamma=0.0001 ...............................................\n",
      "[CV] ................... C=5, gamma=0.0001, score=0.938, total=   0.0s\n",
      "[CV] C=5, gamma=0.0001 ...............................................\n",
      "[CV] ................... C=5, gamma=0.0001, score=0.969, total=   0.0s\n",
      "[CV] C=5, gamma=0.0001 ...............................................\n",
      "[CV] ................... C=5, gamma=0.0001, score=0.968, total=   0.0s\n",
      "[CV] C=5, gamma=0.0005 ...............................................\n",
      "[CV] ................... C=5, gamma=0.0005, score=0.938, total=   0.0s\n",
      "[CV] C=5, gamma=0.0005 ...............................................\n",
      "[CV] ................... C=5, gamma=0.0005, score=0.969, total=   0.0s\n",
      "[CV] C=5, gamma=0.0005 ...............................................\n",
      "[CV] ................... C=5, gamma=0.0005, score=0.938, total=   0.0s\n",
      "[CV] C=5, gamma=0.0005 ...............................................\n",
      "[CV] ................... C=5, gamma=0.0005, score=0.969, total=   0.0s\n",
      "[CV] C=5, gamma=0.0005 ...............................................\n",
      "[CV] ................... C=5, gamma=0.0005, score=0.968, total=   0.0s\n",
      "[CV] C=5, gamma=0.001 ................................................\n",
      "[CV] .................... C=5, gamma=0.001, score=0.938, total=   0.0s\n",
      "[CV] C=5, gamma=0.001 ................................................\n",
      "[CV] .................... C=5, gamma=0.001, score=0.969, total=   0.0s\n",
      "[CV] C=5, gamma=0.001 ................................................\n",
      "[CV] .................... C=5, gamma=0.001, score=0.938, total=   0.0s\n",
      "[CV] C=5, gamma=0.001 ................................................\n",
      "[CV] .................... C=5, gamma=0.001, score=0.969, total=   0.0s\n",
      "[CV] C=5, gamma=0.001 ................................................\n",
      "[CV] .................... C=5, gamma=0.001, score=0.968, total=   0.0s\n",
      "[CV] C=5, gamma=0.005 ................................................\n",
      "[CV] .................... C=5, gamma=0.005, score=0.938, total=   0.0s\n",
      "[CV] C=5, gamma=0.005 ................................................\n",
      "[CV] .................... C=5, gamma=0.005, score=0.969, total=   0.0s\n",
      "[CV] C=5, gamma=0.005 ................................................\n",
      "[CV] .................... C=5, gamma=0.005, score=0.938, total=   0.0s\n",
      "[CV] C=5, gamma=0.005 ................................................\n",
      "[CV] .................... C=5, gamma=0.005, score=0.969, total=   0.0s\n",
      "[CV] C=5, gamma=0.005 ................................................\n",
      "[CV] .................... C=5, gamma=0.005, score=0.968, total=   0.0s\n",
      "[CV] C=10, gamma=0.0001 ..............................................\n",
      "[CV] .................. C=10, gamma=0.0001, score=0.938, total=   0.0s\n",
      "[CV] C=10, gamma=0.0001 ..............................................\n",
      "[CV] .................. C=10, gamma=0.0001, score=0.969, total=   0.0s\n",
      "[CV] C=10, gamma=0.0001 ..............................................\n",
      "[CV] .................. C=10, gamma=0.0001, score=0.938, total=   0.0s\n",
      "[CV] C=10, gamma=0.0001 ..............................................\n",
      "[CV] .................. C=10, gamma=0.0001, score=0.969, total=   0.0s\n",
      "[CV] C=10, gamma=0.0001 ..............................................\n",
      "[CV] .................. C=10, gamma=0.0001, score=0.968, total=   0.0s\n",
      "[CV] C=10, gamma=0.0005 ..............................................\n",
      "[CV] .................. C=10, gamma=0.0005, score=0.938, total=   0.0s\n",
      "[CV] C=10, gamma=0.0005 ..............................................\n",
      "[CV] .................. C=10, gamma=0.0005, score=0.969, total=   0.0s\n",
      "[CV] C=10, gamma=0.0005 ..............................................\n",
      "[CV] .................. C=10, gamma=0.0005, score=0.938, total=   0.0s\n",
      "[CV] C=10, gamma=0.0005 ..............................................\n",
      "[CV] .................. C=10, gamma=0.0005, score=0.969, total=   0.0s\n",
      "[CV] C=10, gamma=0.0005 ..............................................\n",
      "[CV] .................. C=10, gamma=0.0005, score=0.968, total=   0.0s\n",
      "[CV] C=10, gamma=0.001 ...............................................\n",
      "[CV] ................... C=10, gamma=0.001, score=0.938, total=   0.0s\n",
      "[CV] C=10, gamma=0.001 ...............................................\n",
      "[CV] ................... C=10, gamma=0.001, score=0.969, total=   0.0s\n",
      "[CV] C=10, gamma=0.001 ...............................................\n",
      "[CV] ................... C=10, gamma=0.001, score=0.938, total=   0.0s\n",
      "[CV] C=10, gamma=0.001 ...............................................\n",
      "[CV] ................... C=10, gamma=0.001, score=0.969, total=   0.0s\n",
      "[CV] C=10, gamma=0.001 ...............................................\n",
      "[CV] ................... C=10, gamma=0.001, score=0.968, total=   0.0s\n",
      "[CV] C=10, gamma=0.005 ...............................................\n",
      "[CV] ................... C=10, gamma=0.005, score=0.938, total=   0.0s\n",
      "[CV] C=10, gamma=0.005 ...............................................\n",
      "[CV] ................... C=10, gamma=0.005, score=0.969, total=   0.0s\n",
      "[CV] C=10, gamma=0.005 ...............................................\n",
      "[CV] ................... C=10, gamma=0.005, score=0.938, total=   0.0s\n",
      "[CV] C=10, gamma=0.005 ...............................................\n",
      "[CV] ................... C=10, gamma=0.005, score=0.969, total=   0.0s\n",
      "[CV] C=10, gamma=0.005 ...............................................\n",
      "[CV] ................... C=10, gamma=0.005, score=0.968, total=   0.0s\n",
      "[CV] C=50, gamma=0.0001 ..............................................\n",
      "[CV] .................. C=50, gamma=0.0001, score=0.938, total=   0.0s\n",
      "[CV] C=50, gamma=0.0001 ..............................................\n",
      "[CV] .................. C=50, gamma=0.0001, score=0.969, total=   0.0s\n",
      "[CV] C=50, gamma=0.0001 ..............................................\n",
      "[CV] .................. C=50, gamma=0.0001, score=0.938, total=   0.0s\n",
      "[CV] C=50, gamma=0.0001 ..............................................\n",
      "[CV] .................. C=50, gamma=0.0001, score=0.969, total=   0.0s\n",
      "[CV] C=50, gamma=0.0001 ..............................................\n",
      "[CV] .................. C=50, gamma=0.0001, score=0.968, total=   0.0s\n",
      "[CV] C=50, gamma=0.0005 ..............................................\n",
      "[CV] .................. C=50, gamma=0.0005, score=0.938, total=   0.0s\n",
      "[CV] C=50, gamma=0.0005 ..............................................\n",
      "[CV] .................. C=50, gamma=0.0005, score=0.969, total=   0.0s\n",
      "[CV] C=50, gamma=0.0005 ..............................................\n",
      "[CV] .................. C=50, gamma=0.0005, score=0.938, total=   0.0s\n",
      "[CV] C=50, gamma=0.0005 ..............................................\n",
      "[CV] .................. C=50, gamma=0.0005, score=0.969, total=   0.0s\n",
      "[CV] C=50, gamma=0.0005 ..............................................\n",
      "[CV] .................. C=50, gamma=0.0005, score=0.968, total=   0.0s\n",
      "[CV] C=50, gamma=0.001 ...............................................\n",
      "[CV] ................... C=50, gamma=0.001, score=0.938, total=   0.0s\n",
      "[CV] C=50, gamma=0.001 ...............................................\n",
      "[CV] ................... C=50, gamma=0.001, score=0.969, total=   0.0s\n",
      "[CV] C=50, gamma=0.001 ...............................................\n",
      "[CV] ................... C=50, gamma=0.001, score=0.938, total=   0.0s\n",
      "[CV] C=50, gamma=0.001 ...............................................\n",
      "[CV] ................... C=50, gamma=0.001, score=0.969, total=   0.0s\n",
      "[CV] C=50, gamma=0.001 ...............................................\n",
      "[CV] ................... C=50, gamma=0.001, score=0.968, total=   0.0s\n",
      "[CV] C=50, gamma=0.005 ...............................................\n",
      "[CV] ................... C=50, gamma=0.005, score=0.938, total=   0.0s\n",
      "[CV] C=50, gamma=0.005 ...............................................\n",
      "[CV] ................... C=50, gamma=0.005, score=0.969, total=   0.0s\n",
      "[CV] C=50, gamma=0.005 ...............................................\n",
      "[CV] ................... C=50, gamma=0.005, score=0.938, total=   0.0s\n",
      "[CV] C=50, gamma=0.005 ...............................................\n",
      "[CV] ................... C=50, gamma=0.005, score=0.969, total=   0.0s\n",
      "[CV] C=50, gamma=0.005 ...............................................\n",
      "[CV] ................... C=50, gamma=0.005, score=0.968, total=   0.0s\n"
     ]
    },
    {
     "name": "stderr",
     "output_type": "stream",
     "text": [
      "[Parallel(n_jobs=1)]: Done  80 out of  80 | elapsed:    0.5s finished\n"
     ]
    },
    {
     "data": {
      "text/plain": [
       "GridSearchCV(estimator=SVC(kernel='linear'),\n",
       "             param_grid={'C': [1, 5, 10, 50],\n",
       "                         'gamma': [0.0001, 0.0005, 0.001, 0.005]},\n",
       "             verbose=3)"
      ]
     },
     "execution_count": 71,
     "metadata": {},
     "output_type": "execute_result"
    }
   ],
   "source": [
    "#Train the parameters\n",
    "param_grid_scaled = {'C': [1, 5, 10, 50],\n",
    "              'gamma': [0.0001, 0.0005, 0.001, 0.005]}\n",
    "grid_svm_scaled = GridSearchCV(svm_model, param_grid, verbose=3)\n",
    "\n",
    "grid_svm_scaled.fit(X_train_scaled, y_train)"
   ]
  },
  {
   "cell_type": "code",
   "execution_count": 72,
   "metadata": {},
   "outputs": [
    {
     "name": "stdout",
     "output_type": "stream",
     "text": [
      "{'C': 5, 'gamma': 0.0001}\n",
      "0.9560483870967742\n"
     ]
    }
   ],
   "source": [
    "print(grid_svm_scaled.best_params_)\n",
    "print(grid_svm_scaled.best_score_)"
   ]
  },
  {
   "cell_type": "code",
   "execution_count": 73,
   "metadata": {},
   "outputs": [
    {
     "name": "stdout",
     "output_type": "stream",
     "text": [
      "Predictions\n",
      "Kangaroo: [1]\n",
      "Bald Eagle: [2]\n",
      "Rattle Snake: [3]\n",
      "Goldfish: [4]\n",
      "Mountain Chicken Frog: [5]\n",
      "Vampire Moth: [6]\n",
      "Coral: [7]\n",
      "Sea Turtle: [3]\n"
     ]
    }
   ],
   "source": [
    "print(f\"Predictions\")\n",
    "print(f\"Kangaroo: {svm_model_scaled.predict(kangaroo)}\")\n",
    "print(f\"Bald Eagle: {svm_model_scaled.predict(bald_eagle)}\")\n",
    "print(f\"Rattle Snake: {svm_model_scaled.predict(rattle_snake)}\")\n",
    "print(f\"Goldfish: {svm_model_scaled.predict(goldfish)}\")\n",
    "print(f\"Mountain Chicken Frog: {svm_model_scaled.predict(mountain_chicken_frog)}\")\n",
    "print(f\"Vampire Moth: {svm_model_scaled.predict(vampire_moth)}\")\n",
    "print(f\"Coral: {svm_model_scaled.predict(coral)}\")\n",
    "print(f\"Sea Turtle: {svm_model_scaled.predict(sea_turtle)}\")"
   ]
  },
  {
   "cell_type": "code",
   "execution_count": 74,
   "metadata": {},
   "outputs": [
    {
     "data": {
      "text/html": [
       "<div>\n",
       "<style scoped>\n",
       "    .dataframe tbody tr th:only-of-type {\n",
       "        vertical-align: middle;\n",
       "    }\n",
       "\n",
       "    .dataframe tbody tr th {\n",
       "        vertical-align: top;\n",
       "    }\n",
       "\n",
       "    .dataframe thead th {\n",
       "        text-align: right;\n",
       "    }\n",
       "</style>\n",
       "<table border=\"1\" class=\"dataframe\">\n",
       "  <thead>\n",
       "    <tr style=\"text-align: right;\">\n",
       "      <th></th>\n",
       "      <th>Prediction</th>\n",
       "      <th>Actual</th>\n",
       "    </tr>\n",
       "    <tr>\n",
       "      <th>animal_name</th>\n",
       "      <th></th>\n",
       "      <th></th>\n",
       "    </tr>\n",
       "  </thead>\n",
       "  <tbody>\n",
       "    <tr>\n",
       "      <th>Crow</th>\n",
       "      <td>2</td>\n",
       "      <td>2</td>\n",
       "    </tr>\n",
       "    <tr>\n",
       "      <th>Toad</th>\n",
       "      <td>5</td>\n",
       "      <td>5</td>\n",
       "    </tr>\n",
       "    <tr>\n",
       "      <th>Dragonfly</th>\n",
       "      <td>6</td>\n",
       "      <td>6</td>\n",
       "    </tr>\n",
       "    <tr>\n",
       "      <th>Kiwi</th>\n",
       "      <td>2</td>\n",
       "      <td>2</td>\n",
       "    </tr>\n",
       "    <tr>\n",
       "      <th>Chub</th>\n",
       "      <td>4</td>\n",
       "      <td>4</td>\n",
       "    </tr>\n",
       "  </tbody>\n",
       "</table>\n",
       "</div>"
      ],
      "text/plain": [
       "             Prediction  Actual\n",
       "animal_name                    \n",
       "Crow                  2       2\n",
       "Toad                  5       5\n",
       "Dragonfly             6       6\n",
       "Kiwi                  2       2\n",
       "Chub                  4       4"
      ]
     },
     "execution_count": 74,
     "metadata": {},
     "output_type": "execute_result"
    }
   ],
   "source": [
    "svm_scaled_predictions_table = pd.DataFrame({\"Prediction\": predictions_svm_scaled, \"Actual\": y_test})\n",
    "svm_scaled_predictions_table.head()"
   ]
  },
  {
   "cell_type": "code",
   "execution_count": 75,
   "metadata": {},
   "outputs": [
    {
     "data": {
      "image/png": "[encoded data removed]",
      "text/plain": [
       "<Figure size 1440x576 with 1 Axes>"
      ]
     },
     "metadata": {
      "needs_background": "light"
     },
     "output_type": "display_data"
    }
   ],
   "source": [
    "#Create the scatter plot of actual and predictions\n",
    "svm_scaled_fig = plt.figure(figsize=(20,8))\n",
    "plt.subplot(2,1,1)\n",
    "plt.tight_layout()\n",
    "plt.subplots_adjust(top=0.90)\n",
    "\n",
    "plt.ylim(0, 8)\n",
    "plt.xticks(rotation=90, ha='right')\n",
    "plt.scatter(svm_scaled_predictions_table.index, svm_scaled_predictions_table.Actual, marker='o', color='b', label='Actual')\n",
    "plt.scatter(svm_scaled_predictions_table.index, svm_scaled_predictions_table.Prediction, marker='x', color='r', label='Prediction')\n",
    "plt.title('Min Max Scaler Predicting Animal Class',color='k', size=14, weight='bold')\n",
    "plt.xlabel(\"Animal\")\n",
    "plt.ylabel('Class')\n",
    "plt.legend(loc=\"best\")\n",
    "plt.grid(alpha=0.5)\n",
    "\n",
    "# plt.savefig('../resources/svm_scaled.png', dpi=svm_scaled_fig.dpi)\n",
    "plt.show()"
   ]
  },
  {
   "cell_type": "code",
   "execution_count": 76,
   "metadata": {},
   "outputs": [
    {
     "data": {
      "image/png": "[encoded data removed]",
      "text/plain": [
       "<Figure size 1440x576 with 1 Axes>"
      ]
     },
     "metadata": {
      "needs_background": "light"
     },
     "output_type": "display_data"
    }
   ],
   "source": [
    "#Plot Residuals\n",
    "svm_scaled_xtest_shaped = predictions_svm_scaled.reshape(-1, 1)\n",
    "svm_scaled_ytest_shaped = y_test.values.reshape(-1,1)\n",
    "\n",
    "svm_scaled_xtrain = svm_model_scaled.predict(X_train)\n",
    "svm_scaled_xtrain_shaped = svm_scaled_xtrain.reshape(-1, 1)\n",
    "svm_scaled_ytrain_shaped = y_train.values.reshape(-1,1)\n",
    "\n",
    "svm_scaled_res_fig = plt.figure(figsize=(20,8))\n",
    "plt.subplot(2,1,1)\n",
    "plt.tight_layout()\n",
    "plt.subplots_adjust(top=0.90)\n",
    "\n",
    "plt.scatter(svm_scaled_xtest_shaped, svm_scaled_ytest_shaped - svm_scaled_xtest_shaped, c=\"orange\", label=\"Testing Data\")\n",
    "plt.scatter(svm_scaled_xtrain_shaped, svm_scaled_ytrain_shaped - svm_scaled_xtrain_shaped, c=\"blue\", label=\"Training Data\")\n",
    "plt.legend()\n",
    "plt.hlines(y=0, xmin=svm_scaled_xtest_shaped.min(), xmax=svm_scaled_xtest_shaped.max())\n",
    "plt.title('Min Max Scaler Residual Plot',color='k', size=14, weight='bold')\n",
    "\n",
    "# plt.savefig('../resources/svm_scaled_res.png', dpi=svm_scaled_res_fig.dpi)\n",
    "plt.show()"
   ]
  },
  {
   "cell_type": "code",
   "execution_count": null,
   "metadata": {},
   "outputs": [],
   "source": []
  },
  {
   "cell_type": "raw",
   "metadata": {},
   "source": []
  }
 ],
 "metadata": {
  "kernelspec": {
   "display_name": "Python 3",
   "language": "python",
   "name": "python3"
  },
  "language_info": {
   "codemirror_mode": {
    "name": "ipython",
    "version": 3
   },
   "file_extension": ".py",
   "mimetype": "text/x-python",
   "name": "python",
   "nbconvert_exporter": "python",
   "pygments_lexer": "ipython3",
   "version": "3.6.12"
  }
 },
 "nbformat": 4,
 "nbformat_minor": 4
}
