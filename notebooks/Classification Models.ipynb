{
 "cells": [
  {
   "cell_type": "code",
   "execution_count": null,
   "metadata": {},
   "outputs": [],
   "source": [
    "import matplotlib.pyplot as plt\n",
    "import numpy as np\n",
    "import pandas as pd\n",
    "import scipy.stats as stats\n",
    "import os"
   ]
  },
  {
   "cell_type": "code",
   "execution_count": null,
   "metadata": {},
   "outputs": [],
   "source": [
    "# Get CSV file\n",
    "zoo = pd.read_csv(os.path.join('..','Resources', 'zoo.csv'))\n",
    "zoo"
   ]
  },
  {
   "cell_type": "code",
   "execution_count": null,
   "metadata": {},
   "outputs": [],
   "source": [
    "# Create dataframe\n",
    "zoo_df=zoo.set_index('animal_name')\n",
    "zoo_df"
   ]
  },
  {
   "cell_type": "code",
   "execution_count": null,
   "metadata": {},
   "outputs": [],
   "source": [
    "# Data Summary\n",
    "zoo_df[\"class\"].value_counts()\n"
   ]
  },
  {
   "cell_type": "code",
   "execution_count": null,
   "metadata": {},
   "outputs": [],
   "source": [
    "# Data for predictions\n",
    "kangaroo = np.array([[1,0,0,1,0,0,0,1,1,1,0,0,2,1,0,1]])\n",
    "bald_eagle = np.array([[0,1,1,0,1,0,1,0,1,1,0,0,2,1,0,0]])\n",
    "rattle_snake = np.array([[0,0,1,0,0,0,1,1,1,1,1,0,0,1,0,0,]])\n",
    "goldfish = np.array([[0,0,1,0,0,1,0,0,1,0,0,1,0,1,1,0]])\n",
    "mountain_chicken_frog = np.array([[0,0,1,0,0,1,1,0,1,1,0,0,4,0,0,0]])\n",
    "vampire_moth = np.array([[0,0,1,0,1,0,1,0,0,1,0,0,6,0,0,0]])\n",
    "coral = np.array([[0,0,0,0,0,1,0,0,0,0,0,0,0,0,0,0]])\n",
    "sea_turtle = np.array([[0,0,1,0,0,1,1,0,1,0,0,1,4,1,0,1]])"
   ]
  },
  {
   "cell_type": "code",
   "execution_count": null,
   "metadata": {},
   "outputs": [],
   "source": [
    "# Assign X and y\n",
    "X = zoo_df.drop([\"class_type\",\"class\"], axis=1)\n",
    "y = zoo_df[\"class_type\"]\n",
    "print (X.shape, y.shape)"
   ]
  },
  {
   "cell_type": "code",
   "execution_count": null,
   "metadata": {},
   "outputs": [],
   "source": [
    "# Split data into training and testing sets\n",
    "from sklearn.model_selection import train_test_split\n",
    "\n",
    "X_train, X_test, y_train, y_test = train_test_split(X, y, random_state=1)\n"
   ]
  },
  {
   "cell_type": "markdown",
   "metadata": {},
   "source": [
    "#### Run chi square test on training/testing data sets"
   ]
  },
  {
   "cell_type": "code",
   "execution_count": null,
   "metadata": {},
   "outputs": [],
   "source": [
    "# Run chi-squared test to look for statistical significance between overall data set, and training and testing data sets\n",
    "# Get counts of values in training and testing sets\n",
    "y_train_df = pd.DataFrame(y_train)\n",
    "y_train_counts_df = pd.DataFrame(y_train_df.value_counts())\n",
    "\n",
    "y_test_df = pd.DataFrame(y_test)\n",
    "y_test_counts_df = pd.DataFrame(y_test_df.value_counts())\n",
    "y_test_counts_df\n",
    "\n",
    "#Get counts of values for overall zoo dataset\n",
    "zoo_counts_train_df = pd.DataFrame((zoo_df[\"class_type\"].value_counts()*0.75)).astype(int)\n",
    "zoo_counts_train_df = zoo_counts_train_df.rename(columns= {\"class_type\": \"count\"})\n",
    "zoo_counts_train_df.index.names = [\"class_type\"]\n",
    "zoo_counts_test_df = pd.DataFrame((zoo_df[\"class_type\"].value_counts()*0.25)).astype(int)\n",
    "zoo_counts_test_df = zoo_counts_test_df.rename(columns= {\"class_type\": \"count\"})\n",
    "zoo_counts_test_df.index.names = [\"class_type\"]\n",
    "\n",
    "# Merge counts into training dataframe and testing dataframe\n",
    "merged_training_df = pd.merge(y_train_counts_df, zoo_counts_train_df, on=\"class_type\")\n",
    "merged_training_df = merged_training_df.rename(columns= {0:\"Actual\", \"count\":\"Expected\"})\n",
    "\n",
    "merged_testing_df = pd.merge(y_test_counts_df, zoo_counts_test_df, on=\"class_type\")\n",
    "merged_testing_df = merged_testing_df.rename(columns= {0:\"Actual\", \"count\":\"Expected\"})"
   ]
  },
  {
   "cell_type": "code",
   "execution_count": null,
   "metadata": {},
   "outputs": [],
   "source": [
    "merged_training_df"
   ]
  },
  {
   "cell_type": "code",
   "execution_count": null,
   "metadata": {},
   "outputs": [],
   "source": [
    "merged_testing_df"
   ]
  },
  {
   "cell_type": "code",
   "execution_count": null,
   "metadata": {},
   "outputs": [],
   "source": [
    "# Run the chi square test on training data\n",
    "stats.chisquare(merged_training_df['Actual'], merged_training_df['Expected'])"
   ]
  },
  {
   "cell_type": "code",
   "execution_count": null,
   "metadata": {},
   "outputs": [],
   "source": [
    "# Run the chi square test on testing data\n",
    "stats.chisquare(merged_testing_df['Actual'], merged_testing_df['Expected'])"
   ]
  },
  {
   "cell_type": "markdown",
   "metadata": {},
   "source": [
    "### Feature Selection"
   ]
  },
  {
   "cell_type": "markdown",
   "metadata": {},
   "source": [
    "Explanation and Code from https://machinelearningmastery.com/feature-selection-with-categorical-data/"
   ]
  },
  {
   "cell_type": "markdown",
   "metadata": {},
   "source": [
    "#### Chi-Squared"
   ]
  },
  {
   "cell_type": "code",
   "execution_count": null,
   "metadata": {},
   "outputs": [],
   "source": [
    "from sklearn.feature_selection import SelectKBest, chi2, mutual_info_classif\n",
    "\n",
    "# Run chi-squared independence test\n",
    "fs_chi = SelectKBest(score_func=chi2, k='all')\n",
    "fit_chi = fs_chi.fit(X_train, y_train)\n",
    "\n",
    "# Create dataframe with results\n",
    "chi_scores_df = pd.DataFrame(fit_chi.scores_)\n",
    "chi_columns_df = pd.DataFrame(X.columns)\n",
    "\n",
    "features_df = pd.concat([chi_columns_df, chi_scores_df], axis=1)\n",
    "features_df.columns = [\"Feature\", \"Score\"]\n",
    "features_df = features_df.sort_values(by=['Score'], ascending=False)\n",
    "features_df"
   ]
  },
  {
   "cell_type": "code",
   "execution_count": null,
   "metadata": {},
   "outputs": [],
   "source": [
    "# Find critical value\n",
    "# With 7 rows, the degree of freedom is 6\n",
    "# With a p-value of 0.05, the confidence level is 1.00 - 0.05 = 0.95\n",
    "critical_value = stats.chi2.ppf(q = 0.95, df = 6)\n",
    "critical_value\n"
   ]
  },
  {
   "cell_type": "markdown",
   "metadata": {},
   "source": [
    "#### Mutual Information"
   ]
  },
  {
   "cell_type": "code",
   "execution_count": null,
   "metadata": {},
   "outputs": [],
   "source": [
    "# Run mutual information module\n",
    "\n",
    "MI_fs = SelectKBest(score_func=mutual_info_classif, k='all')\n",
    "MI_fs_fit = MI_fs.fit(X_train, y_train)\n",
    "X_train_MI_fs = MI_fs.transform(X_train)\n",
    "X_test_MI_fs = MI_fs.transform(X_test)\n",
    "\n",
    "#Create dataframe with results\n",
    "MI_scores_df = pd.DataFrame(MI_fs_fit.scores_)\n",
    "MI_columns_df = pd.DataFrame(X.columns)\n",
    "\n",
    "MI_features_df = pd.concat([MI_columns_df, MI_scores_df], axis=1)\n",
    "MI_features_df.columns = [\"Feature\", \"Score\"]\n",
    "MI_features_df = MI_features_df.sort_values(by=['Score'], ascending=False)\n",
    "MI_features_df"
   ]
  },
  {
   "cell_type": "markdown",
   "metadata": {},
   "source": [
    "### Logistic Regression"
   ]
  },
  {
   "cell_type": "code",
   "execution_count": null,
   "metadata": {},
   "outputs": [],
   "source": [
    "from sklearn.linear_model import LogisticRegression\n",
    "\n",
    "classifier = LogisticRegression(max_iter=500)\n",
    "classifier.fit(X_train, y_train)"
   ]
  },
  {
   "cell_type": "code",
   "execution_count": null,
   "metadata": {},
   "outputs": [],
   "source": [
    "print(f\"Training score: {classifier.score(X_train, y_train)}\")\n",
    "print(f\"Testing score: {classifier.score(X_test, y_test)}\")"
   ]
  },
  {
   "cell_type": "code",
   "execution_count": null,
   "metadata": {},
   "outputs": [],
   "source": [
    "# Print predictions for chosen animals\n",
    "print(f\"Predictions\")\n",
    "print(f\"Kangaroo: {classifier.predict(kangaroo)}\")\n",
    "print(f\"Bald Eagle: {classifier.predict(bald_eagle)}\")\n",
    "print(f\"Rattle Snake: {classifier.predict(rattle_snake)}\")\n",
    "print(f\"Goldfish: {classifier.predict(goldfish)}\")\n",
    "print(f\"Mountain Chicken Frog: {classifier.predict(mountain_chicken_frog)}\")\n",
    "print(f\"Vampire Moth: {classifier.predict(vampire_moth)}\")\n",
    "print(f\"Coral: {classifier.predict(coral)}\")\n",
    "print(f\"Sea Turtle: {classifier.predict(sea_turtle)}\")"
   ]
  },
  {
   "cell_type": "code",
   "execution_count": null,
   "metadata": {},
   "outputs": [],
   "source": [
    "# Make predictions for test dataset\n",
    "predictions_logreg = classifier.predict(X_test)\n",
    "class_predictions_table = pd.DataFrame({\"Prediction\": predictions_logreg, \"Actual\": y_test})\n",
    "class_predictions_table.head()"
   ]
  },
  {
   "cell_type": "code",
   "execution_count": null,
   "metadata": {},
   "outputs": [],
   "source": [
    "#Create the scatter plot of actual and predictions\n",
    "fig = plt.figure(figsize=(20,8))\n",
    "plt.subplot(2,1,1)\n",
    "plt.tight_layout()\n",
    "plt.subplots_adjust(top=0.90)\n",
    "plt.ylim(0, 8)\n",
    "plt.xticks(rotation=90, ha='right')\n",
    "\n",
    "plt.scatter(class_predictions_table.index, class_predictions_table.Actual, marker='o', color='b', label='Actual')\n",
    "plt.scatter(class_predictions_table.index, class_predictions_table.Prediction, marker='x', color='r', label='Prediction')\n",
    "\n",
    "plt.title('Predicting Animal Class',color='k', size=14, weight='bold')\n",
    "plt.xlabel(\"Animal\")\n",
    "plt.ylabel('Class')\n",
    "plt.legend(loc=\"best\")\n",
    "plt.grid(alpha=0.5)\n",
    "\n",
    "# plt.savefig('../resources/logreg.png', dpi=fig.dpi)\n",
    "plt.show()\n"
   ]
  },
  {
   "cell_type": "code",
   "execution_count": null,
   "metadata": {},
   "outputs": [],
   "source": [
    "#Plot Residuals\n",
    "xtest_shaped = predictions_logreg.reshape(-1, 1)\n",
    "ytest_shaped = y_test.values.reshape(-1,1)\n",
    "\n",
    "xtrain = classifier.predict(X_train)\n",
    "xtrain_shaped = xtrain.reshape(-1, 1)\n",
    "ytrain_shaped = y_train.values.reshape(-1,1)\n",
    "\n",
    "fig = plt.figure(figsize=(20,8))\n",
    "plt.subplot(2,1,1)\n",
    "plt.tight_layout()\n",
    "plt.subplots_adjust(top=0.90)\n",
    "\n",
    "plt.scatter(xtest_shaped, ytest_shaped - xtest_shaped, c=\"orange\", label=\"Testing Data\")\n",
    "plt.scatter(xtrain_shaped, ytrain_shaped - xtrain_shaped, c=\"blue\", label=\"Training Data\")\n",
    "plt.legend()\n",
    "plt.hlines(y=0, xmin=xtest_shaped.min(), xmax=xtest_shaped.max())\n",
    "plt.title('Residual Plot',color='k', size=14, weight='bold')\n",
    "\n",
    "# plt.savefig('../resources/residual.png', dpi=fig.dpi)\n",
    "plt.show()"
   ]
  },
  {
   "cell_type": "code",
   "execution_count": null,
   "metadata": {},
   "outputs": [],
   "source": [
    "# Classification Report\n",
    "from sklearn.metrics import classification_report\n",
    "print(classification_report(y_test, predictions_logreg))"
   ]
  },
  {
   "cell_type": "markdown",
   "metadata": {},
   "source": [
    "#### Logistic Regression Scaled"
   ]
  },
  {
   "cell_type": "code",
   "execution_count": null,
   "metadata": {},
   "outputs": [],
   "source": [
    "# Min Max Scaler\n",
    "from sklearn.preprocessing import MinMaxScaler\n",
    "\n",
    "X_scaler = MinMaxScaler().fit(X_train)\n",
    "\n",
    "X_train_scaled = X_scaler.transform(X_train)\n",
    "X_test_scaled = X_scaler.transform(X_test)"
   ]
  },
  {
   "cell_type": "code",
   "execution_count": null,
   "metadata": {},
   "outputs": [],
   "source": [
    "# Fit model with scaled data\n",
    "classifier_scaled = LogisticRegression(max_iter=500)\n",
    "classifier_scaled.fit(X_train_scaled, y_train)"
   ]
  },
  {
   "cell_type": "code",
   "execution_count": null,
   "metadata": {},
   "outputs": [],
   "source": [
    "print(f\"Training score: {classifier_scaled.score(X_train_scaled, y_train)}\")\n",
    "print(f\"Testing score: {classifier_scaled.score(X_test_scaled, y_test)}\")"
   ]
  },
  {
   "cell_type": "code",
   "execution_count": null,
   "metadata": {},
   "outputs": [],
   "source": [
    "# Print predictions of chosen animals\n",
    "print(f\"Predictions\")\n",
    "print(f\"Kangaroo: {classifier_scaled.predict(kangaroo)}\")\n",
    "print(f\"Bald Eagle: {classifier_scaled.predict(bald_eagle)}\")\n",
    "print(f\"Rattle Snake: {classifier_scaled.predict(rattle_snake)}\")\n",
    "print(f\"Goldfish: {classifier_scaled.predict(goldfish)}\")\n",
    "print(f\"Mountain Chicken Frog: {classifier_scaled.predict(mountain_chicken_frog)}\")\n",
    "print(f\"Vampire Moth: {classifier_scaled.predict(vampire_moth)}\")\n",
    "print(f\"Coral: {classifier_scaled.predict(coral)}\")\n",
    "print(f\"Sea Turtle: {classifier_scaled.predict(sea_turtle)}\")"
   ]
  },
  {
   "cell_type": "code",
   "execution_count": null,
   "metadata": {},
   "outputs": [],
   "source": [
    "# Print predictions for test data\n",
    "predictions_logreg_scaled = classifier_scaled.predict(X_test)\n",
    "class_predictions_table_scaled = pd.DataFrame({\"Prediction\": predictions_logreg_scaled, \"Actual\": y_test})\n",
    "class_predictions_table_scaled.head()"
   ]
  },
  {
   "cell_type": "code",
   "execution_count": null,
   "metadata": {},
   "outputs": [],
   "source": [
    "#Create the scatter plot of actual and predictions\n",
    "fig = plt.figure(figsize=(20,8))\n",
    "plt.subplot(2,1,1)\n",
    "plt.tight_layout()\n",
    "plt.subplots_adjust(top=0.90)\n",
    "\n",
    "plt.ylim(0, 8)\n",
    "plt.xticks(rotation=90, ha='right')\n",
    "plt.scatter(class_predictions_table_scaled.index, class_predictions_table_scaled.Actual, marker='o', color='b', label='Actual')\n",
    "plt.scatter(class_predictions_table_scaled.index, class_predictions_table_scaled.Prediction, marker='x', color='r', label='Prediction')\n",
    "plt.title('Min Max Scaler Predicting Animal Class',color='k', size=14, weight='bold')\n",
    "plt.xlabel(\"Animal\")\n",
    "plt.ylabel('Class')\n",
    "plt.legend(loc=\"best\")\n",
    "plt.grid(alpha=0.5)\n",
    "\n",
    "# plt.savefig('../resources/minmaxlogreg.png', dpi=fig.dpi)\n",
    "plt.show()"
   ]
  },
  {
   "cell_type": "code",
   "execution_count": null,
   "metadata": {},
   "outputs": [],
   "source": [
    "#Plot Residuals\n",
    "xtest_shaped = predictions_logreg_scaled.reshape(-1, 1)\n",
    "ytest_shaped = y_test.values.reshape(-1,1)\n",
    "\n",
    "xtrain = classifier_scaled.predict(X_train)\n",
    "xtrain_shaped = xtrain.reshape(-1, 1)\n",
    "ytrain_shaped = y_train.values.reshape(-1,1)\n",
    "\n",
    "fig = plt.figure(figsize=(20,8))\n",
    "plt.subplot(2,1,1)\n",
    "plt.tight_layout()\n",
    "plt.subplots_adjust(top=0.90)\n",
    "\n",
    "plt.scatter(xtest_shaped, ytest_shaped - xtest_shaped, c=\"orange\", label=\"Testing Data\")\n",
    "plt.scatter(xtrain_shaped, ytrain_shaped - xtrain_shaped, c=\"blue\", label=\"Training Data\")\n",
    "plt.legend()\n",
    "plt.hlines(y=0, xmin=xtest_shaped.min(), xmax=xtest_shaped.max())\n",
    "plt.title('Min Max Scaler Residual Plot',color='k', size=14, weight='bold')\n",
    "\n",
    "# plt.savefig('../resources/minmaxresidual.png', dpi=fig.dpi)\n",
    "plt.show()"
   ]
  },
  {
   "cell_type": "code",
   "execution_count": null,
   "metadata": {},
   "outputs": [],
   "source": [
    "# Classification Report\n",
    "print(classification_report(y_test, predictions_logreg_scaled))"
   ]
  },
  {
   "cell_type": "markdown",
   "metadata": {},
   "source": [
    "### Random Forest "
   ]
  },
  {
   "cell_type": "code",
   "execution_count": null,
   "metadata": {},
   "outputs": [],
   "source": [
    "from sklearn.ensemble import RandomForestClassifier\n",
    "rf = RandomForestClassifier(n_estimators=50)\n",
    "rf = rf.fit(X_train, y_train)\n",
    "rf.score(X_train, y_train)"
   ]
  },
  {
   "cell_type": "code",
   "execution_count": null,
   "metadata": {},
   "outputs": [],
   "source": [
    "print(f\"Training score: {rf.score(X_train, y_train)}\")\n",
    "print(f\"Testing score: {rf.score(X_test, y_test)}\")"
   ]
  },
  {
   "cell_type": "code",
   "execution_count": null,
   "metadata": {},
   "outputs": [],
   "source": [
    "# Print predictions for chosen animals\n",
    "print(f\"Predictions\")\n",
    "print(f\"Kangaroo: {rf.predict(kangaroo)}\")\n",
    "print(f\"Bald Eagle: {rf.predict(bald_eagle)}\")\n",
    "print(f\"Rattle Snake: {rf.predict(rattle_snake)}\")\n",
    "print(f\"Goldfish: {rf.predict(goldfish)}\")\n",
    "print(f\"Mountain Chicken Frog: {rf.predict(mountain_chicken_frog)}\")\n",
    "print(f\"Vampire Moth: {rf.predict(vampire_moth)}\")\n",
    "print(f\"Coral: {rf.predict(coral)}\")\n",
    "print(f\"Sea Turtle: {rf.predict(sea_turtle)}\")"
   ]
  },
  {
   "cell_type": "code",
   "execution_count": null,
   "metadata": {},
   "outputs": [],
   "source": [
    "# Print predictions for test set\n",
    "predictions_rf = rf.predict(X_test)\n",
    "rf_predictions_table = pd.DataFrame({\"Prediction\": predictions_rf, \"Actual\": y_test})\n",
    "rf_predictions_table.head()"
   ]
  },
  {
   "cell_type": "code",
   "execution_count": null,
   "metadata": {
    "scrolled": true
   },
   "outputs": [],
   "source": [
    "# Feature importances\n",
    "importances_rf = rf.feature_importances_\n",
    "importances_rf"
   ]
  },
  {
   "cell_type": "code",
   "execution_count": null,
   "metadata": {},
   "outputs": [],
   "source": [
    "# Classification Report\n",
    "print(classification_report(y_test, predictions_rf))"
   ]
  },
  {
   "cell_type": "code",
   "execution_count": null,
   "metadata": {},
   "outputs": [],
   "source": [
    "#Create the scatter plot of actual and predictions\n",
    "fig_rf = plt.figure(figsize=(20,8))\n",
    "plt.subplot(2,1,1)\n",
    "plt.tight_layout()\n",
    "plt.subplots_adjust(top=0.90)\n",
    "plt.ylim(0, 8)\n",
    "plt.xticks(rotation=90, ha='right')\n",
    "\n",
    "plt.scatter(rf_predictions_table.index, rf_predictions_table.Actual, marker='o', color='b', label='Actual')\n",
    "plt.scatter(rf_predictions_table.index, rf_predictions_table.Prediction, marker='x', color='r', label='Prediction')\n",
    "\n",
    "plt.title('Predicting Animal Class',color='k', size=14, weight='bold')\n",
    "plt.xlabel(\"Animal\")\n",
    "plt.ylabel('Class')\n",
    "plt.legend(loc=\"best\")\n",
    "plt.grid(alpha=0.5)\n",
    "\n",
    "# plt.savefig('../resources/rf.png', dpi=fig_rf.dpi)\n",
    "plt.show()\n"
   ]
  },
  {
   "cell_type": "code",
   "execution_count": null,
   "metadata": {},
   "outputs": [],
   "source": [
    "#Plot Residuals\n",
    "rf_xtest_shaped = predictions_rf.reshape(-1, 1)\n",
    "rf_ytest_shaped = y_test.values.reshape(-1,1)\n",
    "\n",
    "rf_xtrain = rf.predict(X_train)\n",
    "rf_xtrain_shaped = rf_xtrain.reshape(-1, 1)\n",
    "rf_ytrain_shaped = y_train.values.reshape(-1,1)\n",
    "\n",
    "rf_res_fig = plt.figure(figsize=(20,8))\n",
    "plt.subplot(2,1,1)\n",
    "plt.tight_layout()\n",
    "plt.subplots_adjust(top=0.90)\n",
    "\n",
    "plt.scatter(rf_xtest_shaped, rf_ytest_shaped - rf_xtest_shaped, c=\"orange\", label=\"Testing Data\")\n",
    "plt.scatter(rf_xtrain_shaped, rf_ytrain_shaped - rf_xtrain_shaped, c=\"blue\", label=\"Training Data\")\n",
    "plt.legend()\n",
    "plt.hlines(y=0, xmin=rf_xtest_shaped.min(), xmax=rf_xtest_shaped.max())\n",
    "plt.title('Residual Plot',color='k', size=14, weight='bold')\n",
    "\n",
    "# plt.savefig('../resources/rf_residual.png', dpi=rf_res_fig.dpi)\n",
    "plt.show()"
   ]
  },
  {
   "cell_type": "markdown",
   "metadata": {},
   "source": [
    "#### Random Forest Scaled"
   ]
  },
  {
   "cell_type": "code",
   "execution_count": null,
   "metadata": {},
   "outputs": [],
   "source": [
    "rf_scaled = RandomForestClassifier(n_estimators=50)\n",
    "rf_scaled = rf_scaled.fit(X_train_scaled, y_train)\n",
    "rf_scaled.score(X_train_scaled, y_train)"
   ]
  },
  {
   "cell_type": "code",
   "execution_count": null,
   "metadata": {},
   "outputs": [],
   "source": [
    "print(f\"Training score: {rf_scaled.score(X_train_scaled, y_train)}\")\n",
    "print(f\"Testing score: {rf_scaled.score(X_test_scaled, y_test)}\")"
   ]
  },
  {
   "cell_type": "code",
   "execution_count": null,
   "metadata": {},
   "outputs": [],
   "source": [
    "# Print predictions for chosen animals\n",
    "print(f\"Predictions\")\n",
    "print(f\"Kangaroo: {rf_scaled.predict(kangaroo)}\")\n",
    "print(f\"Bald Eagle: {rf_scaled.predict(bald_eagle)}\")\n",
    "print(f\"Rattle Snake: {rf_scaled.predict(rattle_snake)}\")\n",
    "print(f\"Goldfish: {rf_scaled.predict(goldfish)}\")\n",
    "print(f\"Mountain Chicken Frog: {rf_scaled.predict(mountain_chicken_frog)}\")\n",
    "print(f\"Vampire Moth: {rf_scaled.predict(vampire_moth)}\")\n",
    "print(f\"Coral: {rf_scaled.predict(coral)}\")\n",
    "print(f\"Sea Turtle: {rf_scaled.predict(sea_turtle)}\")"
   ]
  },
  {
   "cell_type": "code",
   "execution_count": null,
   "metadata": {
    "scrolled": true
   },
   "outputs": [],
   "source": [
    "# Print predictions for test data\n",
    "predictions_rf_scaled = rf_scaled.predict(X_test)\n",
    "rf_scaled_predictions_table = pd.DataFrame({\"Prediction\": predictions_rf_scaled, \"Actual\": y_test})\n",
    "rf_scaled_predictions_table.head()"
   ]
  },
  {
   "cell_type": "code",
   "execution_count": null,
   "metadata": {},
   "outputs": [],
   "source": [
    "# Classification Report\n",
    "print(classification_report(y_test, predictions_rf_scaled))"
   ]
  },
  {
   "cell_type": "code",
   "execution_count": null,
   "metadata": {},
   "outputs": [],
   "source": [
    "#Create the scatter plot of actual and predictions\n",
    "rf_scaled_fig = plt.figure(figsize=(20,8))\n",
    "plt.subplot(2,1,1)\n",
    "plt.tight_layout()\n",
    "plt.subplots_adjust(top=0.90)\n",
    "plt.ylim(0, 8)\n",
    "plt.xticks(rotation=90, ha='right')\n",
    "\n",
    "plt.scatter(rf_scaled_predictions_table.index, rf_scaled_predictions_table.Actual, marker='o', color='b', label='Actual')\n",
    "plt.scatter(rf_scaled_predictions_table.index, rf_scaled_predictions_table.Prediction, marker='x', color='r', label='Prediction')\n",
    "plt.title('Min Max Scaler Predicting Animal Class',color='k', size=14, weight='bold')\n",
    "plt.xlabel(\"Animal\")\n",
    "plt.ylabel('Class')\n",
    "plt.legend(loc=\"best\")\n",
    "plt.grid(alpha=0.5)\n",
    "\n",
    "# plt.savefig('../resources/rf_minmax.png', dpi=rf_scaled_fig.dpi)\n",
    "plt.show()"
   ]
  },
  {
   "cell_type": "code",
   "execution_count": null,
   "metadata": {},
   "outputs": [],
   "source": [
    "#Plot Residuals\n",
    "rf_scaled_xtest_shaped = predictions_rf_scaled.reshape(-1, 1)\n",
    "rf_scaled_ytest_shaped = y_test.values.reshape(-1,1)\n",
    "\n",
    "rf_scaled_xtrain = rf_scaled.predict(X_train)\n",
    "rf_scaled_xtrain_shaped = rf_scaled_xtrain.reshape(-1, 1)\n",
    "rf_scaled_ytrain_shaped = y_train.values.reshape(-1,1)\n",
    "\n",
    "rf_scaled_res_fig = plt.figure(figsize=(20,8))\n",
    "plt.subplot(2,1,1)\n",
    "plt.tight_layout()\n",
    "plt.subplots_adjust(top=0.90)\n",
    "\n",
    "plt.scatter(rf_scaled_xtest_shaped, rf_scaled_ytest_shaped - rf_scaled_xtest_shaped, c=\"orange\", label=\"Testing Data\")\n",
    "plt.scatter(rf_scaled_xtrain_shaped, rf_scaled_ytrain_shaped - rf_scaled_xtrain_shaped, c=\"blue\", label=\"Training Data\")\n",
    "plt.legend()\n",
    "plt.hlines(y=0, xmin=rf_scaled_xtest_shaped.min(), xmax=rf_scaled_xtest_shaped.max())\n",
    "plt.title('Min Max Scaler Residual Plot',color='k', size=14, weight='bold')\n",
    "\n",
    "# plt.savefig('../resources/rf_minmax_residual.png', dpi=rf_scaled_res_fig.dpi)\n",
    "plt.show()"
   ]
  },
  {
   "cell_type": "markdown",
   "metadata": {},
   "source": [
    "### K Nearest Neighbor"
   ]
  },
  {
   "cell_type": "code",
   "execution_count": null,
   "metadata": {},
   "outputs": [],
   "source": [
    "from sklearn.neighbors import KNeighborsClassifier\n",
    "\n",
    "train_scores = []\n",
    "test_scores = []\n",
    "for k in range(1, 20, 2):\n",
    "    knn = KNeighborsClassifier(n_neighbors=k)\n",
    "    knn.fit(X_train, y_train)\n",
    "    train_score = knn.score(X_train, y_train)\n",
    "    test_score = knn.score(X_test, y_test)\n",
    "    train_scores.append(train_score)\n",
    "    test_scores.append(test_score)\n",
    "    print(f\"k: {k}, Train/Test Score: {train_score:.3f}/{test_score:.3f}\")"
   ]
  },
  {
   "cell_type": "code",
   "execution_count": null,
   "metadata": {},
   "outputs": [],
   "source": [
    "# Plot results for k\n",
    "plt.plot(range(1, 20, 2), train_scores, marker='o', color='#0b7090')\n",
    "plt.plot(range(1, 20, 2), test_scores, marker=\"x\", color='#c89124')\n",
    "plt.xlabel(\"k neighbors\")\n",
    "plt.ylabel(\"Testing accuracy Score\")\n",
    "plt.title(\"Accuracy Score for Various K Values\")\n",
    "plt.legend(['Training Data', 'Testing Data'])\n",
    "#plt.savefig('../resources/knn_kscores.png', dpi=fig.dpi)\n",
    "plt.show()"
   ]
  },
  {
   "cell_type": "code",
   "execution_count": null,
   "metadata": {},
   "outputs": [],
   "source": [
    "# Run KNN on k=11\n",
    "knn = KNeighborsClassifier(n_neighbors=11)\n",
    "knn.fit(X_train, y_train)\n",
    "print('k=11 Train Acc: %.3f' % knn.score(X_train, y_train))\n",
    "print('k=11 Test Acc: %.3f' % knn.score(X_test, y_test))"
   ]
  },
  {
   "cell_type": "code",
   "execution_count": null,
   "metadata": {},
   "outputs": [],
   "source": [
    "# Print predictions for chosen animals\n",
    "print(f\"Predictions\")\n",
    "print(f\"Kangaroo: {knn.predict(kangaroo)}\")\n",
    "print(f\"Bald Eagle: {knn.predict(bald_eagle)}\")\n",
    "print(f\"Rattle Snake: {knn.predict(rattle_snake)}\")\n",
    "print(f\"Goldfish: {knn.predict(goldfish)}\")\n",
    "print(f\"Mountain Chicken Frog: {knn.predict(mountain_chicken_frog)}\")\n",
    "print(f\"Vampire Moth: {knn.predict(vampire_moth)}\")\n",
    "print(f\"Coral: {knn.predict(coral)}\")\n",
    "print(f\"Sea Turtle: {knn.predict(sea_turtle)}\")"
   ]
  },
  {
   "cell_type": "code",
   "execution_count": null,
   "metadata": {},
   "outputs": [],
   "source": [
    "# Print predictions for test set\n",
    "predictions_knn = knn.predict(X_test)\n",
    "knn_predictions_table = pd.DataFrame({\"Prediction\": predictions_knn, \"Actual\": y_test})\n",
    "knn_predictions_table.head()"
   ]
  },
  {
   "cell_type": "code",
   "execution_count": null,
   "metadata": {},
   "outputs": [],
   "source": [
    "# Classification Report\n",
    "print(classification_report(y_test, predictions_knn))"
   ]
  },
  {
   "cell_type": "code",
   "execution_count": null,
   "metadata": {},
   "outputs": [],
   "source": [
    "#Create the scatter plot of actual and predictions\n",
    "knn_fig = plt.figure(figsize=(20,8))\n",
    "plt.subplot(2,1,1)\n",
    "plt.tight_layout()\n",
    "plt.subplots_adjust(top=0.90)\n",
    "plt.ylim(0, 8)\n",
    "plt.xticks(rotation=90, ha='right')\n",
    "\n",
    "plt.scatter(knn_predictions_table.index, knn_predictions_table.Actual, marker='o', color='b', label='Actual')\n",
    "plt.scatter(knn_predictions_table.index, knn_predictions_table.Prediction, marker='x', color='r', label='Prediction')\n",
    "\n",
    "plt.title('Predicting Animal Class',color='k', size=14, weight='bold')\n",
    "plt.xlabel(\"Animal\")\n",
    "plt.ylabel('Class')\n",
    "plt.legend(loc=\"best\")\n",
    "plt.grid(alpha=0.5)\n",
    "\n",
    "# plt.savefig('../resources/knn.png', dpi=knn_fig.dpi)\n",
    "plt.show()\n"
   ]
  },
  {
   "cell_type": "code",
   "execution_count": null,
   "metadata": {},
   "outputs": [],
   "source": [
    "#Plot Residuals\n",
    "knn_xtest_shaped = predictions_knn.reshape(-1, 1)\n",
    "knn_ytest_shaped = y_test.values.reshape(-1,1)\n",
    "\n",
    "knn_xtrain = knn.predict(X_train)\n",
    "knn_xtrain_shaped = knn_xtrain.reshape(-1, 1)\n",
    "knn_ytrain_shaped = y_train.values.reshape(-1,1)\n",
    "\n",
    "knn_res_fig = plt.figure(figsize=(20,8))\n",
    "plt.subplot(2,1,1)\n",
    "plt.tight_layout()\n",
    "plt.subplots_adjust(top=0.90)\n",
    "\n",
    "plt.scatter(knn_xtest_shaped, knn_ytest_shaped - knn_xtest_shaped, c=\"orange\", label=\"Testing Data\")\n",
    "plt.scatter(knn_xtrain_shaped, knn_ytrain_shaped - knn_xtrain_shaped, c=\"blue\", label=\"Training Data\")\n",
    "plt.legend()\n",
    "plt.hlines(y=0, xmin=knn_xtest_shaped.min(), xmax=knn_xtest_shaped.max())\n",
    "plt.title('Residual Plot',color='k', size=14, weight='bold')\n",
    "\n",
    "# plt.savefig('../resources/knn_residual.png', dpi=knn_res_fig.dpi)\n",
    "plt.show()"
   ]
  },
  {
   "cell_type": "markdown",
   "metadata": {},
   "source": [
    "#### K Nearest Neighbor Scaled"
   ]
  },
  {
   "cell_type": "code",
   "execution_count": null,
   "metadata": {},
   "outputs": [],
   "source": [
    "train_scores_scaled = []\n",
    "test_scores_scaled = []\n",
    "for k in range(1, 20, 2):\n",
    "    knn_scaled = KNeighborsClassifier(n_neighbors=k)\n",
    "    knn_scaled.fit(X_train_scaled, y_train)\n",
    "    train_score_scaled = knn_scaled.score(X_train_scaled, y_train)\n",
    "    test_score_scaled = knn_scaled.score(X_test_scaled, y_test)\n",
    "    train_scores_scaled.append(train_score_scaled)\n",
    "    test_scores_scaled.append(test_score_scaled)\n",
    "    print(f\"k: {k}, Train/Test Score: {train_score_scaled:.3f}/{test_score_scaled:.3f}\")"
   ]
  },
  {
   "cell_type": "code",
   "execution_count": null,
   "metadata": {},
   "outputs": [],
   "source": [
    "knn_scaled = KNeighborsClassifier(n_neighbors=11)\n",
    "knn_scaled.fit(X_train_scaled, y_train)\n",
    "print('k=11 Train Acc: %.3f' % knn_scaled.score(X_train_scaled, y_train))\n",
    "print('k=11 Test Acc: %.3f' % knn_scaled.score(X_test_scaled, y_test))"
   ]
  },
  {
   "cell_type": "code",
   "execution_count": null,
   "metadata": {},
   "outputs": [],
   "source": [
    "# Print predictions for chosen animals\n",
    "print(f\"Predictions\")\n",
    "print(f\"Kangaroo: {knn_scaled.predict(kangaroo)}\")\n",
    "print(f\"Bald Eagle: {knn_scaled.predict(bald_eagle)}\")\n",
    "print(f\"Rattle Snake: {knn_scaled.predict(rattle_snake)}\")\n",
    "print(f\"Goldfish: {knn_scaled.predict(goldfish)}\")\n",
    "print(f\"Mountain Chicken Frog: {knn_scaled.predict(mountain_chicken_frog)}\")\n",
    "print(f\"Vampire Moth: {knn_scaled.predict(vampire_moth)}\")\n",
    "print(f\"Coral: {knn_scaled.predict(coral)}\")\n",
    "print(f\"Sea Turtle: {knn_scaled.predict(sea_turtle)}\")"
   ]
  },
  {
   "cell_type": "code",
   "execution_count": null,
   "metadata": {},
   "outputs": [],
   "source": [
    "# Classification Report\n",
    "predictions_knn_scaled = knn_scaled.predict(X_test_scaled)\n",
    "print(classification_report(y_test, predictions_knn_scaled))"
   ]
  },
  {
   "cell_type": "code",
   "execution_count": null,
   "metadata": {},
   "outputs": [],
   "source": [
    "# Print predictions for test set\n",
    "predictions_knn_scaled = knn_scaled.predict(X_test)\n",
    "knn_scaled_predictions_table = pd.DataFrame({\"Prediction\": predictions_knn_scaled, \"Actual\": y_test})\n",
    "knn_scaled_predictions_table.head()"
   ]
  },
  {
   "cell_type": "code",
   "execution_count": null,
   "metadata": {},
   "outputs": [],
   "source": [
    "#Create the scatter plot of actual and predictions\n",
    "knn_scaled_fig = plt.figure(figsize=(20,8))\n",
    "plt.subplot(2,1,1)\n",
    "plt.tight_layout()\n",
    "plt.subplots_adjust(top=0.90)\n",
    "\n",
    "plt.ylim(0, 8)\n",
    "plt.xticks(rotation=90, ha='right')\n",
    "plt.scatter(knn_scaled_predictions_table.index, knn_scaled_predictions_table.Actual, marker='o', color='b', label='Actual')\n",
    "plt.scatter(knn_scaled_predictions_table.index, knn_scaled_predictions_table.Prediction, marker='x', color='r', label='Prediction')\n",
    "plt.title('Min Max Scaler Predicting Animal Class',color='k', size=14, weight='bold')\n",
    "plt.xlabel(\"Animal\")\n",
    "plt.ylabel('Class')\n",
    "plt.legend(loc=\"best\")\n",
    "plt.grid(alpha=0.5)\n",
    "\n",
    "# plt.savefig('../resources/knn_scaled.png', dpi=knn_scaled_fig.dpi)\n",
    "plt.show()"
   ]
  },
  {
   "cell_type": "code",
   "execution_count": null,
   "metadata": {},
   "outputs": [],
   "source": [
    "#Plot Residuals\n",
    "knn_scaled_xtest_shaped = predictions_knn_scaled.reshape(-1, 1)\n",
    "knn_scaled_ytest_shaped = y_test.values.reshape(-1,1)\n",
    "\n",
    "knn_scaled_xtrain = knn_scaled.predict(X_train)\n",
    "knn_scaled_xtrain_shaped = knn_scaled_xtrain.reshape(-1, 1)\n",
    "knn_scaled_ytrain_shaped = y_train.values.reshape(-1,1)\n",
    "\n",
    "knn_scaled_res_fig = plt.figure(figsize=(20,8))\n",
    "plt.subplot(2,1,1)\n",
    "plt.tight_layout()\n",
    "plt.subplots_adjust(top=0.90)\n",
    "\n",
    "plt.scatter(knn_scaled_xtest_shaped, knn_scaled_ytest_shaped - knn_scaled_xtest_shaped, c=\"orange\", label=\"Testing Data\")\n",
    "plt.scatter(knn_scaled_xtrain_shaped, knn_scaled_ytrain_shaped - knn_scaled_xtrain_shaped, c=\"blue\", label=\"Training Data\")\n",
    "plt.legend()\n",
    "plt.hlines(y=0, xmin=knn_scaled_xtest_shaped.min(), xmax=knn_scaled_xtest_shaped.max())\n",
    "plt.title('Min Max Scaler Residual Plot',color='k', size=14, weight='bold')\n",
    "\n",
    "# plt.savefig('../resources/knn_scaled_residual.png', dpi=knn_scaled_res_fig.dpi)\n",
    "plt.show()"
   ]
  },
  {
   "cell_type": "markdown",
   "metadata": {},
   "source": [
    "### Support Vector Machine"
   ]
  },
  {
   "cell_type": "code",
   "execution_count": null,
   "metadata": {},
   "outputs": [],
   "source": [
    "from sklearn.svm import SVC\n",
    "svm_model = SVC(kernel='linear')\n",
    "svm_model.fit(X_train, y_train)\n",
    "\n",
    "print('Train Acc: %.3f' % svm_model.score(X_train, y_train))\n",
    "print('Test Acc: %.3f' % svm_model.score(X_test, y_test))"
   ]
  },
  {
   "cell_type": "code",
   "execution_count": null,
   "metadata": {},
   "outputs": [],
   "source": [
    "predictions_svm = svm_model.predict(X_test)\n",
    "print(classification_report(y_test, predictions_svm,\n",
    "                            target_names=[\"1\",\"2\",\"3\",\"4\",\"5\",\"6\",\"7\"]))"
   ]
  },
  {
   "cell_type": "code",
   "execution_count": null,
   "metadata": {},
   "outputs": [],
   "source": [
    "#Train the parameters\n",
    "from sklearn.model_selection import GridSearchCV\n",
    "param_grid = {'C': [1, 5, 10, 50],\n",
    "              'gamma': [0.0001, 0.0005, 0.001, 0.005]}\n",
    "grid_svm = GridSearchCV(svm_model, param_grid, verbose=3)\n",
    "\n",
    "grid_svm.fit(X_train, y_train)"
   ]
  },
  {
   "cell_type": "code",
   "execution_count": null,
   "metadata": {},
   "outputs": [],
   "source": [
    "print(grid_svm.best_params_)\n",
    "print(grid_svm.best_score_)\n"
   ]
  },
  {
   "cell_type": "code",
   "execution_count": null,
   "metadata": {},
   "outputs": [],
   "source": [
    "# Print predictions for chosen animals\n",
    "print(f\"Predictions\")\n",
    "print(f\"Kangaroo: {svm_model.predict(kangaroo)}\")\n",
    "print(f\"Bald Eagle: {svm_model.predict(bald_eagle)}\")\n",
    "print(f\"Rattle Snake: {svm_model.predict(rattle_snake)}\")\n",
    "print(f\"Goldfish: {svm_model.predict(goldfish)}\")\n",
    "print(f\"Mountain Chicken Frog: {svm_model.predict(mountain_chicken_frog)}\")\n",
    "print(f\"Vampire Moth: {svm_model.predict(vampire_moth)}\")\n",
    "print(f\"Coral: {svm_model.predict(coral)}\")\n",
    "print(f\"Sea Turtle: {svm_model.predict(sea_turtle)}\")"
   ]
  },
  {
   "cell_type": "code",
   "execution_count": null,
   "metadata": {},
   "outputs": [],
   "source": [
    "# Print predictions for test set\n",
    "svm_predictions_table = pd.DataFrame({\"Prediction\": predictions_svm, \"Actual\": y_test})\n",
    "svm_predictions_table.head()"
   ]
  },
  {
   "cell_type": "code",
   "execution_count": null,
   "metadata": {},
   "outputs": [],
   "source": [
    "#Create the scatter plot of actual and predictions\n",
    "svm_fig = plt.figure(figsize=(20,8))\n",
    "plt.subplot(2,1,1)\n",
    "plt.tight_layout()\n",
    "plt.subplots_adjust(top=0.90)\n",
    "plt.ylim(0, 8)\n",
    "plt.xticks(rotation=90, ha='right')\n",
    "\n",
    "plt.scatter(svm_predictions_table.index, svm_predictions_table.Actual, marker='o', color='b', label='Actual')\n",
    "plt.scatter(svm_predictions_table.index, svm_predictions_table.Prediction, marker='x', color='r', label='Prediction')\n",
    "\n",
    "plt.title('Predicting Animal Class',color='k', size=14, weight='bold')\n",
    "plt.xlabel(\"Animal\")\n",
    "plt.ylabel('Class')\n",
    "plt.legend(loc=\"best\")\n",
    "plt.grid(alpha=0.5)\n",
    "\n",
    "# plt.savefig('../resources/svm.png', dpi=svm_fig.dpi)\n",
    "plt.show()"
   ]
  },
  {
   "cell_type": "code",
   "execution_count": null,
   "metadata": {},
   "outputs": [],
   "source": [
    "#Plot Residuals\n",
    "svm_xtest_shaped = predictions_svm.reshape(-1, 1)\n",
    "svm_ytest_shaped = y_test.values.reshape(-1,1)\n",
    "\n",
    "svm_xtrain = svm_model.predict(X_train)\n",
    "svm_xtrain_shaped = svm_xtrain.reshape(-1, 1)\n",
    "svm_ytrain_shaped = y_train.values.reshape(-1,1)\n",
    "\n",
    "svm_res_fig = plt.figure(figsize=(20,8))\n",
    "plt.subplot(2,1,1)\n",
    "plt.tight_layout()\n",
    "plt.subplots_adjust(top=0.90)\n",
    "\n",
    "plt.scatter(svm_xtest_shaped, svm_ytest_shaped - svm_xtest_shaped, c=\"orange\", label=\"Testing Data\")\n",
    "plt.scatter(svm_xtrain_shaped, svm_ytrain_shaped - svm_xtrain_shaped, c=\"blue\", label=\"Training Data\")\n",
    "plt.legend()\n",
    "plt.hlines(y=0, xmin=svm_xtest_shaped.min(), xmax=svm_xtest_shaped.max())\n",
    "plt.title('Residual Plot',color='k', size=14, weight='bold')\n",
    "\n",
    "# plt.savefig('../resources/svm_res.png', dpi=svm_res_fig.dpi)\n",
    "plt.show()"
   ]
  },
  {
   "cell_type": "markdown",
   "metadata": {},
   "source": [
    "#### Support Vector Machine Scaled"
   ]
  },
  {
   "cell_type": "code",
   "execution_count": null,
   "metadata": {},
   "outputs": [],
   "source": [
    "svm_model_scaled = SVC(kernel='linear')\n",
    "svm_model_scaled.fit(X_train_scaled, y_train)\n",
    "\n",
    "print('Train Acc: %.3f' % svm_model_scaled.score(X_train_scaled, y_train))\n",
    "print('Test Acc: %.3f' % svm_model_scaled.score(X_test_scaled, y_test))"
   ]
  },
  {
   "cell_type": "code",
   "execution_count": null,
   "metadata": {
    "scrolled": true
   },
   "outputs": [],
   "source": [
    "predictions_svm_scaled = svm_model_scaled.predict(X_test_scaled)\n",
    "print(classification_report(y_test, predictions_svm_scaled,\n",
    "                            target_names=[\"1\",\"2\",\"3\",\"4\",\"5\",\"6\",\"7\"]))"
   ]
  },
  {
   "cell_type": "code",
   "execution_count": null,
   "metadata": {},
   "outputs": [],
   "source": [
    "#Train the parameters\n",
    "param_grid_scaled = {'C': [1, 5, 10, 50],\n",
    "              'gamma': [0.0001, 0.0005, 0.001, 0.005]}\n",
    "grid_svm_scaled = GridSearchCV(svm_model, param_grid, verbose=3)\n",
    "\n",
    "grid_svm_scaled.fit(X_train_scaled, y_train)"
   ]
  },
  {
   "cell_type": "code",
   "execution_count": null,
   "metadata": {},
   "outputs": [],
   "source": [
    "print(grid_svm_scaled.best_params_)\n",
    "print(grid_svm_scaled.best_score_)"
   ]
  },
  {
   "cell_type": "code",
   "execution_count": null,
   "metadata": {},
   "outputs": [],
   "source": [
    "# Print predictions for chosen animals\n",
    "print(f\"Predictions\")\n",
    "print(f\"Kangaroo: {svm_model_scaled.predict(kangaroo)}\")\n",
    "print(f\"Bald Eagle: {svm_model_scaled.predict(bald_eagle)}\")\n",
    "print(f\"Rattle Snake: {svm_model_scaled.predict(rattle_snake)}\")\n",
    "print(f\"Goldfish: {svm_model_scaled.predict(goldfish)}\")\n",
    "print(f\"Mountain Chicken Frog: {svm_model_scaled.predict(mountain_chicken_frog)}\")\n",
    "print(f\"Vampire Moth: {svm_model_scaled.predict(vampire_moth)}\")\n",
    "print(f\"Coral: {svm_model_scaled.predict(coral)}\")\n",
    "print(f\"Sea Turtle: {svm_model_scaled.predict(sea_turtle)}\")"
   ]
  },
  {
   "cell_type": "code",
   "execution_count": null,
   "metadata": {},
   "outputs": [],
   "source": [
    "# Print predictions for test set\n",
    "svm_scaled_predictions_table = pd.DataFrame({\"Prediction\": predictions_svm_scaled, \"Actual\": y_test})\n",
    "svm_scaled_predictions_table.head()"
   ]
  },
  {
   "cell_type": "code",
   "execution_count": null,
   "metadata": {},
   "outputs": [],
   "source": [
    "#Create the scatter plot of actual and predictions\n",
    "svm_scaled_fig = plt.figure(figsize=(20,8))\n",
    "plt.subplot(2,1,1)\n",
    "plt.tight_layout()\n",
    "plt.subplots_adjust(top=0.90)\n",
    "\n",
    "plt.ylim(0, 8)\n",
    "plt.xticks(rotation=90, ha='right')\n",
    "plt.scatter(svm_scaled_predictions_table.index, svm_scaled_predictions_table.Actual, marker='o', color='b', label='Actual')\n",
    "plt.scatter(svm_scaled_predictions_table.index, svm_scaled_predictions_table.Prediction, marker='x', color='r', label='Prediction')\n",
    "plt.title('Min Max Scaler Predicting Animal Class',color='k', size=14, weight='bold')\n",
    "plt.xlabel(\"Animal\")\n",
    "plt.ylabel('Class')\n",
    "plt.legend(loc=\"best\")\n",
    "plt.grid(alpha=0.5)\n",
    "\n",
    "# plt.savefig('../resources/svm_scaled.png', dpi=svm_scaled_fig.dpi)\n",
    "plt.show()"
   ]
  },
  {
   "cell_type": "code",
   "execution_count": null,
   "metadata": {},
   "outputs": [],
   "source": [
    "#Plot Residuals\n",
    "svm_scaled_xtest_shaped = predictions_svm_scaled.reshape(-1, 1)\n",
    "svm_scaled_ytest_shaped = y_test.values.reshape(-1,1)\n",
    "\n",
    "svm_scaled_xtrain = svm_model_scaled.predict(X_train)\n",
    "svm_scaled_xtrain_shaped = svm_scaled_xtrain.reshape(-1, 1)\n",
    "svm_scaled_ytrain_shaped = y_train.values.reshape(-1,1)\n",
    "\n",
    "svm_scaled_res_fig = plt.figure(figsize=(20,8))\n",
    "plt.subplot(2,1,1)\n",
    "plt.tight_layout()\n",
    "plt.subplots_adjust(top=0.90)\n",
    "\n",
    "plt.scatter(svm_scaled_xtest_shaped, svm_scaled_ytest_shaped - svm_scaled_xtest_shaped, c=\"orange\", label=\"Testing Data\")\n",
    "plt.scatter(svm_scaled_xtrain_shaped, svm_scaled_ytrain_shaped - svm_scaled_xtrain_shaped, c=\"blue\", label=\"Training Data\")\n",
    "plt.legend()\n",
    "plt.hlines(y=0, xmin=svm_scaled_xtest_shaped.min(), xmax=svm_scaled_xtest_shaped.max())\n",
    "plt.title('Min Max Scaler Residual Plot',color='k', size=14, weight='bold')\n",
    "\n",
    "# plt.savefig('../resources/svm_scaled_res.png', dpi=svm_scaled_res_fig.dpi)\n",
    "plt.show()"
   ]
  },
  {
   "cell_type": "code",
   "execution_count": null,
   "metadata": {},
   "outputs": [],
   "source": []
  },
  {
   "cell_type": "raw",
   "metadata": {},
   "source": []
  }
 ],
 "metadata": {
  "kernelspec": {
   "display_name": "Python 3",
   "language": "python",
   "name": "python3"
  },
  "language_info": {
   "codemirror_mode": {
    "name": "ipython",
    "version": 3
   },
   "file_extension": ".py",
   "mimetype": "text/x-python",
   "name": "python",
   "nbconvert_exporter": "python",
   "pygments_lexer": "ipython3",
   "version": "3.6.12"
  }
 },
 "nbformat": 4,
 "nbformat_minor": 4
}
